{
 "cells": [
  {
   "cell_type": "markdown",
   "metadata": {},
   "source": [
    "### Python and SQL: intro / SQL platforms - 2019 Z\n",
    "\n",
    "\n",
    "### This material may not be copied or published elsewhere (including Facebook and other social media) without the  permission of the author!\n",
    "\n",
    "# Installing Jupyter using Anaconda \n",
    "\n",
    "Installing Python and Jupyter using the Anaconda Distribution is strongly recommended. \n",
    "Anaconda Distribution includes: \n",
    "- Python, \n",
    "- Jupyter Notebook, \n",
    "- other commonly used packages for scientific computing and data science\n",
    "\n",
    "#### Install Anaconda\n",
    "- First, download Anaconda from https://www.anaconda.com/download/. Choose Anaconda version, which is suitable for your system architecture (32/64 Bit). Downloading Anaconda’s Python 3.7 version is recommended.\n",
    "\n",
    "- Second, install the version of Anaconda, which you downloaded, following the instructions from the download page.\n",
    "\n",
    "#### Run Jupyter\n",
    "To run the Jupyter notebook, run the following command at the Terminal (Mac/Linux) or Command Prompt (Windows):\n",
    "- jupyter notebook <br>\n",
    "or \n",
    "- double-click the <b>start_jupyter.bat </b> file, which was delivered by instructor at the lab1.\n",
    "\n",
    "\n",
    "# Installing Pycharm\n",
    "\n",
    "\n",
    "- First, download Pycharm Community Edition installation package from https://www.jetbrains.com/pycharm/download/#section=windows.\n",
    "- Second, Run the downloaded file that starts the Installation Wizard.\n",
    "- Three, follow all steps suggested by the wizard.\n",
    "\n",
    "<img src=\"pycharm.png\"> "
   ]
  },
  {
   "cell_type": "markdown",
   "metadata": {},
   "source": [
    "# Setting up Anaconda in Pycharm\n",
    "\n",
    "#### Please take the following steps to set up Anaconda in Python:\n",
    "\n",
    "1. Click File in main window\n",
    "2. Click Settings…\n",
    "3. Click Project from left panel\n",
    "4. Choose Project Interpreter\n",
    "5. Set path to python.exe file in Anaconda folder (marked with red on image below)\n",
    "6. Now Pycharm will need a few minutes to update changes\n",
    "\n",
    "<img src=\"interpreter.png\">"
   ]
  },
  {
   "cell_type": "markdown",
   "metadata": {},
   "source": [
    "# String formating\n",
    "\n",
    "The alternative approach to string formating is based on the function format(). We use {value_index} to point the place in the string, where given value should be insterted."
   ]
  },
  {
   "cell_type": "code",
   "execution_count": 37,
   "metadata": {},
   "outputs": [
    {
     "name": "stdout",
     "output_type": "stream",
     "text": [
      "Student name=Artur, surname=Silver, age=22\n"
     ]
    }
   ],
   "source": [
    "nameValue='Artur'\n",
    "surnameValue='Silver'\n",
    "ageValue=22\n",
    "\n",
    "print(\"Student name={0}, surname={1}, age={2}\".format(nameValue,surnameValue,ageValue))"
   ]
  },
  {
   "cell_type": "markdown",
   "metadata": {},
   "source": [
    "# Functions\n",
    "Writing simple functions for better code organization and avoiding doing the same things many times is common during data analysis. Functions in Python are different from many other programming languages in two ways:\n",
    "* automatic packing of multiple returned values,\n",
    "* passing arguments by their name.\n",
    "\n",
    "See examples of functions below, starting from the simplest one:"
   ]
  },
  {
   "cell_type": "code",
   "execution_count": null,
   "metadata": {
    "collapsed": true
   },
   "outputs": [],
   "source": [
    "from math import pi\n",
    "# simple function with one required argument and one optional argument, which returns a number as a result\n",
    "def circle_surface(radius, pi = pi):\n",
    "    return pi * radius ** 2\n",
    "\n",
    "print(circle_surface(3))"
   ]
  },
  {
   "cell_type": "code",
   "execution_count": null,
   "metadata": {
    "collapsed": true
   },
   "outputs": [],
   "source": [
    "# You may want your function to calculate circumference and area of a circle\n",
    "def circle(radius, pi = pi):\n",
    "    return 2 * pi * radius, pi * radius ** 2\n",
    "print(\"Circumference and area of a circle with radius of 3: \", circle(3))\n",
    "# when you pass arguments with their names, you do not have to maintain order\n",
    "print(\"The same with arguments reversed: \", circle(pi = 3.1415, radius = 3))\n",
    "# you can unpack automatically packed results\n",
    "perimiter, surface = circle(pi = 3.1415, radius = 3)\n",
    "print(\"Circumference of a circle of radius 3:\", perimiter, \"area of this circle: \", surface)"
   ]
  },
  {
   "cell_type": "markdown",
   "metadata": {},
   "source": [
    "As you can see, everything is meant to be convenient and fast to type. Passing an argument with a name is particularly useful if a function has a lot of arguments with default values and you want to change only one of them.\n",
    "\n",
    "## Lambda (anonymous) functions\n",
    "Sometimes defining a function and putting it at the beginning of your script may seem not useful, e.g. because the function is very simple and you will not use it multiple times. This type of function has no advantage over standard function, and their use is often a matter of coding style. You may see it in other programmers' code, so it is good to know about it.\n",
    "\n",
    "Python supports the creation of anonymous functions (i.e. functions that are not bound to a name) at runtime, using a construct called \"lambda\"."
   ]
  },
  {
   "cell_type": "code",
   "execution_count": 40,
   "metadata": {},
   "outputs": [
    {
     "name": "stdout",
     "output_type": "stream",
     "text": [
      "28.26\n"
     ]
    }
   ],
   "source": [
    "pi=3.14\n",
    "f = lambda r: pi * r ** 2\n",
    "print(f(3))"
   ]
  },
  {
   "cell_type": "markdown",
   "metadata": {},
   "source": [
    "Function may also return another function. In this case using lambda function is convenient and makes code more readable."
   ]
  },
  {
   "cell_type": "code",
   "execution_count": 38,
   "metadata": {},
   "outputs": [
    {
     "name": "stdout",
     "output_type": "stream",
     "text": [
      "20.775623268698062\n",
      "20.221606648199447\n"
     ]
    }
   ],
   "source": [
    "def switchBMI(sex = \"M\"):\n",
    "    if sex == \"M\":\n",
    "        return lambda weight, height: weight / height ** 2\n",
    "    else:\n",
    "        return lambda weight, height: (weight - 2) / height ** 2\n",
    "BMI = switchBMI(\"M\")\n",
    "print(BMI(75, 1.90))\n",
    "BMI = switchBMI(\"F\")\n",
    "print(BMI(75, 1.90))"
   ]
  },
  {
   "cell_type": "markdown",
   "metadata": {},
   "source": [
    "## Lab Task"
   ]
  },
  {
   "cell_type": "markdown",
   "metadata": {},
   "source": [
    "Please write function,which finds root value of monotonic function on given interval. Input parameters: function formula,starting/ending point of interval. Use bisection method."
   ]
  },
  {
   "cell_type": "code",
   "execution_count": null,
   "metadata": {
    "collapsed": true
   },
   "outputs": [],
   "source": []
  },
  {
   "cell_type": "markdown",
   "metadata": {},
   "source": [
    "## Passing parameters\n",
    "\n",
    "Parameters are passed by:<br>\n",
    "- reference\n",
    "- value\n",
    "\n",
    "When using functions you have to remember that arguments in Python are passed by assignment (operator \"=\"). It means you have to know, how this operator works for a particular argument - whether it will be a copy or just a reference. Compare these two cells:"
   ]
  },
  {
   "cell_type": "code",
   "execution_count": null,
   "metadata": {
    "collapsed": true
   },
   "outputs": [],
   "source": [
    "def change_arg(arg_list):\n",
    "    print('Input inside the function: ', arg_list)\n",
    "    arg_list.append('black')\n",
    "    print('Change within function: ', arg_list)\n",
    "\n",
    "colors = [\"red\", \"blue\", \"green\"]\n",
    "\n",
    "print('Variable before function call: ', colors)\n",
    "change_arg(colors)\n",
    "print('Variable after function call: ', colors)"
   ]
  },
  {
   "cell_type": "code",
   "execution_count": null,
   "metadata": {},
   "outputs": [],
   "source": [
    "def change_arg(arg_list):\n",
    "    print('Input inside the function: ', arg_list)\n",
    "    arg_list = ['cyan', 'magenta', 'yellow']\n",
    "    print('Change within function: ', arg_list)\n",
    "\n",
    "colors = [\"red\", \"blue\", \"green\"]\n",
    "\n",
    "print('Variable before function call: ', colors)\n",
    "change_arg(colors)\n",
    "print('Variable after function call: ', colors)"
   ]
  },
  {
   "cell_type": "markdown",
   "metadata": {},
   "source": [
    "In the first case a reference was passed to the function. Using append() method you changed the content of what had been located at the given address. You did not try to change the argument itself (reference/address). Function has changed the content of what was outside function.\n",
    "\n",
    "In the second case a new list was assigned to the \"arg_list\" argument, so you tried to changed the passed argument, which was impossible. A function cannot change the argument outside function. The change was local only."
   ]
  },
  {
   "cell_type": "markdown",
   "metadata": {},
   "source": [
    "Every function in Python has access (read mode) to variables defined in the script. The example below is NOT consistent with best programming practices. However, knowledge about this may save some time if you want to get results as quickly as possible."
   ]
  },
  {
   "cell_type": "code",
   "execution_count": null,
   "metadata": {},
   "outputs": [],
   "source": [
    "multiplier = 5\n",
    "def circle_surface(radius, pi = pi):\n",
    "    return multiplier * pi * radius ** 2\n",
    "\n",
    "print(circle_surface(3))"
   ]
  },
  {
   "cell_type": "markdown",
   "metadata": {},
   "source": [
    "## Dynamic list of arguments\n",
    "Python allows you to write a function which takes an unspecified number of arguments. It may be a list (operator - \\*) or a dictionary (operator - \\*\\*). The naming convention is \\*args and \\*\\*kwargs, respectively. Even though in structured programming it is rarely used, in object-oriented programming it is very useful, e.g. for expanding an existing class. This is why you may find it often looking at code of existing libraries."
   ]
  },
  {
   "cell_type": "code",
   "execution_count": null,
   "metadata": {
    "collapsed": true
   },
   "outputs": [],
   "source": [
    "def printArgs(*args):\n",
    "    for arg in args:\n",
    "        print(arg)\n",
    "\n",
    "printArgs(\"red\", \"blue\", \"green\")"
   ]
  },
  {
   "cell_type": "code",
   "execution_count": null,
   "metadata": {
    "collapsed": true
   },
   "outputs": [],
   "source": [
    "def printKwargs(**kwargs):\n",
    "    for name, value in kwargs.items():\n",
    "        print(name, value)\n",
    "\n",
    "printKwargs(height = 1.92, age = 32, name = \"Maciej\")"
   ]
  },
  {
   "cell_type": "markdown",
   "metadata": {},
   "source": [
    "## Classes\\Objects \n",
    "\n",
    "Class: A category of objects. The class defines all the common properties (attributes and methods) of the different objects that belong to it.\n",
    "Objects, which are created basing on the definition of particular classes are one of the main features of object-oriented programming.   \n",
    "\n",
    "You may read about advantages and disadvantages of object-oriented programming here:\n",
    "* https://www.roberthalf.com/blog/salaries-and-skills/4-advantages-of-object-oriented-programming\n",
    "* https://softwareengineering.stackexchange.com/a/120038\n",
    "* http://www.freekpaans.nl/2015/06/exploring-the-essence-of-object-oriented-programming/\n",
    "\n",
    "Below there is an example of a simple class, which should make you understand the difference between class attributes and element (single instance of class) attributes."
   ]
  },
  {
   "cell_type": "code",
   "execution_count": 4,
   "metadata": {},
   "outputs": [],
   "source": [
    "class SimpleClass:\n",
    "    # Class attribute\n",
    "    i = 3\n",
    "    def __init__(self):\n",
    "        # Attribute of an instance of class\n",
    "        self.j = 7\n",
    "    def printMe(self):\n",
    "        print(self.j)"
   ]
  },
  {
   "cell_type": "markdown",
   "metadata": {},
   "source": [
    "We can change attributes of a single object in a way which does not modify other instances."
   ]
  },
  {
   "cell_type": "code",
   "execution_count": 5,
   "metadata": {},
   "outputs": [
    {
     "name": "stdout",
     "output_type": "stream",
     "text": [
      "3 3\n",
      "a.i=8,b.i=3,a.j=8,b.j=7\n"
     ]
    }
   ],
   "source": [
    "#below we create two object of class SimpleClass\n",
    "a = SimpleClass()\n",
    "b = SimpleClass()\n",
    "print(a.i, b.i)\n",
    "\n",
    "a.j = 8\n",
    "a.i=8\n",
    "print(\"a.i={0},b.i={1},a.j={2},b.j={3}\".format(a.i, b.i, a.j, b.j))"
   ]
  },
  {
   "cell_type": "markdown",
   "metadata": {},
   "source": [
    "The line below changes the definition of a class. All existing instances (objects) will be modified."
   ]
  },
  {
   "cell_type": "code",
   "execution_count": 7,
   "metadata": {},
   "outputs": [
    {
     "name": "stdout",
     "output_type": "stream",
     "text": [
      "a.i=1,b.i=5,a.j=8,b.j=7\n",
      "5 7\n"
     ]
    }
   ],
   "source": [
    "SimpleClass.i = 5\n",
    "print(\"a.i={0},b.i={1},a.j={2},b.j={3}\".format(a.i, b.i, a.j, b.j))\n",
    "\n",
    "# New objects will be created according to the modified instruttions.\n",
    "c = SimpleClass()\n",
    "print(c.i, c.j)"
   ]
  },
  {
   "cell_type": "markdown",
   "metadata": {},
   "source": [
    "However, if you try to assign a value to the same variable name (as attribute of an instance), \"i\" will become an instance attribute for object \"a\", but for other objects it will still be a class attribute."
   ]
  },
  {
   "cell_type": "code",
   "execution_count": 10,
   "metadata": {},
   "outputs": [
    {
     "name": "stdout",
     "output_type": "stream",
     "text": [
      "1 17 17 17\n",
      "a.i=1,b.i=17,c.i=17,d.i=17\n"
     ]
    }
   ],
   "source": [
    "#change attribute in \"a\"\n",
    "a.i = 1\n",
    "SimpleClass.i = 17\n",
    "d = SimpleClass()\n",
    "print(a.i, b.i, c.i, d.i)\n",
    "#variable \"a\" has its unique value of i-th attribute\n",
    "print(\"a.i={0},b.i={1},c.i={2},d.i={3}\".format(a.i, b.i, c.i, d.i))"
   ]
  },
  {
   "cell_type": "markdown",
   "metadata": {},
   "source": [
    "It is good to remember that instance attributes override and overwrite class attributes. Consider now the word \"self\" and see how class methods are called."
   ]
  },
  {
   "cell_type": "code",
   "execution_count": 17,
   "metadata": {
    "collapsed": true
   },
   "outputs": [],
   "source": [
    "class NewClass:\n",
    "    def __init__(self):\n",
    "        # Instance attribute\n",
    "        self.name = \"Tom\"\n",
    "    # Static function\n",
    "    @staticmethod\n",
    "    def hiStatic(name):\n",
    "        # Instance attribute\n",
    "        print(\"Hi \",name)\n",
    "   \n",
    "    def hi2(self):\n",
    "        print(\"Hi\")\n",
    "    \n",
    "    def personalized_hi(self):\n",
    "        print(\"Hi,\", self.name)"
   ]
  },
  {
   "cell_type": "code",
   "execution_count": 18,
   "metadata": {
    "collapsed": true
   },
   "outputs": [],
   "source": [
    "uczen = NewClass()"
   ]
  },
  {
   "cell_type": "markdown",
   "metadata": {},
   "source": [
    "Both lines of code in the cell below work in exactly the same way. Usually the first, shorter type is used. In practice every time when *instance.method()* gets called, a *class.method(instance)* gets called. It means that when you call a method of an instance, you call the method of a class and pass an object there."
   ]
  },
  {
   "cell_type": "code",
   "execution_count": 19,
   "metadata": {},
   "outputs": [
    {
     "name": "stdout",
     "output_type": "stream",
     "text": [
      "Hi, Tom\n",
      "Hi, Tom\n"
     ]
    }
   ],
   "source": [
    "uczen.personalized_hi()\n",
    "NewClass.personalized_hi(uczen)\n"
   ]
  },
  {
   "cell_type": "markdown",
   "metadata": {},
   "source": [
    "With <b> @staticmethods </b>, self (the object instance) is not implicitly passed as the first argument. <br> You are allowed to call a static function by calling a class method without passing arguments."
   ]
  },
  {
   "cell_type": "code",
   "execution_count": 16,
   "metadata": {},
   "outputs": [
    {
     "name": "stdout",
     "output_type": "stream",
     "text": [
      "Hi  Tom\n"
     ]
    }
   ],
   "source": [
    "NewClass.hiStatic(\"Tom\")"
   ]
  },
  {
   "cell_type": "markdown",
   "metadata": {},
   "source": [
    "Note that \"self\" is not a keyword in Python, but a widely used convention. The code below is correct, but writing such classes is strongly discouraged. Using of the word \"self\" in Python is so common and widespread, that some IDEs are based on its existence."
   ]
  },
  {
   "cell_type": "code",
   "execution_count": null,
   "metadata": {},
   "outputs": [],
   "source": [
    "class UglyClass:\n",
    "    def __init__(self):\n",
    "        self.name = \"Tom\"\n",
    "    def personalized_hi(anyWord):\n",
    "        print(\"Hi, \", anyWord.name)\n",
    "test = UglyClass()\n",
    "test.personalized_hi()"
   ]
  },
  {
   "cell_type": "markdown",
   "metadata": {},
   "source": [
    "You may read more about classes\\objects here: http://python-textbok.readthedocs.io/en/1.0/Classes.html"
   ]
  },
  {
   "cell_type": "markdown",
   "metadata": {
    "collapsed": true
   },
   "source": [
    "# Inheritence "
   ]
  },
  {
   "cell_type": "markdown",
   "metadata": {},
   "source": [
    "Every object-oriented programming language would not be worthy to look at or use, if it weren't to support inheritance.\n",
    "Python supports inheritance. Classes can inherit from other classes. A class can inherit attributes and behaviour methods from another class, called the superclass (base class or parent class) . A class which inherits from a superclass is called a subclass, also called heir class or child class."
   ]
  },
  {
   "cell_type": "code",
   "execution_count": null,
   "metadata": {
    "collapsed": true
   },
   "outputs": [],
   "source": [
    "class Animal:\n",
    "    #Constructor of the base class. We define all the fields(attributes) for given class below. \n",
    "    #Remeber to use self keyword before each attribute.\n",
    "    def __init__(self,animalTypeA,speciesA,nameA,widthA,heightA,weightA):\n",
    "        self.animalType=animalTypeA\n",
    "        self.species=speciesA\n",
    "        self.name=nameA\n",
    "        self.width=widthA\n",
    "        self.height=heightA\n",
    "        self.weight=weightA\n",
    "    #Class Animal contains two methods: makeVoice and PrintMe. In each method we should declare parameter self. \n",
    "    #The parameter self gives us access to the all fields/attributes in given class.  \n",
    "    def makeVoice(self):\n",
    "        print(\"Uknown voice\")\n",
    "    def printMe(self):\n",
    "        print(\"animalType: {0},species: {1}, name: {2},width: {3}, height: {4}, weight {5}\".format(self.animalType,self.species,self.name,self.width,self.height,self.weight))\n",
    "\n",
    "class Dog(Animal):\n",
    "    #Constructor of the child class.\n",
    "    def __init__(self,nameA,widthA,heightA,weightA,isChampionA):\n",
    "            #Here we call constructor of the baase class\n",
    "            Animal.__init__(self,\"Mammal\",\"Dog\",nameA,widthA,heightA,weightA)\n",
    "            #We set extra field of Dog class below\n",
    "            self.isChampion=isChampionA\n",
    "    #We override method makeVoice of the base class\n",
    "    def makeVoice(self):\n",
    "        print(\"{0} makes: Hauu\".format(self.name))\n",
    "        \n",
    "class Cat(Animal):\n",
    "    #Constructor of the child class.\n",
    "    def __init__(self,nameA,widthA,heightA,weightA):\n",
    "            #Here we call constructor of the baase class\n",
    "            Animal.__init__(self,\"Mammal\",\"Cat\",nameA,widthA,heightA,weightA)\n",
    "    #We override method makeVoice of the base class\n",
    "    def makeVoice(self):\n",
    "        print(\"{0} makes: Miauu\".format(self.name))"
   ]
  },
  {
   "cell_type": "markdown",
   "metadata": {},
   "source": [
    "# Polymorphism"
   ]
  },
  {
   "cell_type": "markdown",
   "metadata": {},
   "source": [
    "Polymorphism is a programming language feature that allows objects of one type to have one and the same interface, but different implementation of this interface. We present example below, where polimorhism allows us to invoke the method makeVoice for different animals in the list."
   ]
  },
  {
   "cell_type": "code",
   "execution_count": null,
   "metadata": {},
   "outputs": [],
   "source": [
    "dog1=Dog(\"Max\",20,60,12,True)\n",
    "cat1=Cat(\"Tom\",10,20,2)\n",
    "dog2=Dog(\"Rufus\",15,50,25,False)\n",
    "\n",
    "listAll=[]\n",
    "\n",
    "listAll.append(dog1)\n",
    "listAll.append(cat1)\n",
    "listAll.append(dog2)\n",
    "\n",
    "for item in listAll:\n",
    "    item.makeVoice()\n"
   ]
  },
  {
   "cell_type": "markdown",
   "metadata": {},
   "source": [
    "# Simple operations on 2d arrays "
   ]
  },
  {
   "cell_type": "markdown",
   "metadata": {},
   "source": [
    "The shortest way to define 2d array is following:"
   ]
  },
  {
   "cell_type": "code",
   "execution_count": 1,
   "metadata": {},
   "outputs": [
    {
     "name": "stdout",
     "output_type": "stream",
     "text": [
      "[[0, 0, 0, 0, 0, 0], [0, 0, 0, 0, 0, 0], [0, 0, 0, 0, 0, 0], [0, 0, 0, 0, 0, 0], [0, 0, 0, 0, 0, 0], [0, 0, 0, 0, 0, 0]]\n",
      "0\n"
     ]
    }
   ],
   "source": [
    "w, h = 6, 6;\n",
    "data = [[0 for x in range(w)] for y in range(h)]\n",
    "print(data)\n",
    "#print first element in the array\n",
    "print(data[0][0])\n"
   ]
  },
  {
   "cell_type": "markdown",
   "metadata": {},
   "source": [
    "Let's define class Matrix, which contains:\n",
    "- attributes/fields :\n",
    "        * data (two dimensional array)\n",
    "        * rowNr (number of rows)\n",
    "        * colNr (number of columns)\n",
    "- methods:\n",
    "        * Add (allows us to calculate the sum of two matrixes) \n",
    "        * PrintMe (prints all elements from data array)"
   ]
  },
  {
   "cell_type": "code",
   "execution_count": 6,
   "metadata": {},
   "outputs": [
    {
     "name": "stdout",
     "output_type": "stream",
     "text": [
      "Matrix1\n",
      "[1, 1, 1]\n",
      "[1, 1, 1]\n",
      "[1, 1, 1]\n",
      "Matrix2\n",
      "[1, 1, 1]\n",
      "[1, 1, 1]\n",
      "[1, 1, 1]\n",
      "Matrix3\n",
      "[2, 2, 2]\n",
      "[2, 2, 2]\n",
      "[2, 2, 2]\n"
     ]
    }
   ],
   "source": [
    "class Matrix:\n",
    "    \n",
    "    def __init__(self,rowNrA=6,colNrA=6,inputDataA=None):\n",
    "        self.rowNr=rowNrA\n",
    "        self.colNr=colNrA\n",
    "        \n",
    "        if(inputDataA==None):\n",
    "            self.data = [[0 for x in range(rowNrA)] for y in range(colNrA)]\n",
    "        else:\n",
    "            self.data=[]\n",
    "            for x in range(rowNrA):\n",
    "                row=[]\n",
    "                for y in range(colNrA): \n",
    "                    row.append(inputDataA[x*colNrA+y])\n",
    "                self.data.append(row)\n",
    "    \n",
    "    def Add(self,matrix2):\n",
    "        outMat=Matrix(self.rowNr,self.colNr)\n",
    "        for x in range(self.rowNr):\n",
    "            for y in range(self.colNr): \n",
    "                outMat.data[x][y]=self.data[x][y]+matrix2.data[x][y]\n",
    "        return outMat\n",
    "    \n",
    "    def PrintMe(self):\n",
    "        for x in range(self.rowNr):\n",
    "            print(self.data[x])\n",
    "        \n",
    "    \n",
    "data1=[1,1,1,1,1,1,1,1,1]\n",
    "data2=[1,1,1,1,1,1,1,1,1]\n",
    "matrix1=Matrix(3,3,data1)\n",
    "matrix2=Matrix(3,3,data2)\n",
    "matrix3=matrix1.Add(matrix2)\n",
    "\n",
    "print(\"Matrix1\")\n",
    "matrix1.PrintMe()\n",
    "\n",
    "print(\"Matrix2\")\n",
    "matrix2.PrintMe()\n",
    "\n",
    "print(\"Matrix3\")\n",
    "matrix3.PrintMe()\n"
   ]
  },
  {
   "cell_type": "markdown",
   "metadata": {},
   "source": [
    "## Operator overloading\n",
    "\n",
    "The code below presents how we can add new functionality to the operator (+) in class Matrix.\n"
   ]
  },
  {
   "cell_type": "code",
   "execution_count": 10,
   "metadata": {},
   "outputs": [
    {
     "name": "stdout",
     "output_type": "stream",
     "text": [
      "Matrix1\n",
      "[1, 1, 1]\n",
      "[1, 1, 1]\n",
      "[1, 1, 1]\n",
      "Matrix2\n",
      "[1, 1, 1]\n",
      "[1, 1, 1]\n",
      "[1, 1, 1]\n",
      "Matrix3\n",
      "[2, 2, 2]\n",
      "[2, 2, 2]\n",
      "[2, 2, 2]\n"
     ]
    }
   ],
   "source": [
    "class Matrix:\n",
    "    \n",
    "    def __init__(self,rowNrA=6,colNrA=6,inputDataA=None):\n",
    "        self.rowNr=rowNrA\n",
    "        self.colNr=colNrA\n",
    "        \n",
    "        if(inputDataA==None):\n",
    "            self.data = [[0 for x in range(rowNrA)] for y in range(colNrA)]\n",
    "        else:\n",
    "            self.data=[]\n",
    "            for x in range(rowNrA):\n",
    "                row=[]\n",
    "                for y in range(colNrA): \n",
    "                    row.append(inputDataA[x*colNrA+y])\n",
    "                self.data.append(row)\n",
    "    \n",
    "    def Add(self,matrix2):\n",
    "        outMat=Matrix(self.rowNr,self.colNr)\n",
    "        for x in range(self.rowNr):\n",
    "            for y in range(self.colNr): \n",
    "                outMat.data[x][y]=self.data[x][y]+matrix2.data[x][y]\n",
    "        return outMat\n",
    "    \n",
    "    def PrintMe(self):\n",
    "        for x in range(self.rowNr):\n",
    "            print(self.data[x])\n",
    "    #operator + is overloaded below \n",
    "    def __add__(self,other):    \n",
    "        row = len(self.data)\n",
    "        col = self.colNr\n",
    "        list0 = [0 for x in range(row*col)]\n",
    "        MatrixOut = Matrix(row,col,list0)\n",
    "        #iterate through all elements in first and second matrix, calculate their sum and\n",
    "        #put the sum into new object MaxtriOut\n",
    "        for r in range(row):\n",
    "            for c in range(col):\n",
    "                #get access to value of elem in r-row and c-column\n",
    "                MatrixOut.data[r][c] = self.data[r][c] + other.data[r][c]\n",
    "        return MatrixOut\n",
    "    \n",
    "data1=[1,1,1,1,1,1,1,1,1]\n",
    "data2=[1,1,1,1,1,1,1,1,1]\n",
    "matrix1=Matrix(3,3,data1)\n",
    "matrix2=Matrix(3,3,data2)\n",
    "matrix3=matrix1+matrix2\n",
    "\n",
    "print(\"Matrix1\")\n",
    "matrix1.PrintMe()\n",
    "\n",
    "print(\"Matrix2\")\n",
    "matrix2.PrintMe()\n",
    "\n",
    "print(\"Matrix3\")\n",
    "matrix3.PrintMe()\n"
   ]
  },
  {
   "cell_type": "markdown",
   "metadata": {},
   "source": [
    "## Lab Task\n",
    "\n",
    "Write code in Python which defines three classes as below:\n",
    "Calc\n",
    "    * attributes: name,producer,color,memList\n",
    "    * methods: Add,Substract,Divide,Multiply,PrintResults\n",
    "ScientificCalc:\n",
    "    * attributes: name,producer,color,memList,version\n",
    "    * methods: Add,Substract,Divide,Multiply,PrintResults,Log(a),Pow(a,b)\n",
    "ExtraCalc:\n",
    "     * attributes: name,producer,color,memList,ownerName,\n",
    "     * methods: Add,Substract,Divide,Multiply,PrintResult.GetMinRes(),GetMeanRes(),GetStdRes()\n",
    "Create two objects of each class and present their functionality."
   ]
  },
  {
   "cell_type": "code",
   "execution_count": 1,
   "metadata": {
    "collapsed": true
   },
   "outputs": [],
   "source": [
    "#write code below"
   ]
  },
  {
   "cell_type": "markdown",
   "metadata": {},
   "source": [
    "## Profiling\n",
    "When code is too slow or slower than expected, it is a good idea to measure its performance precisely, and in the case of more complicated functions - profile its elements. Notebook has convenient built-in tools:  %timeit, %%timeit, %prun (there are other commands, more information below).\n",
    "\n",
    "Look at the following examples:"
   ]
  },
  {
   "cell_type": "code",
   "execution_count": 2,
   "metadata": {},
   "outputs": [],
   "source": [
    "import math\n",
    "# A function with multiple steps.\n",
    "x = list(range(10000))\n",
    "def complexFunction(x):\n",
    "    results = []\n",
    "    for k in x:\n",
    "        if k >= 500:\n",
    "            results.append(math.sin(k))\n",
    "        else:\n",
    "            results.append(math.cos(k))\n",
    "    for i in results:\n",
    "        i = math.pow(i, 2)\n",
    "        \n",
    "    for i in range(len(results)):\n",
    "        results[i] = math.pow(results[i], 2)\n",
    "    return results"
   ]
  },
  {
   "cell_type": "code",
   "execution_count": 3,
   "metadata": {},
   "outputs": [
    {
     "name": "stdout",
     "output_type": "stream",
     "text": [
      "17.9 ms ± 1.37 ms per loop (mean ± std. dev. of 7 runs, 100 loops each)\n",
      "18.2 ms ± 251 µs per loop (mean ± std. dev. of 7 runs, 57 loops each)\n"
     ]
    }
   ],
   "source": [
    "# Mean execution time\n",
    "%timeit complexFunction(x)\n",
    "# Mean execution time with a specified number of loops\n",
    "%timeit -n 57 complexFunction(x)"
   ]
  },
  {
   "cell_type": "code",
   "execution_count": null,
   "metadata": {
    "collapsed": true
   },
   "outputs": [],
   "source": [
    "%%timeit\n",
    "# %%timeit allows you to measure execution time of a whole cell\n",
    "x = list(range(10000))\n",
    "complexFunction(x)"
   ]
  },
  {
   "cell_type": "code",
   "execution_count": null,
   "metadata": {
    "collapsed": true
   },
   "outputs": [],
   "source": [
    "%prun complexFunction(x)\n",
    "# this line magic opens a window in the bottom of the site with detailed information\n",
    "# how many times every function has been called and how much time it has taken"
   ]
  },
  {
   "cell_type": "code",
   "execution_count": null,
   "metadata": {
    "collapsed": true
   },
   "outputs": [],
   "source": [
    "%%prun\n",
    "# You may profile a whole cell, if your code has multiple lines.\n",
    "# You do not have to make a function of a cell to measure its performance.\n",
    "y = complexFunction(x)\n",
    "complexFunction(y)"
   ]
  },
  {
   "cell_type": "markdown",
   "metadata": {},
   "source": [
    "You may see other line magics in Notebook and read more on: http://ipython.readthedocs.io/en/stable/interactive/magics.html"
   ]
  },
  {
   "cell_type": "code",
   "execution_count": null,
   "metadata": {
    "collapsed": true
   },
   "outputs": [],
   "source": [
    "%lsmagic"
   ]
  }
 ],
 "metadata": {
  "kernelspec": {
   "display_name": "Python 3",
   "language": "python",
   "name": "python3"
  },
  "language_info": {
   "codemirror_mode": {
    "name": "ipython",
    "version": 3
   },
   "file_extension": ".py",
   "mimetype": "text/x-python",
   "name": "python",
   "nbconvert_exporter": "python",
   "pygments_lexer": "ipython3",
   "version": "3.7.3"
  }
 },
 "nbformat": 4,
 "nbformat_minor": 2
}
