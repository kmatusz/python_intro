{
 "cells": [
  {
   "cell_type": "code",
   "execution_count": 22,
   "metadata": {},
   "outputs": [
    {
     "name": "stdout",
     "output_type": "stream",
     "text": [
      "Tom\n",
      "Tom\n",
      "Tom\n",
      "Tom\n",
      "Tom\n",
      "\n",
      "Tom id_0 is ok\n",
      "Tom id_1 is ok\n",
      "Tom id_2 is ok\n",
      "Tom id_3 is ok\n",
      "Tom id_4 is ok\n",
      "\n",
      "Tom id_0 is ok and his color is black\n",
      "Tom id_1 is ok and his color is blue\n",
      "Tom id_2 is ok and his color is yellow\n",
      "Tom id_3 is ok and his color is green\n",
      "Tom id_4 is ok and his color is white\n"
     ]
    }
   ],
   "source": [
    "for i in range(5):\n",
    "    print(\"Tom\")\n",
    "    \n",
    "print()\n",
    "for i in range(5):\n",
    "    print(\"Tom id_{0} is ok\".format(i))\n",
    "\n",
    "print()\n",
    "colors = [\"black\", \"blue\", \"yellow\", \"green\", \"white\"]   \n",
    "for i in range(5):\n",
    "    print(\"Tom id_{0} is ok and his color is {1}\".format(i, colors[i]))"
   ]
  },
  {
   "cell_type": "markdown",
   "metadata": {},
   "source": [
    "Lab 3\n"
   ]
  },
  {
   "cell_type": "code",
   "execution_count": 50,
   "metadata": {},
   "outputs": [],
   "source": [
    "listA = [\"Tom\", \"Ann\", \"Alex\"]\n",
    "pattern = \"Ann\""
   ]
  },
  {
   "cell_type": "code",
   "execution_count": 51,
   "metadata": {},
   "outputs": [],
   "source": [
    "def find_me(names_list, pattern):\n",
    "    for i, value in enumerate(names_list):\n",
    "        if value == pattern:\n",
    "            return i\n",
    "    return -1"
   ]
  },
  {
   "cell_type": "code",
   "execution_count": 52,
   "metadata": {},
   "outputs": [
    {
     "data": {
      "text/plain": [
       "1"
      ]
     },
     "execution_count": 52,
     "metadata": {},
     "output_type": "execute_result"
    }
   ],
   "source": [
    "find_me(listA, pattern)"
   ]
  },
  {
   "cell_type": "code",
   "execution_count": 49,
   "metadata": {},
   "outputs": [],
   "source": [
    "def bisection(fun, a, b, eps):\n",
    "    c = (a+b)/2\n",
    "\n",
    "    fun_a = fun(a)\n",
    "    fun_b = fun(b)\n",
    "    fun_c = fun(c)\n",
    "\n",
    "    while abs(fun_c)>eps:\n",
    "        fun_a = fun(a)\n",
    "        fun_b = fun(b)\n",
    "        fun_c = fun(c)\n",
    "\n",
    "        if(fun_c * fun_b < 0):\n",
    "            a = c\n",
    "        else: \n",
    "            b = c\n",
    "\n",
    "        c = (a+b)/2\n",
    "        #print(fun_a, fun_b, fun_c)\n",
    "    return c\n",
    "    "
   ]
  },
  {
   "cell_type": "code",
   "execution_count": 52,
   "metadata": {},
   "outputs": [
    {
     "data": {
      "text/plain": [
       "-3.000002861022949"
      ]
     },
     "execution_count": 52,
     "metadata": {},
     "output_type": "execute_result"
    }
   ],
   "source": [
    "bisection(lambda x: x+3, -6, 3, 0.00001)"
   ]
  },
  {
   "cell_type": "markdown",
   "metadata": {},
   "source": [
    "### Losowe"
   ]
  },
  {
   "cell_type": "code",
   "execution_count": 67,
   "metadata": {},
   "outputs": [],
   "source": [
    "class MyClass():\n",
    "    i = 1\n",
    "    \n",
    "    def __init__(self, j):\n",
    "        self.j = j"
   ]
  },
  {
   "cell_type": "code",
   "execution_count": 68,
   "metadata": {},
   "outputs": [],
   "source": [
    "a = MyClass(8)\n",
    "b = MyClass(9)"
   ]
  },
  {
   "cell_type": "code",
   "execution_count": 69,
   "metadata": {},
   "outputs": [
    {
     "name": "stdout",
     "output_type": "stream",
     "text": [
      "1\n",
      "1\n"
     ]
    }
   ],
   "source": [
    "print(a.i)\n",
    "print(b.i)\n"
   ]
  },
  {
   "cell_type": "code",
   "execution_count": 75,
   "metadata": {},
   "outputs": [],
   "source": [
    "a.i = 3"
   ]
  },
  {
   "cell_type": "code",
   "execution_count": 64,
   "metadata": {},
   "outputs": [
    {
     "name": "stdout",
     "output_type": "stream",
     "text": [
      "3\n",
      "1\n"
     ]
    }
   ],
   "source": [
    "print(a.i)\n",
    "print(b.i)\n"
   ]
  },
  {
   "cell_type": "code",
   "execution_count": 71,
   "metadata": {},
   "outputs": [],
   "source": [
    "MyClass.i = 5\n"
   ]
  },
  {
   "cell_type": "code",
   "execution_count": 72,
   "metadata": {},
   "outputs": [
    {
     "name": "stdout",
     "output_type": "stream",
     "text": [
      "5\n",
      "5\n"
     ]
    }
   ],
   "source": [
    "print(a.i)\n",
    "print(b.i)\n"
   ]
  },
  {
   "cell_type": "markdown",
   "metadata": {},
   "source": [
    "List, dictionary - passing address\n",
    "String, numeric - passing contents of variable"
   ]
  },
  {
   "cell_type": "code",
   "execution_count": 77,
   "metadata": {},
   "outputs": [],
   "source": [
    "class MyClass():\n",
    "    i = 1\n",
    "    \n",
    "    def __init__(self, j):\n",
    "        self.j = j\n",
    "    \n",
    "    @staticmethod\n",
    "    def greet(name):\n",
    "        print(f\"Hi {name}\")"
   ]
  },
  {
   "cell_type": "code",
   "execution_count": 80,
   "metadata": {},
   "outputs": [
    {
     "name": "stdout",
     "output_type": "stream",
     "text": [
      "Hi Kamil\n"
     ]
    }
   ],
   "source": [
    "MyClass.greet(\"Kamil\")"
   ]
  },
  {
   "cell_type": "code",
   "execution_count": 81,
   "metadata": {},
   "outputs": [
    {
     "name": "stdout",
     "output_type": "stream",
     "text": [
      "Hi Kamil\n"
     ]
    }
   ],
   "source": [
    "a = MyClass(10)\n",
    "a.greet(\"Kamil\")"
   ]
  },
  {
   "cell_type": "markdown",
   "metadata": {},
   "source": [
    "Static method - metoda która jest bound to class, a nie do obiektu. Dlatego można robić coś takiego:"
   ]
  },
  {
   "cell_type": "code",
   "execution_count": 82,
   "metadata": {},
   "outputs": [
    {
     "name": "stdout",
     "output_type": "stream",
     "text": [
      "Hi Kamil\n"
     ]
    }
   ],
   "source": [
    "class MyClass():\n",
    "    i = 1\n",
    "    \n",
    "    def __init__(self, j):\n",
    "        self.j = j\n",
    "    \n",
    "    @staticmethod\n",
    "    def greet(name):\n",
    "        print(f\"Hi {name}\")\n",
    "        \n",
    "MyClass.greet(\"Kamil\")"
   ]
  },
  {
   "cell_type": "markdown",
   "metadata": {},
   "source": [
    "Class method jest podobna, ale jest bound to object"
   ]
  },
  {
   "cell_type": "code",
   "execution_count": 85,
   "metadata": {},
   "outputs": [
    {
     "name": "stdout",
     "output_type": "stream",
     "text": [
      "Hi Kamil\n"
     ]
    }
   ],
   "source": [
    "class MyClass():\n",
    "    i = 1\n",
    "    \n",
    "    def __init__(self, j):\n",
    "        self.j = j\n",
    "    \n",
    "    \n",
    "    def greet(name):\n",
    "        print(f\"Hi {name}\")\n",
    "        \n",
    "MyClass.greet(\"Kamil\")"
   ]
  },
  {
   "cell_type": "code",
   "execution_count": null,
   "metadata": {},
   "outputs": [],
   "source": []
  }
 ],
 "metadata": {
  "kernelspec": {
   "display_name": "Python 3",
   "language": "python",
   "name": "python3"
  },
  "language_info": {
   "codemirror_mode": {
    "name": "ipython",
    "version": 3
   },
   "file_extension": ".py",
   "mimetype": "text/x-python",
   "name": "python",
   "nbconvert_exporter": "python",
   "pygments_lexer": "ipython3",
   "version": "3.7.3"
  }
 },
 "nbformat": 4,
 "nbformat_minor": 2
}
