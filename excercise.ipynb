{
 "cells": [
  {
   "cell_type": "code",
   "execution_count": 22,
   "metadata": {},
   "outputs": [
    {
     "name": "stdout",
     "output_type": "stream",
     "text": [
      "Tom\n",
      "Tom\n",
      "Tom\n",
      "Tom\n",
      "Tom\n",
      "\n",
      "Tom id_0 is ok\n",
      "Tom id_1 is ok\n",
      "Tom id_2 is ok\n",
      "Tom id_3 is ok\n",
      "Tom id_4 is ok\n",
      "\n",
      "Tom id_0 is ok and his color is black\n",
      "Tom id_1 is ok and his color is blue\n",
      "Tom id_2 is ok and his color is yellow\n",
      "Tom id_3 is ok and his color is green\n",
      "Tom id_4 is ok and his color is white\n"
     ]
    }
   ],
   "source": [
    "for i in range(5):\n",
    "    print(\"Tom\")\n",
    "    \n",
    "print()\n",
    "for i in range(5):\n",
    "    print(\"Tom id_{0} is ok\".format(i))\n",
    "\n",
    "print()\n",
    "colors = [\"black\", \"blue\", \"yellow\", \"green\", \"white\"]   \n",
    "for i in range(5):\n",
    "    print(\"Tom id_{0} is ok and his color is {1}\".format(i, colors[i]))"
   ]
  },
  {
   "cell_type": "code",
   "execution_count": null,
   "metadata": {},
   "outputs": [],
   "source": []
  }
 ],
 "metadata": {
  "kernelspec": {
   "display_name": "Python 3",
   "language": "python",
   "name": "python3"
  },
  "language_info": {
   "codemirror_mode": {
    "name": "ipython",
    "version": 3
   },
   "file_extension": ".py",
   "mimetype": "text/x-python",
   "name": "python",
   "nbconvert_exporter": "python",
   "pygments_lexer": "ipython3",
   "version": "3.7.3"
  }
 },
 "nbformat": 4,
 "nbformat_minor": 2
}
