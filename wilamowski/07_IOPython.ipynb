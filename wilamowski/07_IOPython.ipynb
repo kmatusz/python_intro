{
 "cells": [
  {
   "cell_type": "markdown",
   "metadata": {},
   "source": [
    "# IO Python\n"
   ]
  },
  {
   "cell_type": "markdown",
   "metadata": {},
   "source": [
    "The io module provides Python’s main facilities for dealing with various types of I/O. There are three main types of I/O: text I/O, binary I/O and raw I/O. These are generic categories, and various backing stores can be used for each of them. A concrete object belonging to any of these categories is called a file object. \n",
    "    Other common terms are stream and file-like object."
   ]
  },
  {
   "cell_type": "markdown",
   "metadata": {},
   "source": [
    "Independently of its category, each concrete stream object will also have various capabilities: it can be read-only, write-only, or read-write. It can also allow arbitrary random access (seeking forwards or backwards to any location), or only sequential access (for example in the case of a socket or pipe)."
   ]
  },
  {
   "cell_type": "markdown",
   "metadata": {},
   "source": [
    "# Text I/O"
   ]
  },
  {
   "cell_type": "markdown",
   "metadata": {},
   "source": [
    "Text I/O expects and produces string objects. We present how to read data from the text file below:\n",
    "\n",
    "Read more about files  and modes here: https://www.tutorialspoint.com/python/python_files_io.htm\n"
   ]
  },
  {
   "cell_type": "code",
   "execution_count": 1,
   "metadata": {},
   "outputs": [
    {
     "name": "stdout",
     "output_type": "stream",
     "text": [
      "open file\n",
      "This is first line of myfileIN.txt\n",
      "close file\n"
     ]
    }
   ],
   "source": [
    "try:\n",
    "    print(\"open file\")\n",
    "    f = open(\"files/myfileIN.txt\", \"r\", encoding=\"utf-8\")\n",
    "    line=f.readline()\n",
    "    print(line)\n",
    "    f.close()\n",
    "    print(\"close file\")\n",
    "except Exception as e:\n",
    "    print(\"Reading from the myfileIN.txt failed\")"
   ]
  },
  {
   "cell_type": "markdown",
   "metadata": {},
   "source": [
    "Writing to the text file can be done using following code:"
   ]
  },
  {
   "cell_type": "code",
   "execution_count": 13,
   "metadata": {},
   "outputs": [],
   "source": [
    "try:\n",
    "    file = open(\"files/myfileOUT.txt\",\"w\")\n",
    "    file.write(\"Hello World\")\n",
    "    file.write(\"This is our new text file\")\n",
    "    file.write(\"and this is another line.\")\n",
    "    file.write(\"Why Because we can.\\n\")\n",
    "    file.close()\n",
    "except Exception as e:\n",
    "     print(\"Writting to the myfileOUT.txt failed\")"
   ]
  },
  {
   "cell_type": "markdown",
   "metadata": {},
   "source": [
    "# Binary I/O"
   ]
  },
  {
   "cell_type": "markdown",
   "metadata": {},
   "source": [
    "Binary I/O (also called buffered I/O) expects bytes-like objects and produces bytes objects. No encoding, decoding, or newline translation is performed.\n",
    "This category of streams can be used for all kinds of non-text data.\n",
    "\n",
    "The easiest way to create a binary stream is with open() with 'b' in the mode string. Using following code we read data from binary file:"
   ]
  },
  {
   "cell_type": "code",
   "execution_count": 16,
   "metadata": {},
   "outputs": [],
   "source": [
    "from PIL import Image\n",
    "import io\n",
    "\n",
    "image_data = ... # byte values of the image\n",
    "f = open(\"files/python.png\", \"rb\")\n",
    "data=f.read()\n",
    "image = Image.open(io.BytesIO(data))\n",
    "image.show()"
   ]
  },
  {
   "cell_type": "markdown",
   "metadata": {},
   "source": [
    "Code, which writes data to binary file is given below:"
   ]
  },
  {
   "cell_type": "code",
   "execution_count": 17,
   "metadata": {},
   "outputs": [],
   "source": [
    "try:\n",
    "    output_file = open(\"files/myfileOut.bin\",\"wb\")\n",
    "    output_file.write(b\"\\x0a\\x1b\\x2c\")\n",
    "    output_file.write(b\"\\x3d\\x4e\\x5f\")\n",
    "\n",
    "    #remeber to close the stream\n",
    "    output_file.close()\n",
    "except Exception as e:\n",
    "    print(\"Writting to myfileOut.bin failed\")\n",
    "\n"
   ]
  },
  {
   "cell_type": "markdown",
   "metadata": {},
   "source": [
    "# User input and output"
   ]
  },
  {
   "cell_type": "code",
   "execution_count": 18,
   "metadata": {},
   "outputs": [
    {
     "name": "stdout",
     "output_type": "stream",
     "text": [
      "Give first number 7\n",
      "Give second number6\n",
      "76\n"
     ]
    }
   ],
   "source": [
    "a=input(\"Give first number \")\n",
    "b=input(\"Give second number\")\n",
    "print(a+b)"
   ]
  },
  {
   "cell_type": "markdown",
   "metadata": {},
   "source": [
    "Remark: The result will be not correct, while the input function returns string value."
   ]
  },
  {
   "cell_type": "code",
   "execution_count": 19,
   "metadata": {},
   "outputs": [
    {
     "name": "stdout",
     "output_type": "stream",
     "text": [
      "Give first number 6\n",
      "Give second number 7\n",
      "13.0\n"
     ]
    }
   ],
   "source": [
    "a=float(input(\"Give first number \"))\n",
    "b=float(input(\"Give second number \"))\n",
    "print(a+b)"
   ]
  },
  {
   "cell_type": "code",
   "execution_count": 20,
   "metadata": {},
   "outputs": [
    {
     "name": "stdout",
     "output_type": "stream",
     "text": [
      "Press E for exit 5\n",
      "Give first number: 6\n",
      "Give second number: 6\n",
      "12.0\n",
      "Press E for exit e\n",
      "Give first number: 3\n",
      "Give second number: 5\n",
      "8.0\n",
      "Press E for exit E\n"
     ]
    }
   ],
   "source": [
    "while True:\n",
    "    a=input(\"Press E for exit \")\n",
    "    if(a==\"E\"):\n",
    "        break\n",
    "    a=float(input(\"Give first number: \"))\n",
    "    b=float(input(\"Give second number: \"))\n",
    "    print(a+b)"
   ]
  },
  {
   "cell_type": "markdown",
   "metadata": {},
   "source": [
    "# String formating "
   ]
  },
  {
   "cell_type": "markdown",
   "metadata": {},
   "source": [
    "The alternative approach to string formating is based on the function format(). We use {value_index} to point the place in the string, where given value should be insterted.  "
   ]
  },
  {
   "cell_type": "code",
   "execution_count": 23,
   "metadata": {},
   "outputs": [
    {
     "name": "stdout",
     "output_type": "stream",
     "text": [
      "Student name=Artur, surname=Silver, age=22\n"
     ]
    }
   ],
   "source": [
    "nameValue='Artur'\n",
    "surnameValue='Silver'\n",
    "ageValue=22\n",
    "\n",
    "print(\"Student name={0}, surname={1}, age={2}\".format(nameValue,surnameValue,ageValue))"
   ]
  },
  {
   "cell_type": "markdown",
   "metadata": {},
   "source": [
    "# Inheritence "
   ]
  },
  {
   "cell_type": "markdown",
   "metadata": {},
   "source": [
    "Every object-oriented programming language would not be worthy to look at or use, if it weren't to support inheritance.\n",
    "Python supports inheritance. Classes can inherit from other classes. A class can inherit attributes and behaviour methods from another class, called the superclass (base class or parent class) . A class which inherits from a superclass is called a subclass, also called heir class or child class."
   ]
  },
  {
   "cell_type": "code",
   "execution_count": 24,
   "metadata": {},
   "outputs": [],
   "source": [
    "class Animal:\n",
    "    #Constructor of the base class. We define all the fields(attributes) for given class below. \n",
    "    #Remeber to use self keyword before each attribute.\n",
    "    def __init__(self,animalTypeA,speciesA,nameA,widthA,heightA,weightA):\n",
    "        self.animalType=animalTypeA\n",
    "        self.species=speciesA\n",
    "        self.name=nameA\n",
    "        self.width=widthA\n",
    "        self.height=heightA\n",
    "        self.weight=weightA\n",
    "    #Class Animal contains two methods: makeVoice and PrintMe. In each method we should declare parameter self. \n",
    "    #The parameter self gives us access to the all fields/attributes in given class.  \n",
    "    def makeVoice(self):\n",
    "        print(\"Uknown voice\")\n",
    "    def printMe(self):\n",
    "        print(\"animalType: {0},species: {1}, name: {2},width: {3}, height: {4}, weight {5}\".format(self.animalType,self.species,self.name,self.width,self.height,self.weight))\n",
    "\n",
    "class Dog(Animal):\n",
    "    #Constructor of the child class.\n",
    "    def __init__(self,nameA,widthA,heightA,weightA,isChampionA):\n",
    "            #Here we call constructor of the baase class\n",
    "            Animal.__init__(self,\"Mammal\",\"Dog\",nameA,widthA,heightA,weightA)\n",
    "            #We set extra field of Dog class below\n",
    "            self.isChampion=isChampionA\n",
    "    #We override method makeVoice of the base class\n",
    "    def makeVoice(self):\n",
    "        print(\"{0} makes: Hauu\".format(self.name))\n",
    "        \n",
    "class Cat(Animal):\n",
    "    #Constructor of the child class.\n",
    "    def __init__(self,nameA,widthA,heightA,weightA):\n",
    "            #Here we call constructor of the baase class\n",
    "            Animal.__init__(self,\"Mammal\",\"Cat\",nameA,widthA,heightA,weightA)\n",
    "    #We override method makeVoice of the base class\n",
    "    def makeVoice(self):\n",
    "        print(\"{0} makes: Miauu\".format(self.name))"
   ]
  },
  {
   "cell_type": "code",
   "execution_count": 26,
   "metadata": {},
   "outputs": [
    {
     "name": "stdout",
     "output_type": "stream",
     "text": [
      "animalType: Mammal,species: Dog, name: Max,width: 20, height: 60, weight 12\n"
     ]
    }
   ],
   "source": [
    "dog1=Dog(\"Max\",20,60,12,True)\n",
    "dog1.printMe()"
   ]
  },
  {
   "cell_type": "markdown",
   "metadata": {},
   "source": [
    "# Polymorphism\n"
   ]
  },
  {
   "cell_type": "markdown",
   "metadata": {},
   "source": [
    "Polymorphism is a programming language feature that allows objects of one type to have one and the same interface, but different implementation of this interface. We present example below, where polimorhism allows us to invoke the method makeVoice for different animals in the list."
   ]
  },
  {
   "cell_type": "code",
   "execution_count": 27,
   "metadata": {},
   "outputs": [
    {
     "name": "stdout",
     "output_type": "stream",
     "text": [
      "Max makes: Hauu\n",
      "Tom makes: Miauu\n",
      "Rufus makes: Hauu\n"
     ]
    }
   ],
   "source": [
    "dog1=Dog(\"Max\",20,60,12,True)\n",
    "cat1=Cat(\"Tom\",10,20,2)\n",
    "dog2=Dog(\"Rufus\",15,50,25,False)\n",
    "\n",
    "listAll=[]\n",
    "\n",
    "listAll.append(dog1)\n",
    "listAll.append(cat1)\n",
    "listAll.append(dog2)\n",
    "\n",
    "for item in listAll:\n",
    "    item.makeVoice()\n",
    "\n"
   ]
  },
  {
   "cell_type": "markdown",
   "metadata": {
    "collapsed": true
   },
   "source": [
    "# Recursive function"
   ]
  },
  {
   "cell_type": "markdown",
   "metadata": {},
   "source": [
    "A recursive function is a function that calls itself, meaning it uses its own previous terms in calculating subsequent terms. We will find two approaches to factorial implementation below: 1-st based on recursive function, 2-nd based FOR loop."
   ]
  },
  {
   "cell_type": "code",
   "execution_count": 29,
   "metadata": {},
   "outputs": [
    {
     "name": "stdout",
     "output_type": "stream",
     "text": [
      "Recursive approach: The factorial of 4 is equal 24\n"
     ]
    }
   ],
   "source": [
    "def factorial1(number):\n",
    "    if(number==1):\n",
    "        return 1\n",
    "    else:\n",
    "        return factorial1(number-1)*number\n",
    "value=4\n",
    "print(\"Recursive approach: The factorial of {0} is equal {1}\".format(value,factorial1(value)))"
   ]
  },
  {
   "cell_type": "markdown",
   "metadata": {},
   "source": [
    "Of course the same result we obtain using FOR procedure:"
   ]
  },
  {
   "cell_type": "code",
   "execution_count": 32,
   "metadata": {},
   "outputs": [
    {
     "name": "stdout",
     "output_type": "stream",
     "text": [
      "FOR LOOP approach: The factorial of 3 is equal 6\n"
     ]
    }
   ],
   "source": [
    "def factorial2(number):\n",
    "    res=1\n",
    "    for a in range(1,number+1):\n",
    "        res=res*a\n",
    "    return res\n",
    "value=3\n",
    "print(\"FOR LOOP approach: The factorial of {0} is equal {1}\".format(value,factorial2(value)))"
   ]
  },
  {
   "cell_type": "markdown",
   "metadata": {},
   "source": [
    "# Simple operations on 2d arrays "
   ]
  },
  {
   "cell_type": "markdown",
   "metadata": {
    "collapsed": true
   },
   "source": [
    "The shortest way to define 2d array is following:"
   ]
  },
  {
   "cell_type": "code",
   "execution_count": 14,
   "metadata": {},
   "outputs": [
    {
     "name": "stdout",
     "output_type": "stream",
     "text": [
      "[[0, 0, 0, 0, 0, 0], [0, 0, 0, 0, 0, 0], [0, 0, 0, 0, 0, 0], [0, 0, 0, 0, 0, 0], [0, 0, 0, 0, 0, 0], [0, 0, 0, 0, 0, 0]]\n",
      "0\n"
     ]
    }
   ],
   "source": [
    "w, h = 6, 6;\n",
    "data = [[0 for x in range(w)] for y in range(h)]\n",
    "print(data)\n",
    "#print first element in array\n",
    "print(data[0][0])\n"
   ]
  },
  {
   "cell_type": "markdown",
   "metadata": {},
   "source": [
    "Let's define class Matrix, which contains:\n",
    "- attribute/field data (two dimensional array)  \n",
    "- method Add (allows us to calculate the sum of two matrixes) "
   ]
  },
  {
   "cell_type": "code",
   "execution_count": 34,
   "metadata": {},
   "outputs": [
    {
     "ename": "IndexError",
     "evalue": "list index out of range",
     "output_type": "error",
     "traceback": [
      "\u001b[1;31m---------------------------------------------------------------------------\u001b[0m",
      "\u001b[1;31mIndexError\u001b[0m                                Traceback (most recent call last)",
      "\u001b[1;32m<ipython-input-34-00a8849e0768>\u001b[0m in \u001b[0;36m<module>\u001b[1;34m()\u001b[0m\n\u001b[0;32m     30\u001b[0m \u001b[0mdata2\u001b[0m\u001b[1;33m=\u001b[0m\u001b[1;33m[\u001b[0m\u001b[1;36m1\u001b[0m\u001b[1;33m,\u001b[0m\u001b[1;36m1\u001b[0m\u001b[1;33m,\u001b[0m\u001b[1;36m1\u001b[0m\u001b[1;33m,\u001b[0m\u001b[1;36m1\u001b[0m\u001b[1;33m,\u001b[0m\u001b[1;36m1\u001b[0m\u001b[1;33m,\u001b[0m\u001b[1;36m1\u001b[0m\u001b[1;33m,\u001b[0m\u001b[1;36m1\u001b[0m\u001b[1;33m,\u001b[0m\u001b[1;36m1\u001b[0m\u001b[1;33m,\u001b[0m\u001b[1;36m1\u001b[0m\u001b[1;33m]\u001b[0m\u001b[1;33m\u001b[0m\u001b[0m\n\u001b[0;32m     31\u001b[0m \u001b[0mmatrix1\u001b[0m\u001b[1;33m=\u001b[0m\u001b[0mMatrix\u001b[0m\u001b[1;33m(\u001b[0m\u001b[1;36m3\u001b[0m\u001b[1;33m,\u001b[0m\u001b[1;36m3\u001b[0m\u001b[1;33m,\u001b[0m\u001b[0mdata1\u001b[0m\u001b[1;33m)\u001b[0m\u001b[1;33m\u001b[0m\u001b[0m\n\u001b[1;32m---> 32\u001b[1;33m \u001b[0mmatrix2\u001b[0m\u001b[1;33m=\u001b[0m\u001b[0mMatrix\u001b[0m\u001b[1;33m(\u001b[0m\u001b[1;36m3\u001b[0m\u001b[1;33m,\u001b[0m\u001b[1;36m4\u001b[0m\u001b[1;33m,\u001b[0m\u001b[0mdata2\u001b[0m\u001b[1;33m)\u001b[0m\u001b[1;33m\u001b[0m\u001b[0m\n\u001b[0m\u001b[0;32m     33\u001b[0m \u001b[0mmatrix3\u001b[0m\u001b[1;33m=\u001b[0m\u001b[0mmatrix1\u001b[0m\u001b[1;33m.\u001b[0m\u001b[0mAdd\u001b[0m\u001b[1;33m(\u001b[0m\u001b[0mmatrix2\u001b[0m\u001b[1;33m)\u001b[0m\u001b[1;33m\u001b[0m\u001b[0m\n\u001b[0;32m     34\u001b[0m \u001b[1;33m\u001b[0m\u001b[0m\n",
      "\u001b[1;32m<ipython-input-34-00a8849e0768>\u001b[0m in \u001b[0;36m__init__\u001b[1;34m(self, rowNrA, colNrA, inputDataA)\u001b[0m\n\u001b[0;32m     12\u001b[0m                 \u001b[0mrow\u001b[0m\u001b[1;33m=\u001b[0m\u001b[1;33m[\u001b[0m\u001b[1;33m]\u001b[0m\u001b[1;33m\u001b[0m\u001b[0m\n\u001b[0;32m     13\u001b[0m                 \u001b[1;32mfor\u001b[0m \u001b[0my\u001b[0m \u001b[1;32min\u001b[0m \u001b[0mrange\u001b[0m\u001b[1;33m(\u001b[0m\u001b[0mcolNrA\u001b[0m\u001b[1;33m)\u001b[0m\u001b[1;33m:\u001b[0m\u001b[1;33m\u001b[0m\u001b[0m\n\u001b[1;32m---> 14\u001b[1;33m                     \u001b[0mrow\u001b[0m\u001b[1;33m.\u001b[0m\u001b[0mappend\u001b[0m\u001b[1;33m(\u001b[0m\u001b[0minputDataA\u001b[0m\u001b[1;33m[\u001b[0m\u001b[0mx\u001b[0m\u001b[1;33m*\u001b[0m\u001b[0mcolNrA\u001b[0m\u001b[1;33m+\u001b[0m\u001b[0my\u001b[0m\u001b[1;33m]\u001b[0m\u001b[1;33m)\u001b[0m\u001b[1;33m\u001b[0m\u001b[0m\n\u001b[0m\u001b[0;32m     15\u001b[0m                 \u001b[0mself\u001b[0m\u001b[1;33m.\u001b[0m\u001b[0mdata\u001b[0m\u001b[1;33m.\u001b[0m\u001b[0mappend\u001b[0m\u001b[1;33m(\u001b[0m\u001b[0mrow\u001b[0m\u001b[1;33m)\u001b[0m\u001b[1;33m\u001b[0m\u001b[0m\n\u001b[0;32m     16\u001b[0m \u001b[1;33m\u001b[0m\u001b[0m\n",
      "\u001b[1;31mIndexError\u001b[0m: list index out of range"
     ]
    }
   ],
   "source": [
    "class Matrix:\n",
    "    \n",
    "    def __init__(self,rowNrA=6,colNrA=6,inputDataA=None):\n",
    "        self.rowNr=rowNrA\n",
    "        self.colNr=colNrA\n",
    "        \n",
    "        if(inputDataA==None):\n",
    "            self.data = [[0 for x in range(rowNrA)] for y in range(colNrA)]\n",
    "        else:\n",
    "            self.data=[]\n",
    "            for x in range(rowNrA):\n",
    "                row=[]\n",
    "                for y in range(colNrA): \n",
    "                    row.append(inputDataA[x*colNrA+y])\n",
    "                self.data.append(row)\n",
    "    \n",
    "    def Add(self,matrix2):\n",
    "        outMat=Matrix(self.rowNr,self.colNr)\n",
    "        for x in range(self.rowNr):\n",
    "            for y in range(self.colNr): \n",
    "                outMat.data[x][y]=self.data[x][y]+matrix2.data[x][y]\n",
    "        return outMat\n",
    "    \n",
    "    def PrintMe(self):\n",
    "        for x in range(self.rowNr):\n",
    "            print(self.data[x])\n",
    "        \n",
    "    \n",
    "data1=[1,1,1,1,1,1,1,1,1]\n",
    "data2=[1,1,1,1,1,1,1,1,1]\n",
    "matrix1=Matrix(3,3,data1)\n",
    "matrix2=Matrix(3,3,data2)\n",
    "matrix3=matrix1.Add(matrix2)\n",
    "\n",
    "print(\"Matrix1\")\n",
    "matrix1.PrintMe()\n",
    "\n",
    "print(\"Matrix2\")\n",
    "matrix1.PrintMe()\n",
    "\n",
    "print(\"Matrix3\")\n",
    "matrix3.PrintMe()\n"
   ]
  },
  {
   "cell_type": "code",
   "execution_count": null,
   "metadata": {
    "collapsed": true
   },
   "outputs": [],
   "source": []
  },
  {
   "cell_type": "code",
   "execution_count": null,
   "metadata": {
    "collapsed": true
   },
   "outputs": [],
   "source": []
  }
 ],
 "metadata": {
  "kernelspec": {
   "display_name": "Python 3",
   "language": "python",
   "name": "python3"
  },
  "language_info": {
   "codemirror_mode": {
    "name": "ipython",
    "version": 3
   },
   "file_extension": ".py",
   "mimetype": "text/x-python",
   "name": "python",
   "nbconvert_exporter": "python",
   "pygments_lexer": "ipython3",
   "version": "3.6.2"
  }
 },
 "nbformat": 4,
 "nbformat_minor": 2
}
