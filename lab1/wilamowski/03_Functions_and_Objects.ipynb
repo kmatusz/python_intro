{
 "cells": [
  {
   "cell_type": "markdown",
   "metadata": {},
   "source": [
    "# Functions and objects\n",
    "## Functions\n",
    "Writing simple functions for better code organization and avoiding doing the same things many times is common during data analysis. Functions in Python are different from many other programming languages in two ways:\n",
    "* automatic packing of multiple returned values,\n",
    "* passing arguments by their name.\n",
    "\n",
    "See examples of functions below, starting from the simplest one:"
   ]
  },
  {
   "cell_type": "code",
   "execution_count": 2,
   "metadata": {},
   "outputs": [
    {
     "name": "stdout",
     "output_type": "stream",
     "text": [
      "28.274333882308138\n"
     ]
    }
   ],
   "source": [
    "from math import pi\n",
    "# simple function with one required argument and one optional argument, which returns a number as a result\n",
    "def circle_surface(radius, pi = pi):\n",
    "    return pi * radius ** 2\n",
    "\n",
    "print(circle_surface(3))"
   ]
  },
  {
   "cell_type": "code",
   "execution_count": 3,
   "metadata": {},
   "outputs": [
    {
     "name": "stdout",
     "output_type": "stream",
     "text": [
      "Circumference and area of a circle with radius of 3:  (18.84955592153876, 28.274333882308138)\n",
      "The same with arguments reversed:  (18.849, 28.273500000000002)\n",
      "Circumference of a circle of radius 3: 18.849 area of this circle:  28.273500000000002\n"
     ]
    }
   ],
   "source": [
    "# You may want your function to calculate circumference and area of a circle\n",
    "def circle(radius, pi = pi):\n",
    "    return 2 * pi * radius, pi * radius ** 2\n",
    "print(\"Circumference and area of a circle with radius of 3: \", circle(3))\n",
    "# when you pass arguments with their names, you do not have to maintain order\n",
    "print(\"The same with arguments reversed: \", circle(pi = 3.1415, radius = 3))\n",
    "# you can unpack automatically packed results\n",
    "perimiter, surface = circle(pi = 3.1415, radius = 3)\n",
    "print(\"Circumference of a circle of radius 3:\", perimiter, \"area of this circle: \", surface)"
   ]
  },
  {
   "cell_type": "markdown",
   "metadata": {},
   "source": [
    "As you can see, everything is meant to be convenient and fast to type. Passing an argument with a name is particularly useful if a function has a lot of arguments with default values and you want to change only one of them.\n",
    "\n",
    "## Lambda (anonymous) functions\n",
    "Sometimes defining a function and putting it at the beginning of your script may seem not useful, e.g. because the function is very simple and you will not use it multiple times. This type of function has no advantage over standard function, and their use is often a matter of coding style. You may see it in other programmers' code, so it is good to know about it."
   ]
  },
  {
   "cell_type": "code",
   "execution_count": null,
   "metadata": {},
   "outputs": [],
   "source": [
    "f = lambda r: pi * r ** 2\n",
    "print(f(3))"
   ]
  },
  {
   "cell_type": "markdown",
   "metadata": {},
   "source": [
    "Function may also return another function. In this case using lambda function is convenient and makes code more readable."
   ]
  },
  {
   "cell_type": "code",
   "execution_count": 4,
   "metadata": {},
   "outputs": [
    {
     "name": "stdout",
     "output_type": "stream",
     "text": [
      "20.775623268698062\n",
      "20.221606648199447\n"
     ]
    }
   ],
   "source": [
    "def switchBMI(sex = \"M\"):\n",
    "    if sex == \"M\":\n",
    "        return lambda weight, height: weight / height ** 2\n",
    "    else:\n",
    "        return lambda weight, height: (weight - 2) / height ** 2\n",
    "BMI = switchBMI(\"M\")\n",
    "print(BMI(75, 1.90))\n",
    "BMI = switchBMI(\"F\")\n",
    "print(BMI(75, 1.90))"
   ]
  },
  {
   "cell_type": "markdown",
   "metadata": {},
   "source": [
    "## Variable ranges\n",
    "When using functions you have to remember that arguments in Python are passed by assignment (operator \"=\"). It means you have to know, how this operator works for a particular argument - whether it will be a copy or just a reference. Compare these two cells:"
   ]
  },
  {
   "cell_type": "code",
   "execution_count": 10,
   "metadata": {},
   "outputs": [
    {
     "name": "stdout",
     "output_type": "stream",
     "text": [
      "Variable before function call:  ['red', 'blue', 'green']\n",
      "Input inside the function:  ['red', 'blue', 'green']\n",
      "Change within function:  ['red', 'blue', 'green', 'black']\n",
      "Variable after function call:  ['red', 'blue', 'green', 'black']\n"
     ]
    }
   ],
   "source": [
    "def change_arg(arg_list):\n",
    "    print('Input inside the function: ', arg_list)\n",
    "    arg_list.append('black')\n",
    "    print('Change within function: ', arg_list)\n",
    "\n",
    "colors = [\"red\", \"blue\", \"green\"]\n",
    "\n",
    "print('Variable before function call: ', colors)\n",
    "change_arg(colors)\n",
    "print('Variable after function call: ', colors)"
   ]
  },
  {
   "cell_type": "code",
   "execution_count": 7,
   "metadata": {},
   "outputs": [
    {
     "name": "stdout",
     "output_type": "stream",
     "text": [
      "Variable before function call:  ['red', 'blue', 'green']\n",
      "Input inside the function:  ['red', 'blue', 'green']\n",
      "Change within function:  ['cyan', 'magenta', 'yellow']\n",
      "Variable after function call:  ['red', 'blue', 'green']\n"
     ]
    }
   ],
   "source": [
    "def change_arg(arg_list):\n",
    "    print('Input inside the function: ', arg_list)\n",
    "    arg_list = ['cyan', 'magenta', 'yellow']\n",
    "    print('Change within function: ', arg_list)\n",
    "    return arg_list\n",
    "\n",
    "colors = [\"red\", \"blue\", \"green\"]\n",
    "\n",
    "print('Variable before function call: ', colors)\n",
    "change_arg(colors)\n",
    "print('Variable after function call: ', colors)\n"
   ]
  },
  {
   "cell_type": "markdown",
   "metadata": {},
   "source": [
    "In the first case a reference was passed to the function. Using append() method you changed the content of what had been located at the given address. You did not try to change the argument itself (reference/address). Function has changed the content of what was outside function.\n",
    "\n",
    "In the second case a new list was assigned to the \"arg_list\" argument, so you tried to changed the passed argument, which was impossible. A function cannot change the argument outside function. The change was local only."
   ]
  },
  {
   "cell_type": "markdown",
   "metadata": {},
   "source": [
    "Every function in Python has access (read mode) to variables defined in the script. The example below is NOT consistent with best programming practices. However, knowledge about this may save some time if you want to get results as quickly as possible."
   ]
  },
  {
   "cell_type": "code",
   "execution_count": 14,
   "metadata": {},
   "outputs": [
    {
     "name": "stdout",
     "output_type": "stream",
     "text": [
      "141.3716694115407\n",
      "5\n"
     ]
    }
   ],
   "source": [
    "multiplier = 5\n",
    "def circle_surface(radius, pi = pi):\n",
    "\n",
    "    return multiplier * pi * radius ** 2\n",
    "\n",
    "print(circle_surface(3))\n",
    "print(multiplier)"
   ]
  },
  {
   "cell_type": "markdown",
   "metadata": {},
   "source": [
    "## Dynamic list of arguments\n",
    "Python allows you to write a function which takes an unspecified number of arguments. It may be a list (operator - \\*) or a dictionary (operator - \\*\\*). The naming convention is \\*args and \\*\\*kwargs, respectively. Even though in structured programming it is rarely used, in object-oriented programming it is very useful, e.g. for expanding an existing class. This is why you may find it often looking at code of existing libraries."
   ]
  },
  {
   "cell_type": "code",
   "execution_count": 18,
   "metadata": {},
   "outputs": [
    {
     "name": "stdout",
     "output_type": "stream",
     "text": [
      "red\n",
      "blue\n",
      "green\n",
      "red\n",
      "blue\n",
      "green\n",
      "violet\n",
      "PURPLE\n"
     ]
    }
   ],
   "source": [
    "def printArgs(*args):\n",
    "    for arg in args:\n",
    "        print(arg)\n",
    "\n",
    "printArgs(\"red\", \"blue\", \"green\")\n",
    "printArgs()\n",
    "printArgs(\"red\", \"blue\", \"green\", \"violet\", \"PURPLE\")"
   ]
  },
  {
   "cell_type": "code",
   "execution_count": 19,
   "metadata": {},
   "outputs": [
    {
     "name": "stdout",
     "output_type": "stream",
     "text": [
      "height 1.92\n",
      "age 32\n",
      "name Maciej\n"
     ]
    }
   ],
   "source": [
    "def printKwargs(**kwargs):\n",
    "    for name, value in kwargs.items():\n",
    "        print(name, value)\n",
    "\n",
    "printKwargs(height = 1.92, age = 32, name = \"Maciej\")"
   ]
  },
  {
   "cell_type": "markdown",
   "metadata": {
    "collapsed": true
   },
   "source": [
    "## Profiling\n",
    "When code is too slow or slower than expected, it is a good idea to measure it precisely, and in the case of more complicated functions - profile their elements. Notebook has convenient built-in tools:  %timeit, %%timeit, %prun (there are other commands, more information below).\n",
    "\n",
    "Look at the following examples:"
   ]
  },
  {
   "cell_type": "code",
   "execution_count": 20,
   "metadata": {},
   "outputs": [],
   "source": [
    "import math\n",
    "# A function with multiple steps.\n",
    "x = list(range(10000))\n",
    "def complexFunction(x):\n",
    "    results = []\n",
    "    for k in x:\n",
    "        if k >= 500:\n",
    "            results.append(math.sin(k))\n",
    "        else:\n",
    "            results.append(math.cos(k))\n",
    "    for i in results:\n",
    "        i = math.pow(i, 2)\n",
    "        \n",
    "    for i in range(len(results)):\n",
    "        results[i] = math.pow(results[i], 2)\n",
    "    return results"
   ]
  },
  {
   "cell_type": "code",
   "execution_count": 23,
   "metadata": {},
   "outputs": [
    {
     "name": "stdout",
     "output_type": "stream",
     "text": [
      "10.1 ms ± 635 µs per loop (mean ± std. dev. of 7 runs, 100 loops each)\n",
      "10.6 ms ± 737 µs per loop (mean ± std. dev. of 7 runs, 57 loops each)\n"
     ]
    }
   ],
   "source": [
    "# Mean execution time\n",
    "%timeit complexFunction(x)\n",
    "# Mean execution time with a specified number of loops\n",
    "%timeit -n 57 complexFunction(x)"
   ]
  },
  {
   "cell_type": "code",
   "execution_count": 24,
   "metadata": {},
   "outputs": [
    {
     "name": "stdout",
     "output_type": "stream",
     "text": [
      "9.92 ms ± 1.15 ms per loop (mean ± std. dev. of 7 runs, 100 loops each)\n"
     ]
    }
   ],
   "source": [
    "%%timeit\n",
    "# %%timeit allows you to measure execution time of a whole cell\n",
    "x = list(range(10000))\n",
    "complexFunction(x)"
   ]
  },
  {
   "cell_type": "code",
   "execution_count": 25,
   "metadata": {},
   "outputs": [
    {
     "name": "stdout",
     "output_type": "stream",
     "text": [
      " "
     ]
    }
   ],
   "source": [
    "%prun complexFunction(x)\n",
    "# this line magic opens a window in the bottom of the site with detailed information\n",
    "# how many times every function has been called and how much time it has taken"
   ]
  },
  {
   "cell_type": "code",
   "execution_count": null,
   "metadata": {},
   "outputs": [],
   "source": [
    "%%prun\n",
    "# You may profile a whole cell, if your code has multiple lines.\n",
    "# You do not have to make a function of a cell to measure its performance.\n",
    "y = complexFunction(x)\n",
    "complexFunction(y)"
   ]
  },
  {
   "cell_type": "markdown",
   "metadata": {},
   "source": [
    "You may see other line magics in Notebook and read more on: http://ipython.readthedocs.io/en/stable/interactive/magics.html"
   ]
  },
  {
   "cell_type": "code",
   "execution_count": 26,
   "metadata": {},
   "outputs": [
    {
     "data": {
      "application/json": {
       "cell": {
        "!": "OSMagics",
        "HTML": "Other",
        "SVG": "Other",
        "bash": "Other",
        "capture": "ExecutionMagics",
        "cmd": "Other",
        "debug": "ExecutionMagics",
        "file": "Other",
        "html": "DisplayMagics",
        "javascript": "DisplayMagics",
        "js": "DisplayMagics",
        "latex": "DisplayMagics",
        "markdown": "DisplayMagics",
        "perl": "Other",
        "prun": "ExecutionMagics",
        "pypy": "Other",
        "python": "Other",
        "python2": "Other",
        "python3": "Other",
        "ruby": "Other",
        "script": "ScriptMagics",
        "sh": "Other",
        "svg": "DisplayMagics",
        "sx": "OSMagics",
        "system": "OSMagics",
        "time": "ExecutionMagics",
        "timeit": "ExecutionMagics",
        "writefile": "OSMagics"
       },
       "line": {
        "alias": "OSMagics",
        "alias_magic": "BasicMagics",
        "autoawait": "AsyncMagics",
        "autocall": "AutoMagics",
        "automagic": "AutoMagics",
        "autosave": "KernelMagics",
        "bookmark": "OSMagics",
        "cd": "OSMagics",
        "clear": "KernelMagics",
        "cls": "KernelMagics",
        "colors": "BasicMagics",
        "conda": "PackagingMagics",
        "config": "ConfigMagics",
        "connect_info": "KernelMagics",
        "copy": "Other",
        "ddir": "Other",
        "debug": "ExecutionMagics",
        "dhist": "OSMagics",
        "dirs": "OSMagics",
        "doctest_mode": "BasicMagics",
        "echo": "Other",
        "ed": "Other",
        "edit": "KernelMagics",
        "env": "OSMagics",
        "gui": "BasicMagics",
        "hist": "Other",
        "history": "HistoryMagics",
        "killbgscripts": "ScriptMagics",
        "ldir": "Other",
        "less": "KernelMagics",
        "load": "CodeMagics",
        "load_ext": "ExtensionMagics",
        "loadpy": "CodeMagics",
        "logoff": "LoggingMagics",
        "logon": "LoggingMagics",
        "logstart": "LoggingMagics",
        "logstate": "LoggingMagics",
        "logstop": "LoggingMagics",
        "ls": "Other",
        "lsmagic": "BasicMagics",
        "macro": "ExecutionMagics",
        "magic": "BasicMagics",
        "matplotlib": "PylabMagics",
        "mkdir": "Other",
        "more": "KernelMagics",
        "notebook": "BasicMagics",
        "page": "BasicMagics",
        "pastebin": "CodeMagics",
        "pdb": "ExecutionMagics",
        "pdef": "NamespaceMagics",
        "pdoc": "NamespaceMagics",
        "pfile": "NamespaceMagics",
        "pinfo": "NamespaceMagics",
        "pinfo2": "NamespaceMagics",
        "pip": "PackagingMagics",
        "popd": "OSMagics",
        "pprint": "BasicMagics",
        "precision": "BasicMagics",
        "prun": "ExecutionMagics",
        "psearch": "NamespaceMagics",
        "psource": "NamespaceMagics",
        "pushd": "OSMagics",
        "pwd": "OSMagics",
        "pycat": "OSMagics",
        "pylab": "PylabMagics",
        "qtconsole": "KernelMagics",
        "quickref": "BasicMagics",
        "recall": "HistoryMagics",
        "rehashx": "OSMagics",
        "reload_ext": "ExtensionMagics",
        "ren": "Other",
        "rep": "Other",
        "rerun": "HistoryMagics",
        "reset": "NamespaceMagics",
        "reset_selective": "NamespaceMagics",
        "rmdir": "Other",
        "run": "ExecutionMagics",
        "save": "CodeMagics",
        "sc": "OSMagics",
        "set_env": "OSMagics",
        "store": "StoreMagics",
        "sx": "OSMagics",
        "system": "OSMagics",
        "tb": "ExecutionMagics",
        "time": "ExecutionMagics",
        "timeit": "ExecutionMagics",
        "unalias": "OSMagics",
        "unload_ext": "ExtensionMagics",
        "who": "NamespaceMagics",
        "who_ls": "NamespaceMagics",
        "whos": "NamespaceMagics",
        "xdel": "NamespaceMagics",
        "xmode": "BasicMagics"
       }
      },
      "text/plain": [
       "Available line magics:\n",
       "%alias  %alias_magic  %autoawait  %autocall  %automagic  %autosave  %bookmark  %cd  %clear  %cls  %colors  %conda  %config  %connect_info  %copy  %ddir  %debug  %dhist  %dirs  %doctest_mode  %echo  %ed  %edit  %env  %gui  %hist  %history  %killbgscripts  %ldir  %less  %load  %load_ext  %loadpy  %logoff  %logon  %logstart  %logstate  %logstop  %ls  %lsmagic  %macro  %magic  %matplotlib  %mkdir  %more  %notebook  %page  %pastebin  %pdb  %pdef  %pdoc  %pfile  %pinfo  %pinfo2  %pip  %popd  %pprint  %precision  %prun  %psearch  %psource  %pushd  %pwd  %pycat  %pylab  %qtconsole  %quickref  %recall  %rehashx  %reload_ext  %ren  %rep  %rerun  %reset  %reset_selective  %rmdir  %run  %save  %sc  %set_env  %store  %sx  %system  %tb  %time  %timeit  %unalias  %unload_ext  %who  %who_ls  %whos  %xdel  %xmode\n",
       "\n",
       "Available cell magics:\n",
       "%%!  %%HTML  %%SVG  %%bash  %%capture  %%cmd  %%debug  %%file  %%html  %%javascript  %%js  %%latex  %%markdown  %%perl  %%prun  %%pypy  %%python  %%python2  %%python3  %%ruby  %%script  %%sh  %%svg  %%sx  %%system  %%time  %%timeit  %%writefile\n",
       "\n",
       "Automagic is ON, % prefix IS NOT needed for line magics."
      ]
     },
     "execution_count": 26,
     "metadata": {},
     "output_type": "execute_result"
    }
   ],
   "source": [
    "%lsmagic"
   ]
  },
  {
   "cell_type": "markdown",
   "metadata": {},
   "source": [
    "## Objects\n",
    "For beginners and intermediate Python users deep knowledge about classes/objects is not essential. However, it is good to have a general idea about the topic to analyse code written by other programmers using object-oriented programming.\n",
    "\n",
    "Currently, most popular programming languages are object-oriented. There are several advantages of objects. First, already mentioned at the beginning of the course, is that you can create elements which possess a state (just like variables), other predefined attributes (multiple variables) and functions. Because you can create multiple objects/instances of the same class simultaneously, object-oriented programming makes situations in which you need multiple instances (e.g. of users) much easier compared with structured programming.\n",
    "\n",
    "Additionally, object-oriented programming makes encapsulation (a kind of code organization and separation) compulsory. It becomes practical in large projects, because it makes code managing and debugging much easier. You may read more about advantages and disadvantages of object-oriented programming here:\n",
    "* https://www.roberthalf.com/blog/salaries-and-skills/4-advantages-of-object-oriented-programming\n",
    "* https://softwareengineering.stackexchange.com/a/120038\n",
    "* http://www.freekpaans.nl/2015/06/exploring-the-essence-of-object-oriented-programming/\n",
    "\n",
    "Below there is an example of a simple class, which should make you understand the difference between class attributes and element (single instance of class) attributes."
   ]
  },
  {
   "cell_type": "code",
   "execution_count": 29,
   "metadata": {},
   "outputs": [],
   "source": [
    "class SimpleClass:\n",
    "    # Class attribute\n",
    "    i = 3\n",
    "    def __init__(self):\n",
    "        # Attribute of an instance of class\n",
    "        self.j = 7"
   ]
  },
  {
   "cell_type": "markdown",
   "metadata": {},
   "source": [
    "We can change attributes of a single object in a way which does not modify other instances."
   ]
  },
  {
   "cell_type": "code",
   "execution_count": 30,
   "metadata": {},
   "outputs": [
    {
     "name": "stdout",
     "output_type": "stream",
     "text": [
      "3 3\n",
      "3 3 8 7\n"
     ]
    }
   ],
   "source": [
    "a = SimpleClass()\n",
    "b = SimpleClass()\n",
    "print(a.i, b.i)\n",
    "\n",
    "a.j = 8\n",
    "print(a.i, b.i, a.j, b.j)"
   ]
  },
  {
   "cell_type": "markdown",
   "metadata": {},
   "source": [
    "The line below changes the definition of a class. All existing instances (objects) will be modified."
   ]
  },
  {
   "cell_type": "code",
   "execution_count": 31,
   "metadata": {},
   "outputs": [
    {
     "name": "stdout",
     "output_type": "stream",
     "text": [
      "5 5 8 7\n",
      "5 7\n"
     ]
    }
   ],
   "source": [
    "SimpleClass.i = 5\n",
    "print(a.i, b.i, a.j, b.j)\n",
    "\n",
    "# New objects will be created according to the modified instruttions.\n",
    "c = SimpleClass()\n",
    "print(c.i, c.j)"
   ]
  },
  {
   "cell_type": "markdown",
   "metadata": {},
   "source": [
    "However, if you try to assign a value to the same variable name (as attribute of an instance), \"i\" will become an instance attribute for object \"a\", but for other objects it will still be a class attribute."
   ]
  },
  {
   "cell_type": "code",
   "execution_count": 33,
   "metadata": {},
   "outputs": [
    {
     "name": "stdout",
     "output_type": "stream",
     "text": [
      "1 17 17 17\n"
     ]
    }
   ],
   "source": [
    "a.i = 1\n",
    "SimpleClass.i = 17\n",
    "d = SimpleClass()\n",
    "print(a.i, b.i, c.i, d.i)"
   ]
  },
  {
   "cell_type": "markdown",
   "metadata": {},
   "source": [
    "It is good to remember that instance attributes override and overwrite class attributes."
   ]
  },
  {
   "cell_type": "markdown",
   "metadata": {},
   "source": [
    "Consider now the word \"self\" and see how class methods are called."
   ]
  },
  {
   "cell_type": "code",
   "execution_count": 35,
   "metadata": {},
   "outputs": [],
   "source": [
    "class NewClass:\n",
    "    def __init__(self):\n",
    "        # Instance attribute\n",
    "        self.name = \"Maciej\"\n",
    "    # Static function\n",
    "    def hi():\n",
    "        # Instance attribute\n",
    "        print(\"Hi\")\n",
    "    \n",
    "    # Static function\n",
    "    def hi2(self):\n",
    "        # Instance attribute\n",
    "        print(\"Hi\")\n",
    "    \n",
    "    def personalized_hi(self):\n",
    "        print(\"Hi,\", self.name)"
   ]
  },
  {
   "cell_type": "code",
   "execution_count": 36,
   "metadata": {},
   "outputs": [],
   "source": [
    "uczen = NewClass()"
   ]
  },
  {
   "cell_type": "markdown",
   "metadata": {},
   "source": [
    "Both lines of code in the cell below work in exactly the same way. Usually the first, shorter type is used. In practice every time when *instance.method()* gets called, a *class.method(instance)* gets called. It means that when you call a method of an instance, you call the method of a class and pass an object there."
   ]
  },
  {
   "cell_type": "code",
   "execution_count": 37,
   "metadata": {},
   "outputs": [
    {
     "name": "stdout",
     "output_type": "stream",
     "text": [
      "Hi, Maciej\n",
      "Hi, Maciej\n"
     ]
    }
   ],
   "source": [
    "uczen.personalized_hi()\n",
    "NewClass.personalized_hi(uczen)"
   ]
  },
  {
   "cell_type": "markdown",
   "metadata": {},
   "source": [
    "This is why code below does not work:"
   ]
  },
  {
   "cell_type": "code",
   "execution_count": 38,
   "metadata": {},
   "outputs": [
    {
     "ename": "TypeError",
     "evalue": "hi() takes 0 positional arguments but 1 was given",
     "output_type": "error",
     "traceback": [
      "\u001b[1;31m---------------------------------------------------------------------------\u001b[0m",
      "\u001b[1;31mTypeError\u001b[0m                                 Traceback (most recent call last)",
      "\u001b[1;32m<ipython-input-38-5ee9954ad8b4>\u001b[0m in \u001b[0;36m<module>\u001b[1;34m\u001b[0m\n\u001b[1;32m----> 1\u001b[1;33m \u001b[0muczen\u001b[0m\u001b[1;33m.\u001b[0m\u001b[0mhi\u001b[0m\u001b[1;33m(\u001b[0m\u001b[1;33m)\u001b[0m\u001b[1;33m\u001b[0m\u001b[1;33m\u001b[0m\u001b[0m\n\u001b[0m",
      "\u001b[1;31mTypeError\u001b[0m: hi() takes 0 positional arguments but 1 was given"
     ]
    }
   ],
   "source": [
    "uczen.hi()"
   ]
  },
  {
   "cell_type": "markdown",
   "metadata": {},
   "source": [
    "You are allowed to call a static function only by calling a class method without passing arguments."
   ]
  },
  {
   "cell_type": "code",
   "execution_count": 39,
   "metadata": {},
   "outputs": [
    {
     "name": "stdout",
     "output_type": "stream",
     "text": [
      "Hi\n"
     ]
    }
   ],
   "source": [
    "NewClass.hi()"
   ]
  },
  {
   "cell_type": "markdown",
   "metadata": {},
   "source": [
    "You can create the same function with argument self (see the definition if hi2 above) and then not use it."
   ]
  },
  {
   "cell_type": "code",
   "execution_count": 40,
   "metadata": {},
   "outputs": [
    {
     "name": "stdout",
     "output_type": "stream",
     "text": [
      "Hi\n"
     ]
    }
   ],
   "source": [
    "uczen.hi2()"
   ]
  },
  {
   "cell_type": "markdown",
   "metadata": {},
   "source": [
    "However, it makes the code below throw an error."
   ]
  },
  {
   "cell_type": "code",
   "execution_count": null,
   "metadata": {},
   "outputs": [],
   "source": [
    "NewClass.hi2()"
   ]
  },
  {
   "cell_type": "markdown",
   "metadata": {},
   "source": [
    "In practice, static functions without passing a class instance are usually not used.\n",
    "Note that \"self\" is not a keyword in Python, but a widely used convention. The code below is correct, but writing such classes is strongly discouraged. Using of the word \"self\" in Python is so common and widespread, that some IDEs are based on its existence."
   ]
  },
  {
   "cell_type": "code",
   "execution_count": null,
   "metadata": {},
   "outputs": [],
   "source": [
    "class UglyClass:\n",
    "    def __init__(self):\n",
    "        self.name = \"Maciej\"\n",
    "    def personalized_hi(anyWord):\n",
    "        print(\"Hi, \", anyWord.name)\n",
    "test = UglyClass()\n",
    "test.personalized_hi()"
   ]
  },
  {
   "cell_type": "markdown",
   "metadata": {},
   "source": [
    "Details about classes such as inheritance are left for later, when you knowledge of Python will be deeper."
   ]
  },
  {
   "cell_type": "markdown",
   "metadata": {
    "collapsed": true
   },
   "source": [
    "You may read more about objects here: http://python-textbok.readthedocs.io/en/1.0/Classes.html"
   ]
  },
  {
   "cell_type": "code",
   "execution_count": 70,
   "metadata": {},
   "outputs": [],
   "source": [
    "class Person:\n",
    "    ''' This is my class for a person.\n",
    "        It hase methods.\n",
    "        Python is great! :)\n",
    "        '''\n",
    "    def __init__(self, name=\"Maciej\", familyname=\"Wilamowski\", *args, **kwargs):\n",
    "        ''' This is my init.\n",
    "        '''\n",
    "        self.name = name\n",
    "        self.familyname = familyname\n",
    "    def hi(self):\n",
    "        '''Thius function welcoms my person object'''\n",
    "        print(f\"Welcome {self.name} {self.familyname}\")"
   ]
  },
  {
   "cell_type": "code",
   "execution_count": 73,
   "metadata": {},
   "outputs": [
    {
     "name": "stdout",
     "output_type": "stream",
     "text": [
      "Welcome Maciej Wilamowski\n",
      "Welcome Grzegorz Brzeczyszczykiewicz\n"
     ]
    }
   ],
   "source": [
    "person1 = Person()\n",
    "person1.hi()\n",
    "person2 = Person(name=\"Grzegorz\", familyname=\"Brzeczyszczykiewicz\")\n",
    "person2.hi()"
   ]
  },
  {
   "cell_type": "code",
   "execution_count": 91,
   "metadata": {},
   "outputs": [],
   "source": [
    "class Creature:\n",
    "    def __init__(self, weight=1, age=0, *args, **kwargs):\n",
    "        self.age = age\n",
    "        self.weight = weight"
   ]
  },
  {
   "cell_type": "code",
   "execution_count": 92,
   "metadata": {},
   "outputs": [],
   "source": [
    "class Student(Creature, Person):\n",
    "    ''' This is student'''\n",
    "    def __init__(self, clas = \"Ia\", *args, **kwargs):\n",
    "#         super().__init__(*args, **kwargs)\n",
    "        Creature.__init__(self, *args, **kwargs)\n",
    "        Person.__init__(self, *args, **kwargs)\n",
    "        self.clas = clas\n",
    "        self.grades = {}\n",
    "    def addGrade(self, subject=\"none\", grade = 5):\n",
    "        subjectGrades = self.grades.get(subject, [])\n",
    "        subjectGrades.append(grade)\n",
    "        self.grades[subject] =  subjectGrades"
   ]
  },
  {
   "cell_type": "code",
   "execution_count": 94,
   "metadata": {},
   "outputs": [
    {
     "name": "stdout",
     "output_type": "stream",
     "text": [
      "Welcome Stefan Tokarski\n"
     ]
    }
   ],
   "source": [
    "student = Student(name=\"Stefan\", familyname=\"Tokarski\", clas=\"IVb\", age=16, weight=56)\n",
    "student.hi()"
   ]
  },
  {
   "cell_type": "code",
   "execution_count": 95,
   "metadata": {},
   "outputs": [],
   "source": [
    "student.addGrade(\"polish\", 5)\n",
    "student.addGrade(\"math\", 4)\n",
    "student.addGrade(\"math\", 3)"
   ]
  },
  {
   "cell_type": "code",
   "execution_count": 96,
   "metadata": {},
   "outputs": [
    {
     "data": {
      "text/plain": [
       "{'polish': [5], 'math': [4, 3]}"
      ]
     },
     "execution_count": 96,
     "metadata": {},
     "output_type": "execute_result"
    }
   ],
   "source": [
    "student.grades"
   ]
  },
  {
   "cell_type": "code",
   "execution_count": 97,
   "metadata": {},
   "outputs": [
    {
     "data": {
      "text/plain": [
       "16"
      ]
     },
     "execution_count": 97,
     "metadata": {},
     "output_type": "execute_result"
    }
   ],
   "source": [
    "student.age"
   ]
  },
  {
   "cell_type": "code",
   "execution_count": 98,
   "metadata": {},
   "outputs": [
    {
     "data": {
      "text/plain": [
       "56"
      ]
     },
     "execution_count": 98,
     "metadata": {},
     "output_type": "execute_result"
    }
   ],
   "source": [
    "\n",
    "student.weight"
   ]
  },
  {
   "cell_type": "code",
   "execution_count": null,
   "metadata": {},
   "outputs": [],
   "source": []
  },
  {
   "cell_type": "code",
   "execution_count": 99,
   "metadata": {},
   "outputs": [],
   "source": [
    "class Creature:\n",
    "    def __init__(self, weight=1, age=0, *args, **kwargs):\n",
    "        self.age = age\n",
    "        self.weight = weight\n",
    "class Person(Creature):\n",
    "    ''' This is my class for a person.\n",
    "        It hase methods.\n",
    "        Python is great! :)\n",
    "        '''\n",
    "    def __init__(self, name=\"Maciej\", familyname=\"Wilamowski\", *args, **kwargs):\n",
    "        ''' This is my init.\n",
    "        '''\n",
    "        super().__init__(*args, **kwargs)\n",
    "        self.name = name\n",
    "        self.familyname = familyname\n",
    "    def hi(self):\n",
    "        '''Thius function welcoms my person object'''\n",
    "        print(f\"Welcome {self.name} {self.familyname}\")\n",
    "class Student(Person):\n",
    "    ''' This is student'''\n",
    "    def __init__(self, clas = \"Ia\", *args, **kwargs):\n",
    "        super().__init__(*args, **kwargs)\n",
    "        self.clas = clas\n",
    "        self.grades = {}\n",
    "    def addGrade(self, subject=\"none\", grade = 5):\n",
    "        subjectGrades = self.grades.get(subject, [])\n",
    "        subjectGrades.append(grade)\n",
    "        self.grades[subject] =  subjectGrades"
   ]
  },
  {
   "cell_type": "code",
   "execution_count": null,
   "metadata": {},
   "outputs": [],
   "source": []
  }
 ],
 "metadata": {
  "kernelspec": {
   "display_name": "Python 3",
   "language": "python",
   "name": "python3"
  },
  "language_info": {
   "codemirror_mode": {
    "name": "ipython",
    "version": 3
   },
   "file_extension": ".py",
   "mimetype": "text/x-python",
   "name": "python",
   "nbconvert_exporter": "python",
   "pygments_lexer": "ipython3",
   "version": "3.7.3"
  }
 },
 "nbformat": 4,
 "nbformat_minor": 2
}
