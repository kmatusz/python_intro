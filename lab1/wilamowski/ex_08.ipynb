{
 "cells": [
  {
   "cell_type": "markdown",
   "metadata": {},
   "source": [
    "# Web applications with Python - Bottle - exercise\n",
    "\n",
    "Create a web application that:\n",
    "* Reads user details (login name and password) from a csv (create one yourself for three users).\n",
    "* Requires login.\n",
    "* On the main page allows to set a favorite color (typed as text) and current online status (chosen from a closed list of possibilities). These value should be stored in session (use Python dictionary) per user. Your HTML form should try to read values that are currently set.\n",
    "* Displays favorite color and online status on every page in the footer.\n",
    "* Check if you can have two different users logged in at the same time (use two browsers)\n",
    "* Has a sub page that displays current exchange rate collected from ECB (http://www.ecb.europa.eu/stats/eurofxref/eurofxref-daily.xml). Cache your results and refresh the rates only if your last query was older than 1 hour (use time and requests libraries)."
   ]
  },
  {
   "cell_type": "code",
   "execution_count": null,
   "metadata": {
    "collapsed": true
   },
   "outputs": [],
   "source": []
  }
 ],
 "metadata": {
  "kernelspec": {
   "display_name": "Python 3",
   "language": "python",
   "name": "python3"
  },
  "language_info": {
   "codemirror_mode": {
    "name": "ipython",
    "version": 3
   },
   "file_extension": ".py",
   "mimetype": "text/x-python",
   "name": "python",
   "nbconvert_exporter": "python",
   "pygments_lexer": "ipython3",
   "version": "3.6.2"
  }
 },
 "nbformat": 4,
 "nbformat_minor": 2
}
