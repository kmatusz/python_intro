{
 "cells": [
  {
   "cell_type": "markdown",
   "metadata": {},
   "source": [
    "## Python, IPython, Jupyter\n",
    "Python is an interpreted programming language. Usually Python scripts are run from beginning to end. It is impossible to stop the program for a while, maintain its state, modify something and return to the operation. IPython (Interactive Python) has been created to solve this problem. It allows interactive work on scripts and stores objects in the memory permanently, so it is always possible to return to them. You can also run other code, stop it, and everything will be stored in memory. Jupyter on the other hand, is a graphical interface to run IPython.\n",
    "\n",
    "There are multiple environments to work in when it comes to Python, from simple Notepad, vim, nano, notepad++, Sublime Text, through Jupyter Notebook, to IDEs (pyCharm, Spyder etc.). Everyone is free to choose their preferred solution. During the course Jupyter Notebook is sufficient, because it is convenient, fast, has a user-friendly interface and makes making readable, structured text comments easy.\n",
    "\n",
    "## Using Notebook\n",
    "\n",
    "Using a notebook is very easy. Some important pieces of information:\n",
    "* You run a single cell using Shift+Enter (focus moves to the next cell) or Ctrl+Enter (focus stays in the same cell)\n",
    "* If you want to run all cells or e.g. all below active cell, click on Cell and appropriate Run option.\n",
    "\n",
    "You may use the icons above:\n",
    "* Rectangle: stop current action\n",
    "* +: add new, empty cell below currently active cell\n",
    "* Arrows up/down: move cells\n",
    "* Scissors: cut cell; two pieces of paper: copy cell\n",
    "* Dropdown menu: choose cell type (Markdown - text, Code - Python code)\n",
    "* Kernel (notebook) is restarted using Kernel > Restart or a Refresh (circle) arrow. Restarting a notebook makes you lose all results.\n",
    "* Once in a while, a notebook is saved automatically. However in crucial moments it is good practice to save manually (Ctrl+S). You should also do this before running new code.\n",
    "\n",
    "It is suggested that you get used to keyboard shortcuts. If you do anything repeatedly, you should search for a keyboard shortcut and start using it. Even if at the beginning it is slower, after a while work will become much faster.\n",
    "* Ctrl+/ : comment a line\n",
    "* Shift+Del or Ctrl+D : delete current line\n",
    "* Tab : indent a line or multiple lines, Shift+Tab : remove indentation (both at the beginning of a line or if many lines have been chosen)\n",
    "* Tab : autocomplete (at the end of a line)\n",
    "* Shift+Tab : show documentation of an object (usually between parentheses: () )\n",
    "* Help > Keyboard Shortcuts : show other keyboard shortcuts\n",
    "* Some people may miss a shortcut to duplicate a line. Fortunately, there is an Open Source solution: [Line duplication](https://github.com/jupyter/notebook/issues/1816)\n",
    "* If you don't like classic Notebook there, you can obviously change it: [Themes](https://github.com/dunovank/jupyter-themes)\n",
    "\n",
    "Keyboard shortcuts are also available in Notebook to work on cells. You can either be inside the cell (edit a cell) or work on cells. Switch between modes using keys Esc/Enter. In the cell edition mode additional shortcuts are available, e.g.:\n",
    "* A : add cell above\n",
    "* B : add cell below\n",
    "* C : copy a cell, X : cut, V : paste\n",
    "* Shift+Up : choose cells above, Shift+Down : choose cells below.\n"
   ]
  },
  {
   "cell_type": "markdown",
   "metadata": {},
   "source": [
    "# Basics: code organization and data structures\n",
    "## Code organization\n",
    "In Python code organization is based on indentation, as opposed to many other programming languages. We cannot use whitespace freely (apart from blank lines). Code blocks are created using indentation levels, and not curly brackets {}.\n",
    "The code below is incorrect and will not run:"
   ]
  },
  {
   "cell_type": "code",
   "execution_count": null,
   "metadata": {},
   "outputs": [],
   "source": [
    "x = 1\n",
    "    y = 2"
   ]
  },
  {
   "cell_type": "code",
   "execution_count": null,
   "metadata": {
    "collapsed": true
   },
   "outputs": [],
   "source": [
    "# You need to remove unnecessary indentation to run the code.\n",
    "x = 1\n",
    "\n",
    "y = 2"
   ]
  },
  {
   "cell_type": "markdown",
   "metadata": {},
   "source": [
    "At the beginning it may be frustrating, but you will get used to it soon. Thanks to this approach, the codeis always readable. Indentation is always right, and the number of unnecessary characters (for example {}) and lines is limited. There are no semicolons at the end of the line ;.\n",
    "\n",
    "**Tip: Tab and Shift+Tab allow you to indent one or multiple lines (in case of one line cursor must be at the beginning, unless you use alternative shortcuts: Ctrl+] or Ctrl+[, which also work on multiple lines)**"
   ]
  },
  {
   "cell_type": "markdown",
   "metadata": {},
   "source": [
    "## Print function and \"hello world\"\n",
    "\"print\" function displays text."
   ]
  },
  {
   "cell_type": "code",
   "execution_count": null,
   "metadata": {},
   "outputs": [],
   "source": [
    "print(\"Hello world! :)\")\n",
    "\n",
    "# Since Python 3 print is a function, so using parentheses is required.\n",
    "# In older versions of Python the following code was also right:\n",
    "# print \"Hello world! :)\"\n",
    "# Usually a print statement without parentheses is the easiest way to distinguish Python 2 from 3."
   ]
  },
  {
   "cell_type": "markdown",
   "metadata": {},
   "source": [
    "## Variables\n",
    "Python is an interpreted language (does not require compiling), which is characterized by dynamic type system - you are not required to declare variables' type. Interpreter itself guesses it."
   ]
  },
  {
   "cell_type": "code",
   "execution_count": null,
   "metadata": {},
   "outputs": [],
   "source": [
    "e = 2.72\n",
    "pi = \"3.14\"\n",
    "text = \"Hello world!\"\n",
    "print(\"Type of variable e:\", type(e),\n",
    "      \", type of variable text: \", type(text),\n",
    "      \", type of variable pi: \", type(pi))\n",
    "# Open parenthesis of print function allows for multiple lines with any indentation."
   ]
  },
  {
   "cell_type": "markdown",
   "metadata": {},
   "source": [
    "Print function can take multiple arguments.\n",
    "\n",
    "Showing a variable's content may be achieved in one more way:"
   ]
  },
  {
   "cell_type": "code",
   "execution_count": null,
   "metadata": {},
   "outputs": [],
   "source": [
    "print(\"Type of variable e: %s, type of variable text: %s, type of variable pi: %s\"\n",
    "      % (type(e), type(text), type(pi)))"
   ]
  },
  {
   "cell_type": "markdown",
   "metadata": {},
   "source": [
    "In this way you can control formatting better.\n",
    "We avoid unnecessary space before a comma.\n",
    "You can read more here: https://pyformat.info/"
   ]
  },
  {
   "cell_type": "markdown",
   "metadata": {},
   "source": [
    "Dynamic type system has both advantages:\n",
    "* faster code writing\n",
    "* less code\n",
    "\n",
    "and disadvantages:\n",
    "* longer running time\n",
    "* possibility of errors which are difficult to debug.\n",
    "\n",
    "Python allows easy typecasting (changing a variable type):"
   ]
  },
  {
   "cell_type": "code",
   "execution_count": null,
   "metadata": {},
   "outputs": [],
   "source": [
    "# Concacenating two strings using operator \"+\":\n",
    "print(str(e) + pi)\n",
    "# Adding two numbers:\n",
    "print(e + float(pi))"
   ]
  },
  {
   "cell_type": "code",
   "execution_count": null,
   "metadata": {},
   "outputs": [],
   "source": [
    "# Fortunately, this is not possible:\n",
    "print(e + float(text))"
   ]
  },
  {
   "cell_type": "markdown",
   "metadata": {},
   "source": [
    "## Operators\n",
    "Besides obvious operators (+,-,/,\\*) integer division (// - quotient, % - remainder) and exponentiation (\\*\\*) are available.\n",
    "\n",
    "Comparison operators are usual: >=, >, <=, <, ==, !=.\n",
    "\n",
    "Logical operators: & - AND, | - OR, ^ - XOR, ~ - NOT."
   ]
  },
  {
   "cell_type": "markdown",
   "metadata": {},
   "source": [
    "## Data structures\n",
    "### Objects\n",
    "Before describing other data structures you should know something about objects.\n",
    "\n",
    "A difference between objects and functions is (simplifying) as follows:\n",
    "**Functions is a set of instructions to run. They don't have a state and cannot \"exist\". Objects exist, there may be many objects simultaneously, and each one may be in a different state.**\n",
    "\n",
    "To say it in an easy way, object is a complex element, which may have multiple variables and methods (functions). Both variables being an object's element and available methods are accessed using a dot.\n",
    "\n",
    "``` python\n",
    "# Show contents of \"variable1\" being an element \n",
    "print(object1.variable1)\n",
    "# Function is similarly used\n",
    "result = object1.function1(pi)\n",
    "```\n",
    "\n",
    "### Basic data structures\n",
    "Four basic data structures in Python are:\n",
    "* lists\n",
    "* tuples\n",
    "* dictionaries\n",
    "* sets\n",
    "\n",
    "Array in Python exists as an object type, but is nearly never used in practice. Numpy is used for large tables/numerical matrices, and other cases are easier using lists. Full documentation is available here: https://docs.python.org/3/tutorial/datastructures.html"
   ]
  },
  {
   "cell_type": "markdown",
   "metadata": {},
   "source": [
    "### Lists\n",
    "Lists are a convenient and flexible method of storing data. Lists are dynamic and may change their state (are mutable). You can extend and modify them, which makes them very practical in everyday usage. This code shows their capabilities:"
   ]
  },
  {
   "cell_type": "code",
   "execution_count": null,
   "metadata": {},
   "outputs": [],
   "source": [
    "# Lists are created using square brackets\n",
    "emptyList = []\n",
    "# You can also create a new list object.\n",
    "emptyList2 = list()\n",
    "print(emptyList, emptyList2)\n",
    "colors = [\"red\", \"blue\", \"green\", \"orange\"]\n",
    "# Lists are indexed by a number\n",
    "print(colors[0])\n",
    "print(colors[:])\n",
    "# Print elements [1,3)\n",
    "print(colors[1:3])"
   ]
  },
  {
   "cell_type": "code",
   "execution_count": null,
   "metadata": {},
   "outputs": [],
   "source": [
    "# You can append an element to the end of the list in two ways\n",
    "colors[len(colors):] =[\"yellow\"]\n",
    "print(colors)\n",
    "# or use an existing method of a list object.\n",
    "colors.append(\"black\")\n",
    "print(colors)\n",
    "# You can also insert an element to the inside of the list\n",
    "colors.insert(2, \"black\")\n",
    "print(colors)"
   ]
  },
  {
   "cell_type": "code",
   "execution_count": null,
   "metadata": {},
   "outputs": [],
   "source": [
    "# Count how many times an element occurs:\n",
    "print(\"Count 'black':\", colors.count(\"black\"))\n",
    "# Does an element exist in the list?\n",
    "print(\"Is 'black' in the colors list?:\", \"black\" in colors)\n",
    "print(\"Is 'black' not in the colors list?:\", \"black\" not in colors)"
   ]
  },
  {
   "cell_type": "code",
   "execution_count": null,
   "metadata": {},
   "outputs": [],
   "source": [
    "# There are two ways of deleting elements\n",
    "numbers = [4, 5, 6]\n",
    "print(numbers)\n",
    "# Delete the first element equal to a given value\n",
    "numbers.remove(5)\n",
    "print(numbers)\n",
    "\n",
    "numbers = [4, 5, 6]\n",
    "# Delete element using an index\n",
    "numbers.pop(1)\n",
    "print(numbers)"
   ]
  },
  {
   "cell_type": "code",
   "execution_count": null,
   "metadata": {},
   "outputs": [],
   "source": [
    "numbers = [4, 5, 6]\n",
    "# You can also reverse a list\n",
    "numbers.reverse()\n",
    "print(numbers)"
   ]
  },
  {
   "cell_type": "code",
   "execution_count": null,
   "metadata": {},
   "outputs": [],
   "source": [
    "colors = [\"red\", \"blue\", \"green\"]\n",
    "numbers = [4, 5, 6]\n",
    "# Lists are very flexible. They allow you to have different data types in one list\n",
    "mixedList = colors + numbers\n",
    "print(mixedList)\n",
    "# You can even create a list of lists and other combinations\n",
    "mixedList1 = list(colors)\n",
    "mixedList1.append(numbers)\n",
    "print(mixedList1)\n",
    "mixedList2 = []\n",
    "mixedList2.append(colors)\n",
    "mixedList2.append(numbers)\n",
    "print(mixedList2)"
   ]
  },
  {
   "cell_type": "markdown",
   "metadata": {},
   "source": [
    "In the cell above function list() created a new list. Why did we have to do it to create mixedList2? What would happen if you wrote mixedList1 = colors instead of using a function?\n",
    "\n",
    "You can test this solution and wonder, why is the result different. We will return to this question soon."
   ]
  },
  {
   "cell_type": "markdown",
   "metadata": {},
   "source": [
    "Obviously sorting lists is also possible. How to sort a list in reverse? Place a cursor on \"sort\" or inside parentheses after \"sort\" and click Shift+Tab."
   ]
  },
  {
   "cell_type": "code",
   "execution_count": null,
   "metadata": {},
   "outputs": [],
   "source": [
    "# Sort:\n",
    "colors.sort()\n",
    "print(colors)\n",
    "print(\"Length before clearing\", len(colors))\n",
    "# ... and clear:\n",
    "colors.clear()\n",
    "print(colors)"
   ]
  },
  {
   "cell_type": "markdown",
   "metadata": {},
   "source": [
    "### Sets and lists\n",
    "Sets are most closely related to lists. You can perform similar operations as in the case of lists. Changing one data structure to another is very simple."
   ]
  },
  {
   "cell_type": "code",
   "execution_count": null,
   "metadata": {},
   "outputs": [],
   "source": [
    "colors1 = ['black', 'blue', 'green','yellow']\n",
    "colors2 = ['black', 'green', 'orange', 'red']\n",
    "# You can join two lists using addition\n",
    "allColors = colors1 + colors2\n",
    "print(allColors)"
   ]
  },
  {
   "cell_type": "markdown",
   "metadata": {},
   "source": [
    "As you can see, \"black\" and \"green\" are in the same list two times. What if we wanted to use lists as sets and avoid duplicates? We can convert lists to sets, which we will join.\n",
    "To avoid mistakes and maintain logical cohesion, operator of joining sets is different than lists.\n",
    "\n",
    "Pay attention to different bracket type in sets {}. We can create new sets using class name set() or by putting elements in {}. NOTICE: by typing \"var={}\" we create a dictionary and not a set, see more below."
   ]
  },
  {
   "cell_type": "code",
   "execution_count": null,
   "metadata": {},
   "outputs": [],
   "source": [
    "# Just like in the case of sets, you can create a new object.\n",
    "emptySet = set()\n",
    "print(emptySet)\n",
    "colors3 = {'brown', 'navy'}\n",
    "print(colors3)\n",
    "allColors = set(colors1) | set(colors2) | colors3\n",
    "# add one color more to allColors, you add elements to a set (and append to a list)\n",
    "print(allColors)\n",
    "allColors.add(\"violet\")\n",
    "print(allColors)\n",
    "# discard \"red\" from set (equivalent in lists: remove)\n",
    "allColors.discard(\"red\")\n",
    "print(allColors)\n",
    "# Convert set to list\n",
    "allColors = list(allColors)\n",
    "print(allColors)"
   ]
  },
  {
   "cell_type": "markdown",
   "metadata": {},
   "source": [
    "All arithmetic operations on sets are possible (for sets x, y):\n",
    "* Joining x.update(y), using an operator: x|=y\n",
    "* Intersecion x.intersection_update(y), using an operator: x&=y\n",
    "* Difference x.difference_update(y), using an operator: x-=y\n",
    "* Symmetric difference x.symmetric_difference_update(y), using an operator: x^=y\n",
    "\n",
    "For example:"
   ]
  },
  {
   "cell_type": "code",
   "execution_count": null,
   "metadata": {},
   "outputs": [],
   "source": [
    "commonColors = set(colors1) & set(colors2)\n",
    "print(commonColors)\n",
    "notCommonColors = set(colors1) ^ set(colors2)\n",
    "print(notCommonColors)"
   ]
  },
  {
   "cell_type": "markdown",
   "metadata": {},
   "source": [
    "Obviously you can check inclusion of sets:"
   ]
  },
  {
   "cell_type": "code",
   "execution_count": null,
   "metadata": {},
   "outputs": [],
   "source": [
    "print(\"Is colors2 a subset of colors1?\", set(colors1) > set(colors2))\n",
    "print(\"Is ['black', 'blue'] a subset of colors1?\", set(colors1) > set(['black', 'blue']))"
   ]
  },
  {
   "cell_type": "markdown",
   "metadata": {},
   "source": [
    "### Dictionaries\n",
    "Dictionaries are similar to sets. A set guarantees uniqueness of elements, so you can use it as a key/index. For every key there is a value (or None). Dictionaries are in a way an extensions of sets. In sets we have just unique values and in dictionaries unique keys. We can create an empty dict using {}."
   ]
  },
  {
   "cell_type": "code",
   "execution_count": null,
   "metadata": {},
   "outputs": [],
   "source": [
    "emptyDict = {}\n",
    "emptyDict2 = dict()\n",
    "print(emptyDict, emptyDict2)\n",
    "author = {'name': 'Maciej', 'surname':'Wilamowski', 'age': 31}\n",
    "print(author)\n",
    "# adding elements is simply defining value for a key\n",
    "author[\"height\"] = 192\n",
    "print(author)\n",
    "# key may also be a number\n",
    "author[1] = \"Python >> R\"\n",
    "print(author)\n",
    "# you can delete a single element from a dictionary\n",
    "del author[\"age\"]\n",
    "print(author)"
   ]
  },
  {
   "cell_type": "code",
   "execution_count": null,
   "metadata": {},
   "outputs": [],
   "source": [
    "# Just as in the case of sets you can join/update two dictionaries\n",
    "authorsAge = {'age': 32}\n",
    "author.update(authorsAge)\n",
    "print(author)"
   ]
  },
  {
   "cell_type": "markdown",
   "metadata": {},
   "source": [
    "Other operations which are possible to perform on sets cannot be performed on dictionaries, because in two dictionaries for the same key there may be a different value. Many operations would be ambiguous.\n",
    "It is possible to perform operations on keys alone."
   ]
  },
  {
   "cell_type": "code",
   "execution_count": null,
   "metadata": {},
   "outputs": [],
   "source": [
    "print(set(author.keys()))"
   ]
  },
  {
   "cell_type": "markdown",
   "metadata": {},
   "source": [
    "Sometimes you may want to print key/value pairs from a dictionary:"
   ]
  },
  {
   "cell_type": "code",
   "execution_count": null,
   "metadata": {},
   "outputs": [],
   "source": [
    "print(author.items())"
   ]
  },
  {
   "cell_type": "markdown",
   "metadata": {},
   "source": [
    "### Tuples\n",
    "Tuples are the last built-in data type. In practice, this data structure is not used directly too often in the area of data analysis. Tuples are similar to lists in some ways. You can choose elements by index, tuples may contain various variable types, be nested, etc.\n",
    "\n",
    "Parenthesis is used for tuples \"(\", reminder: lists use square brackets \"[\", sets \"{\" curly brackets."
   ]
  },
  {
   "cell_type": "code",
   "execution_count": null,
   "metadata": {},
   "outputs": [],
   "source": [
    "tuple1 = (5, 10, 15, \"Hurray!\")\n",
    "print(tuple1)\n",
    "print(tuple1[1])\n",
    "print(tuple1[3])"
   ]
  },
  {
   "cell_type": "markdown",
   "metadata": {},
   "source": [
    "There is, however, a substantial difference. Tuples are static/immutable objects. For this reason they cannot be changed after being created, it is also not possible to add elements (see code below).\n",
    "\n",
    "This behavior is completely different than in the case of lists, sets and dictionaries, which are dynamic and mutable. It makes them flexible and convenient for fast programming.\n",
    "\n",
    "Why do tuples and static objects exist? Because of their efficiency. If we cannot do \"anything' with them, they are simple to use, so we may have fast and efficient access to them. In practice the only case, in which we will use tuples, is returning multiple values from a function."
   ]
  },
  {
   "cell_type": "code",
   "execution_count": null,
   "metadata": {},
   "outputs": [],
   "source": [
    "tuple1[1] = 5"
   ]
  },
  {
   "cell_type": "markdown",
   "metadata": {},
   "source": [
    "### Strings\n",
    "Strinngs are another immutable data type. Strings will be covered more in depth later on. In Python, both single ' and double \" (as well as triple single, ''', for multiple lines) may be used to create strings."
   ]
  },
  {
   "cell_type": "code",
   "execution_count": null,
   "metadata": {},
   "outputs": [],
   "source": [
    "a = \"hello\"\n",
    "b = 'world'\n",
    "# You can print first four characters in order\n",
    "print(a[0], a[1], a[2], a[3])\n",
    "# Or at once\n",
    "print(a[0:4])\n",
    "# Adding two strings together creates a third objects, a and b remain unchanged.\n",
    "print(a + b)\n",
    "c = '''This is a string\n",
    "that contains\n",
    "many\n",
    "lines ... '''\n",
    "print(c)"
   ]
  },
  {
   "cell_type": "code",
   "execution_count": null,
   "metadata": {
    "collapsed": true
   },
   "outputs": [],
   "source": []
  }
 ],
 "metadata": {
  "kernelspec": {
   "display_name": "Python 3",
   "language": "python",
   "name": "python3"
  },
  "language_info": {
   "codemirror_mode": {
    "name": "ipython",
    "version": 3
   },
   "file_extension": ".py",
   "mimetype": "text/x-python",
   "name": "python",
   "nbconvert_exporter": "python",
   "pygments_lexer": "ipython3",
   "version": "3.7.3"
  }
 },
 "nbformat": 4,
 "nbformat_minor": 2
}
