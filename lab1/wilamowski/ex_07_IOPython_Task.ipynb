{
 "cells": [
  {
   "cell_type": "markdown",
   "metadata": {},
   "source": [
    "# IO Python Tasks"
   ]
  },
  {
   "cell_type": "markdown",
   "metadata": {},
   "source": [
    "# Task_1"
   ]
  },
  {
   "cell_type": "markdown",
   "metadata": {},
   "source": [
    "Please write class calculator, which contains:\n",
    "- atributes:\n",
    "     - memList - list which stores obtained results \n",
    "- methods:\n",
    "   - Add - returns a+b\n",
    "   - Sub - returns a-b\n",
    "   - Div - returns a/b\n",
    "   - Mlt - returns a*b\n",
    "   - Clear - clears memory\n",
    "   - PrintAll - printsAll results from memory\n",
    "   - Write - write results stored in memeory to txt file\n",
    "   - Read - read results from txt file into memory\n",
    "    \n",
    "Additionally, pls add  user interface, which:\n",
    "- 1)takes two numbers a and b from user\n",
    "- 2)asks user about operation type,where:\n",
    "   - A - Add\n",
    "   - S - Sub\n",
    "   - D - Div\n",
    "   - M - Mlt\n",
    "   - C - Clear\n",
    "   - P - PrintAll\n",
    "   - W - Write\n",
    "   - R- Read\n",
    "   - E -Exit"
   ]
  },
  {
   "cell_type": "markdown",
   "metadata": {},
   "source": [
    "# Task_2"
   ]
  },
  {
   "cell_type": "markdown",
   "metadata": {},
   "source": [
    "Please write recursive function,which calculates Fibonaci number for given input parameter."
   ]
  },
  {
   "cell_type": "markdown",
   "metadata": {},
   "source": [
    "# Task_3"
   ]
  },
  {
   "cell_type": "markdown",
   "metadata": {},
   "source": [
    "Please extend the class Matrix with method Mlt. Mlt method should return result of multiplication of two matrixes. Both matrixes are square matirxes and have the same size.   "
   ]
  },
  {
   "cell_type": "markdown",
   "metadata": {},
   "source": [
    "# Task_4"
   ]
  },
  {
   "cell_type": "markdown",
   "metadata": {},
   "source": [
    "Please define Employee class , Driver class,Policeman class and Teacher class . Please decide, which class is a base class. Objects of each class should contain following information: name,surname,age,salary.Class Policeman has one extra field: rank. Please override method GiveMeRise() in each child class. Additionally, please create two objects of each class and put them into one list. Change the salary of all employees in the list.       "
   ]
  },
  {
   "cell_type": "code",
   "execution_count": null,
   "metadata": {
    "collapsed": true
   },
   "outputs": [],
   "source": []
  }
 ],
 "metadata": {
  "kernelspec": {
   "display_name": "Python 3",
   "language": "python",
   "name": "python3"
  },
  "language_info": {
   "codemirror_mode": {
    "name": "ipython",
    "version": 3
   },
   "file_extension": ".py",
   "mimetype": "text/x-python",
   "name": "python",
   "nbconvert_exporter": "python",
   "pygments_lexer": "ipython3",
   "version": "3.6.2"
  }
 },
 "nbformat": 4,
 "nbformat_minor": 2
}
