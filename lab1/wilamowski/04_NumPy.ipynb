{
 "cells": [
  {
   "cell_type": "markdown",
   "metadata": {},
   "source": [
    "# NumPy\n",
    "Numpy is an essential Python package for vector and matrix operations. It is fast, flexible, useful for handling large datasets and pseudorandom numbers. It makes a foundation for multiple other packages, including Pandas."
   ]
  },
  {
   "cell_type": "markdown",
   "metadata": {},
   "source": [
    "## Creating objects\n",
    "### Manual filling\n",
    "Usually when using Numpy as one of multiple libaries, we import it as np (import numpy as np). To increase code readability in this notebook we import all numpy functions directly.\n",
    "\n",
    "Let us begin with two easiest examples, creating a vector and a matrix."
   ]
  },
  {
   "cell_type": "code",
   "execution_count": 1,
   "metadata": {},
   "outputs": [
    {
     "name": "stdout",
     "output_type": "stream",
     "text": [
      "[1 2 3 4] <class 'numpy.ndarray'> (4,) 4\n",
      "[[1 2]\n",
      " [3 4]] <class 'numpy.ndarray'> (2, 2) 4\n"
     ]
    }
   ],
   "source": [
    "from numpy import *\n",
    "v = array([1,2,3,4])\n",
    "print(v, type(v), v.shape, v.size)\n",
    "M = array([[1,2],[3,4]])\n",
    "print(M, type(M), M.shape, M.size)"
   ]
  },
  {
   "cell_type": "markdown",
   "metadata": {},
   "source": [
    "### \"zeros\", \"ones\" and \"empty\"\n",
    "You rarely want to fill vector/matrix values manually. Usually you would want to initialize it in a different way. Most common options are zeros, ones and empty. Each of these functions requires a shape argument and optionally takes arguments about matrix's type and orientation (default: rows x columns). You can find other ways to create arrays here:\n",
    "https://docs.scipy.org/doc/numpy/reference/routines.array-creation.html "
   ]
  },
  {
   "cell_type": "code",
   "execution_count": 2,
   "metadata": {},
   "outputs": [
    {
     "name": "stdout",
     "output_type": "stream",
     "text": [
      "[[ 0.  0.  0.  0.]\n",
      " [ 0.  0.  0.  0.]\n",
      " [ 0.  0.  0.  0.]]\n",
      "[[ 1.  1.  1.  1.]\n",
      " [ 1.  1.  1.  1.]\n",
      " [ 1.  1.  1.  1.]] <class 'numpy.float32'>\n",
      "[[ 1.  1.  1.  1.]\n",
      " [ 1.  1.  1.  1.]\n",
      " [ 1.  1.  1.  1.]]\n"
     ]
    }
   ],
   "source": [
    "print(zeros((3, 4)))\n",
    "print(ones((3, 4)), float32)\n",
    "# You cannot foresee what will be used to fill a matrix when using empty.\n",
    "# Because it is only marginally faster than zeros and ones you should not use it often.\n",
    "print(empty((3, 4)))"
   ]
  },
  {
   "cell_type": "markdown",
   "metadata": {},
   "source": [
    "### Convert existing object to a matrix\n",
    "Sometimes you may want to create a matrix from an existing object. It is good to mention here that changing shape of a matrix is easy and fast even for large matrices. It does not change the way how matrix is stored in memory, just the way how memory is interpreted."
   ]
  },
  {
   "cell_type": "code",
   "execution_count": 3,
   "metadata": {},
   "outputs": [
    {
     "name": "stdout",
     "output_type": "stream",
     "text": [
      "List:  [0, 1, 2, 3, 4, 5, 6, 7, 8, 9, 10, 11]\n",
      "numpy matrix: [ 0  1  2  3  4  5  6  7  8  9 10 11]\n",
      "numpy matrix with a different shape:\n",
      " [[ 0  1  2  3]\n",
      " [ 4  5  6  7]\n",
      " [ 8  9 10 11]]\n"
     ]
    }
   ],
   "source": [
    "x = list(range(12))\n",
    "print(\"List: \", x)\n",
    "print(\"numpy matrix:\", asarray(x))\n",
    "print(\"numpy matrix with a different shape:\\n\", asarray(x).reshape((3, 4)))"
   ]
  },
  {
   "cell_type": "markdown",
   "metadata": {},
   "source": [
    "### Vector/matrix as range\n",
    "Reshape method called on an existing matrix does not return its copy. It creates a new \"view\" of the same data.\n",
    "\n",
    "Look at the example below, which uses arange - a way to create matrix from a range, which takes arguments analogous to Python's range."
   ]
  },
  {
   "cell_type": "code",
   "execution_count": 4,
   "metadata": {},
   "outputs": [
    {
     "name": "stdout",
     "output_type": "stream",
     "text": [
      "[ 0  2  4  6  8 10 12 14 16 18 20 22]\n",
      "Changing the value of 'r' also changes the value of 'R'\n",
      "[[10  2  4  6]\n",
      " [ 8 10 12 14]\n",
      " [16 18 20 22]]\n",
      "[[10  2  4  6]\n",
      " [ 8 10 12 14]\n",
      " [16 18 20 22]]\n"
     ]
    }
   ],
   "source": [
    "r = arange(0, 23, 2)\n",
    "print(r)\n",
    "R = r.reshape((3, 4))\n",
    "# Alternatively, you can write the line above like this: R = reshape(r, (3, 4))\n",
    "r[0]=10\n",
    "r.shape=(3, 4)\n",
    "print(\"Changing the value of 'r' also changes the value of 'R'\")\n",
    "print(R)\n",
    "print(r)"
   ]
  },
  {
   "cell_type": "markdown",
   "metadata": {},
   "source": [
    "Those interested how matrix implementation works should read the following stackoverflow answer: http://stackoverflow.com/a/22074424 Those very interested may read the documentation https://docs.scipy.org/doc/numpy/reference/internals.html"
   ]
  },
  {
   "cell_type": "markdown",
   "metadata": {},
   "source": [
    "### Random contents\n",
    "Numpy allows filling a matrix with random numbers using a given distribution. There are many available distributions: https://docs.scipy.org/doc/numpy/reference/routines.random.html. In every available method if you do not pass a matrix's shape you get one random number returned. Remember that the methods belong to the object random."
   ]
  },
  {
   "cell_type": "code",
   "execution_count": 5,
   "metadata": {},
   "outputs": [
    {
     "name": "stdout",
     "output_type": "stream",
     "text": [
      "Single random numbers:\n",
      "0.39923391972589417\n",
      "1.9808748006404178\n",
      "18.19675975103865\n",
      "\n",
      "Matrix of a uniform distribution [0,1):\n",
      "[[ 0.73084423  0.08538792  0.44894502  0.40983055]\n",
      " [ 0.23588411  0.60316313  0.35558514  0.26999324]\n",
      " [ 0.89418474  0.894927    0.64148999  0.45561377]]\n",
      "\n",
      "Matrix of a normal distribution N~(0,1):\n",
      "[[-0.47280876  0.4499753   0.16759649  0.92744924]\n",
      " [-0.7735054   0.35694267  0.13074422  0.62443542]\n",
      " [-1.34771498 -1.2934676   0.8296635  -1.01951678]]\n",
      "\n",
      "Matrix of a normal distribution N~(20,5):\n",
      "[[ 18.15291898  35.10410506  23.25855334  17.61607905]\n",
      " [ 20.86059143  19.0789621   29.13755945  26.68840505]\n",
      " [ 25.61408178  23.66263181  17.23144812  27.15415787]]\n"
     ]
    }
   ],
   "source": [
    "print(\"Single random numbers:\")\n",
    "print(random.random()) # float U~[0,1)]\n",
    "print(random.normal()) # float N~[0,1)]\n",
    "print(random.normal(20, 5)) # float N~[20,5)]\n",
    "\n",
    "print(\"\\nMatrix of a uniform distribution [0,1):\")\n",
    "print(random.random((3, 4))) # float U~[0,1)]\n",
    "print(\"\\nMatrix of a normal distribution N~(0,1):\")\n",
    "print(random.normal(size=(3, 4))) # float N~(0,1)]\n",
    "print(\"\\nMatrix of a normal distribution N~(20,5):\")\n",
    "print(random.normal(20, 5, (3, 4))) # float N~(20,5)]"
   ]
  },
  {
   "cell_type": "markdown",
   "metadata": {},
   "source": [
    "## Transformation\n",
    "You have seen basic transformations in examples above. Some additional useful transformation are shown below.\n",
    "\n",
    "Numpy makes transformations easy. If one of passed dimensions equals -1, you tell numpy to infer the new dimension."
   ]
  },
  {
   "cell_type": "code",
   "execution_count": 6,
   "metadata": {},
   "outputs": [
    {
     "name": "stdout",
     "output_type": "stream",
     "text": [
      "[ 0  1  2  3  4  5  6  7  8  9 10 11]\n",
      "[[ 0  1  2  3  4  5]\n",
      " [ 6  7  8  9 10 11]]\n",
      "[[[ 0  1  2]\n",
      "  [ 3  4  5]]\n",
      "\n",
      " [[ 6  7  8]\n",
      "  [ 9 10 11]]]\n",
      "A special case is creating a one-dimensional object and a zero-dimensional vector.\n",
      "(1, 12) (12,)\n",
      "The last example is so widely used that it even has its own functions.\n",
      "As you have seen earlier, .reshape only returns a new view if it is possible.\n",
      ".ravel() behaves in a fully analogous way to r.reshape(-1).shape\n",
      "(12,)\n",
      "However, .flatten() returns a copy\n",
      "[[ 0  1  2  3]\n",
      " [ 4  5  6  7]\n",
      " [ 8  9 10 11]]\n",
      "[[100 100 100 100]\n",
      " [  4   5   6   7]\n",
      " [  8   9  10  11]]\n",
      "[ 0  1  2  3  4  5  6  7  8  9 10 11]\n"
     ]
    }
   ],
   "source": [
    "r = arange(0, 12, 1)\n",
    "print(r)\n",
    "print(r.reshape((2, -1)))\n",
    "print(r.reshape((2, 2, -1))) # Three-dimensional matrix / two matrices 2x3\n",
    "print(\"A special case is creating a one-dimensional object and a zero-dimensional vector.\")\n",
    "r.shape=(3,4)\n",
    "print(r.reshape(1, -1).shape, r.reshape(-1).shape)\n",
    "print(\"The last example is so widely used that it even has its own functions.\")\n",
    "print(\"As you have seen earlier, .reshape only returns a new view if it is possible.\")\n",
    "print(\".ravel() behaves in a fully analogous way to r.reshape(-1).shape\")\n",
    "r.shape=(3,4)\n",
    "print(r.ravel().shape)\n",
    "print(\"However, .flatten() returns a copy\")\n",
    "print(r)\n",
    "p = r.flatten()\n",
    "r[0]=100\n",
    "print(r)\n",
    "print(p)\n"
   ]
  },
  {
   "cell_type": "markdown",
   "metadata": {},
   "source": [
    "## Memory addressing and indexing\n",
    "Numpy creates row-major matrices by default. If you select a part of a two-dimensional matrix using only one dimension, you get the specified row. If you want to select a column, you also have to select all rows (:)."
   ]
  },
  {
   "cell_type": "code",
   "execution_count": 7,
   "metadata": {},
   "outputs": [
    {
     "name": "stdout",
     "output_type": "stream",
     "text": [
      "[[ 0  1  2  3]\n",
      " [ 4  5  6  7]\n",
      " [ 8  9 10 11]]\n",
      "Row:  [ 8  9 10 11] ; row's dimension (4,)\n",
      "Column:  [ 2  6 10]\n"
     ]
    }
   ],
   "source": [
    "r = arange(0, 12)\n",
    "r.shape=(3, 4)\n",
    "print(r)\n",
    "print(\"Row: \", r[2], \"; row's dimension\", r[2].shape) # alternatively, r[2, :]\n",
    "print(\"Column: \", r[:,2])"
   ]
  },
  {
   "cell_type": "markdown",
   "metadata": {},
   "source": [
    "An interesting fact is that if you choose a single row it is a vector (second dimension equals 0). Dimensions (4,) and (4,1) are not the same views. You may see this problem occur during algebraic operations which require a one-dimensional structure (not zero-dimensional)."
   ]
  },
  {
   "cell_type": "markdown",
   "metadata": {},
   "source": [
    "If you assign values to a part of a matrix, you do not have to care about problems with memory addressing or references. The behavior is as expected."
   ]
  },
  {
   "cell_type": "code",
   "execution_count": 8,
   "metadata": {},
   "outputs": [
    {
     "name": "stdout",
     "output_type": "stream",
     "text": [
      "[[ 0  1  2  3]\n",
      " [ 8  9 10 11]\n",
      " [ 8  9 10 11]]\n",
      "[[  0   1   2   3]\n",
      " [  8   9  10  11]\n",
      " [  8 100  10  11]]\n"
     ]
    }
   ],
   "source": [
    "r[1]=r[2]\n",
    "print(r)\n",
    "r[2,1]=100\n",
    "print(r)"
   ]
  },
  {
   "cell_type": "markdown",
   "metadata": {},
   "source": [
    "You can change values of cells, rows, columns and parts of matrix."
   ]
  },
  {
   "cell_type": "code",
   "execution_count": 9,
   "metadata": {},
   "outputs": [
    {
     "name": "stdout",
     "output_type": "stream",
     "text": [
      "Large matrix:\n",
      "[[ 1.  1.  1.  1.]\n",
      " [ 1.  1.  1.  1.]\n",
      " [ 1.  1.  1.  1.]\n",
      " [ 1.  1.  1.  1.]]\n",
      "Small matrix:\n",
      "[[ 1.  1.]\n",
      " [ 1.  1.]]\n",
      "Changed large matrix:\n",
      "[[ 1.  1.  1.  1.]\n",
      " [ 1.  2.  2.  1.]\n",
      " [ 1.  2.  2.  1.]\n",
      " [ 1.  1.  1.  1.]]\n"
     ]
    }
   ],
   "source": [
    "ones1 = ones((4,4))\n",
    "ones2 = ones((2,2))\n",
    "print(\"Large matrix:\")\n",
    "print(ones1)\n",
    "print(\"Small matrix:\")\n",
    "print(ones2)\n",
    "ones1[1:3, 1:3]+=ones2\n",
    "print(\"Changed large matrix:\")\n",
    "print(ones1)"
   ]
  },
  {
   "cell_type": "markdown",
   "metadata": {},
   "source": [
    "# Combining/dividing matrices\n",
    "These operations are often used. Useful functions for this purpose are concatenate and split. The first name is hard to remember, if you want you may use aliases (vstack and hstack). For the sake of readability, only shapes of newly created matrices are printed."
   ]
  },
  {
   "cell_type": "code",
   "execution_count": 10,
   "metadata": {},
   "outputs": [
    {
     "name": "stdout",
     "output_type": "stream",
     "text": [
      "(3, 4) (3, 4)\n",
      "Concatenating vertically:\n",
      "(6, 4) (6, 4)\n",
      "Concatenating horizontally:\n",
      "(3, 8) (3, 8)\n",
      "Split returns a list which contains two matrices.\n",
      "(3, 2) (3, 2)\n",
      "You can only split the x matrix to two halves only by columns, because the number of rows is odd.\n",
      "(1, 4) (1, 4) (1, 4)\n"
     ]
    }
   ],
   "source": [
    "x = random.randint(0, 12, size=(3, 4))\n",
    "y = random.randint(0, 12, size=(3, 4))\n",
    "print(x.shape, y.shape)\n",
    "print(\"Concatenating vertically:\")\n",
    "print(concatenate((x,y), axis=0).shape, vstack((x,y)).shape)\n",
    "print(\"Concatenating horizontally:\")\n",
    "print(concatenate((x,y), axis=1).shape, hstack((x,y)).shape)\n",
    "print(\"Split returns a list which contains two matrices.\")\n",
    "print(split(x, 2, axis=1)[0].shape, split(x, 2, axis=1)[1].shape)\n",
    "print(\"You can only split the x matrix to two halves only by columns, because the number of rows is odd.\")\n",
    "print(split(x, 3, axis=0)[0].shape, split(x, 3, axis=0)[1].shape, split(x, 3, axis=0)[2].shape)"
   ]
  },
  {
   "cell_type": "markdown",
   "metadata": {},
   "source": [
    "## Variable types\n",
    "All available numpy data types are shown here: https://docs.scipy.org/doc/numpy/user/basics.types.html. Fortunately,\n",
    "numpy allows for easy typecasting. However, if running time and/or memory efficiency are important, you should declare the right type at the beginning. Remember that choosing a different type than default float64 may cause problems. If you make a mistake you may create a \"nuclear Gandhi\" (http://knowyourmeme.com/memes/nuclear-gandhi)."
   ]
  },
  {
   "cell_type": "code",
   "execution_count": 11,
   "metadata": {},
   "outputs": [
    {
     "name": "stdout",
     "output_type": "stream",
     "text": [
      "[  1.00000000e+00   2.00000000e+00   2.50000000e+00  -1.00000000e+00\n",
      "  -1.25000000e+00   3.27640000e+04   4.29496129e+09   1.84467441e+19]\n",
      "float64\n",
      "[                   1                    2                    2\n",
      "                   -1                   -1                32764\n",
      "           4294961294 -9223372036854775808]\n",
      "[                   1                    2                    2\n",
      " 18446744073709551615 18446744073709551615                32764\n",
      "           4294961294 18446744073709541376]\n",
      "[ 1  2  2 -1 -1 -4  0  0]\n",
      "[  1   2   2 255 255 252   0   0]\n"
     ]
    }
   ],
   "source": [
    "L = array([1, 2, 2.5, -1, -1.25, 32764, 4294961294, 18446744073709541613])\n",
    "print(L)\n",
    "print(L.dtype)\n",
    "print(L.astype(int))\n",
    "print(L.astype(uint))\n",
    "print(L.astype(int8))\n",
    "print(L.astype(uint8))"
   ]
  },
  {
   "cell_type": "markdown",
   "metadata": {},
   "source": [
    "## Descriptive statistics\n",
    "Functions used in descriptive statistics are implemented in a standard and efficient way. The full list is available here: https://docs.scipy.org/doc/numpy/reference/routines.statistics.html. A few examples are shown below."
   ]
  },
  {
   "cell_type": "code",
   "execution_count": 12,
   "metadata": {},
   "outputs": [
    {
     "name": "stdout",
     "output_type": "stream",
     "text": [
      "[[ 0  1  2  3]\n",
      " [ 4  5  6  7]\n",
      " [ 8  9 10 11]]\n",
      "0\n",
      "[0 1 2 3]\n",
      "[0 4 8]\n"
     ]
    }
   ],
   "source": [
    "r = arange(0, 12)\n",
    "r.shape=(3, 4)\n",
    "print(r)\n",
    "print(amin(r))\n",
    "print(amin(r, axis=0))\n",
    "print(amin(r, axis=1))\n"
   ]
  },
  {
   "cell_type": "code",
   "execution_count": 13,
   "metadata": {},
   "outputs": [
    {
     "name": "stdout",
     "output_type": "stream",
     "text": [
      "[   3   51  336 1305 2727 2997 1841  603  127   10]\n",
      "[-4.15216489 -3.35307711 -2.55398933 -1.75490155 -0.95581377 -0.15672598\n",
      "  0.6423618   1.44144958  2.24053736  3.03962514  3.83871293]\n"
     ]
    }
   ],
   "source": [
    "x = random.normal(size=(100, 100))\n",
    "hist = histogram(x, bins=10)\n",
    "# length of a list of counts in an interval equals the number of bins\n",
    "print(hist[0])\n",
    "# length of a list of interval's boundaries equals the number of bins + 1\n",
    "print(hist[1])"
   ]
  },
  {
   "cell_type": "markdown",
   "metadata": {},
   "source": [
    "## Sorting\n",
    "Sorting is an operation used quite often. It is important to see a difference between sorting in place and sorting a copy. It may be surprising that numpy does not have implemented sorting in descending order by default. You have to flip a sorted matrix."
   ]
  },
  {
   "cell_type": "code",
   "execution_count": 14,
   "metadata": {},
   "outputs": [
    {
     "name": "stdout",
     "output_type": "stream",
     "text": [
      "[[ 3  2  3 11]\n",
      " [ 3  1  1  1]\n",
      " [10  9  9 10]]\n",
      "np.sort returns a copy of an object.\n",
      "Sorting by column means sorting rows -> axis=0\n",
      "[[ 3  1  1  1]\n",
      " [ 3  2  3 10]\n",
      " [10  9  9 11]]\n",
      "[[10  9  9 11]\n",
      " [ 3  2  3 10]\n",
      " [ 3  1  1  1]]\n",
      "Sorting by row means sorting columns -> axis=1\n",
      "[[ 2  3  3 11]\n",
      " [ 1  1  1  3]\n",
      " [ 9  9 10 10]]\n",
      "[[11  3  3  2]\n",
      " [ 3  1  1  1]\n",
      " [10 10  9  9]]\n",
      "\n",
      "Sorting in place is fully analogous:\n",
      "[[ 3  1  1  1]\n",
      " [ 3  2  3 10]\n",
      " [10  9  9 11]]\n",
      "[[ 1  1  1  3]\n",
      " [ 2  3  3 10]\n",
      " [ 9  9 10 11]]\n"
     ]
    }
   ],
   "source": [
    "x = random.randint(0, 12, size=(3, 4))\n",
    "print(x)\n",
    "print(\"np.sort returns a copy of an object.\")\n",
    "\n",
    "print(\"Sorting by column means sorting rows -> axis=0\")\n",
    "print(sort(x, axis=0))\n",
    "print(flipud(sort(x, axis=0)))\n",
    "\n",
    "print(\"Sorting by row means sorting columns -> axis=1\")\n",
    "print(sort(x, axis=1))\n",
    "print(fliplr(sort(x, axis=1)))\n",
    "\n",
    "print(\"\\nSorting in place is fully analogous:\")\n",
    "x.sort(axis=0)\n",
    "print(x)\n",
    "x.sort(axis=1)\n",
    "print(x)"
   ]
  },
  {
   "cell_type": "markdown",
   "metadata": {},
   "source": [
    "You may wonder if flipping a matrix is faster than multiplying it by -1 two times. As you can see, the difference is small."
   ]
  },
  {
   "cell_type": "code",
   "execution_count": 15,
   "metadata": {},
   "outputs": [
    {
     "name": "stdout",
     "output_type": "stream",
     "text": [
      "33.2 ms ± 609 µs per loop (mean ± std. dev. of 7 runs, 10 loops each)\n",
      "36.5 ms ± 875 µs per loop (mean ± std. dev. of 7 runs, 10 loops each)\n"
     ]
    }
   ],
   "source": [
    "# Create a large matrix, so that possible differences are significant:\n",
    "x = random.normal(size=(1000, 1000))\n",
    "%timeit flipud(sort(x, axis=0))\n",
    "%timeit (-1*sort(-x, axis=0))"
   ]
  },
  {
   "cell_type": "markdown",
   "metadata": {},
   "source": [
    "Sometimes you may want to know what are the sorted indices of the matrix."
   ]
  },
  {
   "cell_type": "code",
   "execution_count": 16,
   "metadata": {},
   "outputs": [
    {
     "name": "stdout",
     "output_type": "stream",
     "text": [
      "[[ 8  3  9  1]\n",
      " [ 6  1  1  6]\n",
      " [ 5 11  1  7]]\n",
      "[[2 1 1 0]\n",
      " [1 0 2 1]\n",
      " [0 2 0 2]]\n",
      "[[3 1 0 2]\n",
      " [1 2 0 3]\n",
      " [2 0 3 1]]\n"
     ]
    }
   ],
   "source": [
    "x = random.randint(0, 12, size=(3, 4))\n",
    "print(x)\n",
    "print(argsort(x, axis=0))\n",
    "print(argsort(x, axis=1))"
   ]
  },
  {
   "cell_type": "markdown",
   "metadata": {},
   "source": [
    "## Algebra and other functions\n",
    "Numpy has many mathematical, algebraic etc. functions built in. You will see a few examples below. Ability to find a function you need in the documentation is a crucial skill. Not only you see if a function is implemented, but also you know how the implementation works.\n",
    "\n",
    "Using the example of mathematical functions you will see how important it is to use built-in functions whenever possible.\n",
    "\n",
    "* Mathematical functions: https://docs.scipy.org/doc/numpy/reference/routines.math.html\n",
    "* Algebraic functions: https://docs.scipy.org/doc/numpy/reference/routines.linalg.html\n",
    "* Other groups of functions: https://docs.scipy.org/doc/numpy/reference/index.html"
   ]
  },
  {
   "cell_type": "code",
   "execution_count": 17,
   "metadata": {},
   "outputs": [
    {
     "name": "stdout",
     "output_type": "stream",
     "text": [
      "[0 1 2 3]\n",
      "[1 2 3 4]\n",
      "Multiplying vectors:\n",
      "20\n",
      "\n",
      "matrices\n",
      "[[0 1]\n",
      " [2 3]]\n",
      "[[1 2]\n",
      " [3 4]]\n",
      "\n",
      "Multiplying matrices:\n",
      "[[ 3  4]\n",
      " [11 16]]\n",
      "\n",
      "Inversing matrices:\n",
      "[[-1.5  0.5]\n",
      " [ 1.   0. ]]\n"
     ]
    }
   ],
   "source": [
    "M = arange(0, 4)\n",
    "N = arange(1, 5)\n",
    "M.shape=(-1)\n",
    "N.shape=(-1)\n",
    "print(M)\n",
    "print(N)\n",
    "print(\"Multiplying vectors:\")\n",
    "print(dot(M,N))\n",
    "\n",
    "print(\"\\nmatrices\")\n",
    "M = arange(0, 4)\n",
    "N = arange(1, 5)\n",
    "M.shape=(2, 2)\n",
    "N.shape=(2, 2)\n",
    "print(M)\n",
    "print(N)\n",
    "print(\"\\nMultiplying matrices:\")\n",
    "print(dot(M,N))\n",
    "print(\"\\nInversing matrices:\")\n",
    "print(linalg.inv(M))"
   ]
  },
  {
   "cell_type": "markdown",
   "metadata": {},
   "source": [
    "Compare how fast a simple operation using a built-in numpy function is compared to solving the same problem using Python alone."
   ]
  },
  {
   "cell_type": "code",
   "execution_count": 18,
   "metadata": {},
   "outputs": [
    {
     "name": "stdout",
     "output_type": "stream",
     "text": [
      "Max:\n",
      "3.95 ms ± 123 µs per loop (mean ± std. dev. of 7 runs, 100 loops each)\n",
      "3.78 µs ± 609 ns per loop (mean ± std. dev. of 7 runs, 100 loops each)\n",
      "Sin:\n",
      "1.79 ms ± 15.6 µs per loop (mean ± std. dev. of 7 runs, 100 loops each)\n",
      "147 µs ± 320 ns per loop (mean ± std. dev. of 7 runs, 100 loops each)\n",
      "Mean:\n",
      "9.16 µs ± 542 ns per loop (mean ± std. dev. of 7 runs, 100 loops each)\n",
      "8.26 µs ± 493 ns per loop (mean ± std. dev. of 7 runs, 100 loops each)\n"
     ]
    }
   ],
   "source": [
    "import math\n",
    "x = random.normal(size=(10000, 1))\n",
    "print(\"Max:\")\n",
    "%timeit -n 100 max(x)\n",
    "%timeit -n 100 x.max()\n",
    "\n",
    "print(\"Sin:\")\n",
    "%timeit -n 100 [math.sin(z) for z in x]\n",
    "%timeit -n 100 sin(x)\n",
    "\n",
    "print(\"Mean:\")\n",
    "%timeit -n 100 mean(x)\n",
    "%timeit -n 100 x.mean()"
   ]
  },
  {
   "cell_type": "markdown",
   "metadata": {},
   "source": [
    "As you can see a simple functiom max is over a thousand times\\* faster in numpy. sin is over 10 times faster, the difference for a mean is only 10-20%.\n",
    "\n",
    "\\* When running the cell for the first time you may see a message: \"The slowest run took 4.07 times longer than the fastest. This could mean that an intermediate result is being cached.\". It means that the max function is even slower in practice, as the best 3 results are probably using cache."
   ]
  },
  {
   "cell_type": "markdown",
   "metadata": {},
   "source": [
    "## Vectorize\n",
    "Sometimes you may want to perform operations which are impossible to define using numpy functions. In this case you may rewrite a function to a vector \"numpy\" version. It is not perfect, but may often save time."
   ]
  },
  {
   "cell_type": "code",
   "execution_count": 19,
   "metadata": {},
   "outputs": [
    {
     "name": "stdout",
     "output_type": "stream",
     "text": [
      "1.25 ms ± 51.4 µs per loop (mean ± std. dev. of 7 runs, 1000 loops each)\n"
     ]
    }
   ],
   "source": [
    "def newFunc(x):\n",
    "    if x >= 0.5:\n",
    "        return x\n",
    "    else:\n",
    "        return 0.0\n",
    "    \n",
    "newFuncV = vectorize(newFunc)\n",
    "x = random.normal(size=(10000, 1))\n",
    "%timeit y=newFuncV(x)"
   ]
  },
  {
   "cell_type": "code",
   "execution_count": 20,
   "metadata": {},
   "outputs": [
    {
     "name": "stdout",
     "output_type": "stream",
     "text": [
      "8.39 ms ± 68.9 µs per loop (mean ± std. dev. of 7 runs, 100 loops each)\n"
     ]
    }
   ],
   "source": [
    "%%timeit\n",
    "y=x.copy()\n",
    "for i in range(y.shape[0]):\n",
    "    if y[i]<0.5:\n",
    "        y[i]=0   "
   ]
  },
  {
   "cell_type": "markdown",
   "metadata": {
    "collapsed": true
   },
   "source": [
    "As you can see, a simple change may make the code visibly faster. In practice, optimisations like this are significant only when you use really large datasets."
   ]
  },
  {
   "cell_type": "code",
   "execution_count": null,
   "metadata": {
    "collapsed": true
   },
   "outputs": [],
   "source": []
  }
 ],
 "metadata": {
  "kernelspec": {
   "display_name": "Python 3",
   "language": "python",
   "name": "python3"
  },
  "language_info": {
   "codemirror_mode": {
    "name": "ipython",
    "version": 3
   },
   "file_extension": ".py",
   "mimetype": "text/x-python",
   "name": "python",
   "nbconvert_exporter": "python",
   "pygments_lexer": "ipython3",
   "version": "3.6.2"
  }
 },
 "nbformat": 4,
 "nbformat_minor": 2
}
