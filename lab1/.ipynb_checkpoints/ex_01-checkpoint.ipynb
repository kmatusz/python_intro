{
 "cells": [
  {
   "cell_type": "markdown",
   "metadata": {},
   "source": [
    "# Intro to Python - exercises\n",
    "When solving exercises in this course it is advised to sometimes search for necessary information on the Internet (google, stackoverflow etc.). Finding a solution to a problem using Internet in a skillful and fast way is crucial.\n",
    "\n",
    "## Basic variables and print\n",
    "* Create a basic Hello World program as follows: create two strings, one for each word. Create a third variable, which will concatenate two previous variables, and then show its contents."
   ]
  },
  {
   "cell_type": "code",
   "execution_count": null,
   "metadata": {
    "collapsed": true
   },
   "outputs": [],
   "source": []
  },
  {
   "cell_type": "markdown",
   "metadata": {},
   "source": [
    "## Lists\n",
    "Do following exercises about lists:\n",
    "* Create a list of three names.\n",
    "* Add a fourth name at the end of the list.\n",
    "* Add another name at the beginning of the list.\n",
    "* Delete third element from the list.\n",
    "* Show the number of elements on the list.\n",
    "* Using Python syntax to check if following names are on the list: Anna, John, Siegfried"
   ]
  },
  {
   "cell_type": "code",
   "execution_count": null,
   "metadata": {
    "collapsed": true
   },
   "outputs": [],
   "source": []
  },
  {
   "cell_type": "markdown",
   "metadata": {},
   "source": [
    "* Create a list containing your three lucky numbers.\n",
    "* Concatenate two lists.\n",
    "* Create a new list, which will be a list of all three lists available in the notebook.\n",
    "* Create a copy of the list of lists.\n",
    "* Clear the original list of lists.\n",
    "* Find Python 3.6 documentation for lists."
   ]
  },
  {
   "cell_type": "code",
   "execution_count": null,
   "metadata": {
    "collapsed": true
   },
   "outputs": [],
   "source": []
  },
  {
   "cell_type": "markdown",
   "metadata": {},
   "source": [
    "## Sets\n",
    "Create three sets of colors: colorsRainbow, colorsRGB, colorsCMYK, and do the following exercises:\n",
    "* Add white to rainbow.\n",
    "* Delete \"K\" color from CMYK.\n",
    "* Create a set of these colors, which are both in rainbow and RGB.\n",
    "* Create a set of these colors, which are in rainbow and are not in CMYK.\n",
    "* Create a set which contains colors from all sets.\n",
    "* Make a list of the set of all colors."
   ]
  },
  {
   "cell_type": "code",
   "execution_count": null,
   "metadata": {
    "collapsed": true
   },
   "outputs": [],
   "source": []
  },
  {
   "cell_type": "markdown",
   "metadata": {},
   "source": [
    "## Dictionaries\n",
    "Create an English-Polish (or another foreign language) dictionary, which contains your three favorite English words and then:\n",
    "* Add \"author\", which will contain your first name and surname.\n",
    "* Delete the second added word from dictionary.\n",
    "* Create a dictionary, which will be a translation of the previous dictionary. (inverse dictionaries)\n",
    "* Concatenate two existing dictionaries.\n",
    "* Find Python 3.6 documentation for dictionaries."
   ]
  },
  {
   "cell_type": "code",
   "execution_count": null,
   "metadata": {
    "collapsed": true
   },
   "outputs": [],
   "source": []
  },
  {
   "cell_type": "markdown",
   "metadata": {},
   "source": [
    "## Tuples\n",
    "Create the following two tuples:\n",
    "* Tuple containing your name, surname and year of birth.\n",
    "* Tuple containing three lists: colorsRainbow, colorsRGB, colorsCMYK."
   ]
  },
  {
   "cell_type": "code",
   "execution_count": null,
   "metadata": {
    "collapsed": true
   },
   "outputs": [],
   "source": []
  }
 ],
 "metadata": {
  "kernelspec": {
   "display_name": "Python 3",
   "language": "python",
   "name": "python3"
  },
  "language_info": {
   "codemirror_mode": {
    "name": "ipython",
    "version": 3
   },
   "file_extension": ".py",
   "mimetype": "text/x-python",
   "name": "python",
   "nbconvert_exporter": "python",
   "pygments_lexer": "ipython3",
   "version": "3.6.0"
  }
 },
 "nbformat": 4,
 "nbformat_minor": 2
}
