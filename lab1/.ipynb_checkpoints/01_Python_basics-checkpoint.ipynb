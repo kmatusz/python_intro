{
 "cells": [
  {
   "cell_type": "markdown",
   "metadata": {},
   "source": [
    "### Python and SQL: intro / SQL platforms - 2019 Z\n",
    "\n",
    "\n",
    "### This material may not be copied or published elsewhere (including Facebook and other social media) without the  permission of the author!\n",
    "\n",
    "# Introduction to Python\n",
    "\n",
    "Python's origins lie way back in distant December 1989. It was created by Guido van Rossum (the Python community's <b>Benevolent Dictator for Life </b>) as a hobby project to work on during week around Christmas. Python is famously named after the British comedy troupe Monty Python's Flying Circus. \n",
    "\n",
    "Python was born out of:\n",
    "- ABC language [used by Dutch Research Institute in 1980s]\n",
    "- Amoeba distributed operating system. Van Rossum created Python as scripting language for Amoeba system. \n",
    "\n",
    "### History of Python\n",
    "- Python 1.0 (1994)\n",
    "- Python 2.0 (2000)\n",
    "- Python 3.0 (2008)\n",
    "- …..\n",
    "- Python 3.5 (2015)\n",
    "- Python 3.6 (2016)\n",
    "- Python 3.7 (2018)\n",
    "- Python 3.8 (2019)\n",
    "\n",
    "File extension: .py or .ipynb (jupyter)\n",
    "\n",
    "<img src=\"guido.jpg\">\n",
    "\n",
    "\n",
    "## Why Python ?\n",
    "\n",
    "### Strengths\n",
    "\n",
    "- Free \n",
    "- Portable (Linux, Windows, Mac, Cray, and more…) \n",
    "- Object-Oriented\n",
    "- Ease of use \n",
    "- Many libraries\n",
    "- Component integration\n",
    "\n",
    "\n",
    "### Weaknesses\n",
    "\n",
    "- Slower than C,C++\n",
    "\n",
    "\n",
    "## Python features\n",
    "\n",
    "* Dynamic typing \n",
    "* Automatic memory management\n",
    "* Built-in data structures (lists, dictionaries, tuples,sets)\n",
    "* Python C, C++ API\n",
    "\n",
    "* Polymorphism - particular object belonging to a particular class can be used in the same way as if it was a different object belonging to a different class.\n",
    "\n",
    "* Operator overloading\n",
    "\n",
    "* Multiple inheritance\n",
    "\n"
   ]
  },
  {
   "cell_type": "markdown",
   "metadata": {},
   "source": [
    "## Python, IPython, Jupyter\n",
    "Python is an interpreted programming language. Python has two basic modes:\n",
    "- script \n",
    "- interactive.\n",
    "\n",
    "<b>Script mode</b> <br>\n",
    "The mode where the scripted and finished .py files are run in the Python interpreter. <br>\n",
    "\n",
    "<b>Interactive mode </b> <br> \n",
    "Command line shell which gives immediate feedback for each statement, while running previously fed statements in active memory. As new lines are fed into the interpreter, the fed program is evaluated both in part and in whole. <br> \n",
    "<br>\n",
    "\n",
    "<b>IPython + Jupyter </b> <br>\n",
    "It is impossible to stop the program for a while, maintain its state, modify something and return to the operation in the script mode. IPython (Interactive Python) has been created to solve this problem. It allows interactive work on scripts and stores objects in the memory permanently, so it is always possible to return to them. You can also run other code, stop it, and everything will be stored in memory. Jupyter on the other hand, is a graphical interface to run IPython.\n",
    "<br>\n",
    "## Other programming environments\n",
    "There are multiple environments to work in when it comes to Python, from simple Notepad, vim, nano, notepad++, Sublime Text, through Jupyter Notebook, to IDEs (PyCharm, Spyder etc.). Everyone is free to choose their preferred solution. During the course Jupyter Notebook is sufficient, because it is convenient, fast, has a user-friendly interface and makes making readable, structured text comments easy.\n",
    "\n",
    "\n",
    "# Installing Jupyter using Anaconda \n",
    "\n",
    "Installing Python and Jupyter using the Anaconda Distribution is strongly recommended. \n",
    "Anaconda Distribution includes: \n",
    "- Python, \n",
    "- Jupyter Notebook, \n",
    "- other commonly used packages for scientific computing and data science\n",
    "\n",
    "#### Install Anaconda\n",
    "- First, download Anaconda from https://www.anaconda.com/download/. Choose Anaconda version, which is suitable for your system architecture (32/64 Bit). Downloading Anaconda’s Python 3.7 version is recommended.\n",
    "\n",
    "- Second, install the version of Anaconda, which you downloaded, following the instructions from the download page.\n",
    "\n",
    "#### Run Jupyter\n",
    "To run the Jupyter notebook, run the following command at the Terminal (Mac/Linux) or Command Prompt (Windows - WinSymbol+R->type:cmd):\n",
    "- jupyter notebook <br>\n",
    "or \n",
    "- double-click the <b>start_jupyter.bat </b> file, which was delivered by instructor at the lab1.\n",
    "\n",
    "\n",
    "\n",
    "## Using Notebook\n",
    "\n",
    "Using a notebook is very easy. Some important pieces of information:\n",
    "* You run a single cell using Shift+Enter (focus moves to the next cell) or Ctrl+Enter (focus stays in the same cell)\n",
    "* If you want to run all cells or e.g. all below active cell, click on Cell and appropriate Run option.\n",
    "\n",
    "You may use the icons above:\n",
    "* Rectangle: stop current action\n",
    "* +: add new, empty cell below currently active cell\n",
    "* Arrows up/down: move cells\n",
    "* Scissors: cut cell; two pieces of paper: copy cell\n",
    "* Dropdown menu: choose cell type (Markdown - text, Code - Python code)\n",
    "* Kernel (notebook) is restarted using Kernel > Restart or a Refresh (circle) arrow. Restarting a notebook makes you lose all results.\n",
    "* Once in a while, a notebook is saved automatically. However in crucial moments it is good practice to save manually (Ctrl+S). You should also do this before running new code.\n",
    "\n",
    "It is suggested that you get used to keyboard shortcuts. If you do anything repeatedly, you should search for a keyboard shortcut and start using it. Even if at the beginning it is slower, after a while work will become much faster.\n",
    "* Ctrl+/ : comment a line\n",
    "* Shift+Del or Ctrl+D : delete current line\n",
    "* Tab : indent a line or multiple lines, Shift+Tab : remove indentation (both at the beginning of a line or if many lines have been chosen)\n",
    "* Tab : autocomplete (at the end of a line)\n",
    "* Shift+Tab : show documentation of an object (usually between parentheses: () )\n",
    "* Help > Keyboard Shortcuts : show other keyboard shortcuts\n",
    "* Some people may miss a shortcut to duplicate a line. Fortunately, there is an Open Source solution: [Line duplication](https://github.com/jupyter/notebook/issues/1816)\n",
    "* If you don't like classic Notebook there, you can obviously change it: [Themes](https://github.com/dunovank/jupyter-themes)\n",
    "\n",
    "Keyboard shortcuts are also available in Notebook to work on cells. You can either be inside the cell (edit a cell) or work on cells. Switch between modes using keys Esc/Enter. In the cell edition mode additional shortcuts are available, e.g.:\n",
    "* A : add cell above\n",
    "* B : add cell below\n",
    "* C : copy a cell, X : cut, V : paste\n",
    "* Shift+Up : choose cells above, Shift+Down : choose cells below.\n"
   ]
  },
  {
   "cell_type": "markdown",
   "metadata": {},
   "source": [
    "# Basics: code organization and data structures\n",
    "## Code organization\n",
    "In Python code organization is based on indentation, as opposed to many other programming languages. We cannot use whitespace freely (apart from blank lines). <b> Code blocks are created using indentation levels, and not curly brackets {}.</b>\n",
    "The code below is incorrect and will not run:\n",
    "\n",
    "<b>Remark</b>\n",
    "Use # to put some comments into your code!\n",
    "\n",
    "##### Be careful with indentations !!!"
   ]
  },
  {
   "cell_type": "code",
   "execution_count": 1,
   "metadata": {},
   "outputs": [
    {
     "ename": "IndentationError",
     "evalue": "unexpected indent (<ipython-input-1-93b1bf8a2710>, line 2)",
     "output_type": "error",
     "traceback": [
      "\u001b[0;36m  File \u001b[0;32m\"<ipython-input-1-93b1bf8a2710>\"\u001b[0;36m, line \u001b[0;32m2\u001b[0m\n\u001b[0;31m    y = 2\u001b[0m\n\u001b[0m    ^\u001b[0m\n\u001b[0;31mIndentationError\u001b[0m\u001b[0;31m:\u001b[0m unexpected indent\n"
     ]
    }
   ],
   "source": [
    "x = 1\n",
    "    y = 2"
   ]
  },
  {
   "cell_type": "code",
   "execution_count": 4,
   "metadata": {},
   "outputs": [
    {
     "name": "stdout",
     "output_type": "stream",
     "text": [
      "1\n",
      "2\n"
     ]
    }
   ],
   "source": [
    "# You need to remove unnecessary indentation to run the code.\n",
    "x = 1\n",
    "y = 2\n",
    "\n",
    "print(x)\n",
    "print(y)"
   ]
  },
  {
   "cell_type": "markdown",
   "metadata": {},
   "source": [
    "At the beginning it may be frustrating, but you will get used to it soon. Thanks to this approach, the code is always readable. Indentation is always right, and the number of unnecessary characters (for example {}) and lines is limited. There are no semicolons at the end of the line ;.\n",
    "\n",
    "**Tip: Tab and Shift+Tab allow you to indent one or multiple lines (in case of one line cursor must be at the beginning, unless you use alternative shortcuts: Ctrl+] or Ctrl+[, which also work on multiple lines)**\n",
    "\n",
    "### Python keywords\n",
    "\n",
    "<img src=\"keywords.jpg\">"
   ]
  },
  {
   "cell_type": "markdown",
   "metadata": {},
   "source": [
    "## Print function and \"hello world\"\n",
    "\"print\" function displays text."
   ]
  },
  {
   "cell_type": "code",
   "execution_count": 3,
   "metadata": {},
   "outputs": [
    {
     "name": "stdout",
     "output_type": "stream",
     "text": [
      "Hello world! :)\n"
     ]
    }
   ],
   "source": [
    "print(\"Hello world! :)\")\n",
    "\n",
    "# Since Python 3 print is a function, so using parentheses is required.\n",
    "# In older versions of Python the following code was also right:\n",
    "# print \"Hello world! :)\"\n",
    "# Usually a print statement without parentheses is the easiest way to distinguish Python 2 from 3."
   ]
  },
  {
   "cell_type": "markdown",
   "metadata": {},
   "source": [
    "## Variables\n",
    "Python is an interpreted language (does not require compiling), which is characterized by dynamic type system - you are not required to declare variables' type. Interpreter itself guesses it. <br>\n",
    "\n",
    "<table><tr><th>Type</th> <th>Example</th>\t<th>Description</th></tr>\n",
    "<tr><th>int</th> <th>x = 1</th>\t<th>integers (i.e., whole numbers)</th></tr>\n",
    "<tr><th>float</th>\t<th>x = 1.0</th><th>floating-point numbers (i.e., real numbers)</th></tr>\n",
    "<tr><th>complex</th><th>x = 1 + 2j</th>\t<th>Complex numbers (i.e., numbers with real and imaginary part)</th><tr>\n",
    "<tr><th>bool</th><th>x = True</th>\t<th>Boolean: True/False values</th></tr>\n",
    "<tr><th>str</th><th>x = 'abc'</th>\t<th>String: characters or text</tr>\n",
    "<tr> <th>NoneType</th><th>x = None</th><th> Special object indicating nulls</th> </tr>\n",
    "</table>"
   ]
  },
  {
   "cell_type": "code",
   "execution_count": 15,
   "metadata": {},
   "outputs": [
    {
     "name": "stdout",
     "output_type": "stream",
     "text": [
      "Type of variable e: <class 'float'> , type of variable text:  <class 'str'> , type of variable pi:  <class 'str'>\n"
     ]
    }
   ],
   "source": [
    "e = 2.72\n",
    "pi = \"3.14\"\n",
    "text = \"Hello world!\"\n",
    "print(\"Type of variable e:\", type(e),\n",
    "      \", type of variable text: \", type(text),\n",
    "      \", type of variable pi: \", type(pi))\n",
    "# Open parenthesis of print function allows for multiple lines with any indentation."
   ]
  },
  {
   "cell_type": "markdown",
   "metadata": {},
   "source": [
    "Print function can take multiple arguments.\n",
    "\n",
    "Showing a variable's content may be achieved in one more way:"
   ]
  },
  {
   "cell_type": "code",
   "execution_count": 18,
   "metadata": {},
   "outputs": [
    {
     "name": "stdout",
     "output_type": "stream",
     "text": [
      "old style\n",
      "Type of variable e: <class 'float'>, type of variable text: <class 'str'>, type of variable pi: <class 'str'>\n",
      "\n",
      "new style\n",
      "name=Tom,surname=Smith\n"
     ]
    }
   ],
   "source": [
    "#old style printing\n",
    "print(\"old style\")\n",
    "print(\"Type of variable e: %s, type of variable text: %s, type of variable pi: %s\"\n",
    "      % (type(e), type(text), type(pi)))\n",
    "\n",
    "#new style printing\n",
    "print(\"\\nnew style\")\n",
    "print('name={0},surname={1}'.format('Tom', 'Smith'))"
   ]
  },
  {
   "cell_type": "markdown",
   "metadata": {},
   "source": [
    "In this way you can control formatting better.\n",
    "We avoid unnecessary space before a comma.\n",
    "You can read more here: https://pyformat.info/"
   ]
  },
  {
   "cell_type": "markdown",
   "metadata": {},
   "source": [
    "### Dynamic type system\n",
    "Dynamic type system has both advantages:\n",
    "* faster code writing\n",
    "* less code\n",
    "\n",
    "and disadvantages:\n",
    "* longer running time\n",
    "* possibility of errors which are difficult to debug.\n",
    "\n",
    "Python allows easy typecasting (changing a variable type):"
   ]
  },
  {
   "cell_type": "code",
   "execution_count": null,
   "metadata": {
    "collapsed": true
   },
   "outputs": [],
   "source": [
    "# Concacenating two strings using operator \"+\":\n",
    "print(str(e) + pi)\n",
    "# Adding two numbers:\n",
    "print(e + float(pi))"
   ]
  },
  {
   "cell_type": "code",
   "execution_count": null,
   "metadata": {
    "collapsed": true
   },
   "outputs": [],
   "source": [
    "# Fortunately, this is not possible:\n",
    "print(e + float(text))"
   ]
  },
  {
   "cell_type": "markdown",
   "metadata": {},
   "source": [
    "## Operators\n",
    "Besides obvious operators (+,-,/,\\*) integer division (// - quotient, % - remainder) and exponentiation (\\*\\*) are available.\n",
    "\n",
    "Comparison operators are usual: >=, >, <=, <, ==, !=.\n",
    "\n",
    "Logical operators: & - AND, | - OR, ^ - XOR, ~ - NOT."
   ]
  },
  {
   "cell_type": "markdown",
   "metadata": {},
   "source": [
    "## Data structures\n",
    "### Objects\n",
    "Before describing other data structures you should know something about objects.\n",
    "\n",
    "A difference between objects and functions is (simplifying) as follows:\n",
    "**Functions is a set of instructions to run. They don't have a state and cannot \"exist\". Objects exist, there may be many objects simultaneously, and each one may be in a different state.**\n",
    "\n",
    "To say it in an easy way, object is a complex element created basing on the definition of given class. Class may have multiple attributes (variables) and methods (functions). Both attributes being a class's element and available methods are accessed using a dot.\n",
    "\n",
    "``` python\n",
    "# Show contents of attribute \"variable1\" being an element of object1 \n",
    "print(object1.variable1)\n",
    "# The method is similarly used\n",
    "result = object1.function1(pi)\n",
    "```\n",
    "\n",
    "### Basic data structures\n",
    "Four basic data structures in Python:\n",
    "* lists\n",
    "* tuples\n",
    "* dictionaries\n",
    "* sets\n",
    "\n",
    "Array in Python exists as an object type, but is nearly never used in practice. Numpy is used for large tables/numerical matrices, and other cases are easier using lists. Full documentation is available here: https://docs.python.org/3/tutorial/datastructures.html"
   ]
  },
  {
   "cell_type": "markdown",
   "metadata": {},
   "source": [
    "### Lists\n",
    "Lists are a convenient and flexible method of storing data. Lists are dynamic and may change their state (are mutable). You can extend and modify them, which makes them very practical in everyday usage. This code shows their capabilities:"
   ]
  },
  {
   "cell_type": "code",
   "execution_count": 7,
   "metadata": {},
   "outputs": [
    {
     "name": "stdout",
     "output_type": "stream",
     "text": [
      "[] []\n",
      "red\n",
      "['red', 'blue', 'green', 'orange']\n",
      "['blue', 'green']\n"
     ]
    }
   ],
   "source": [
    "# Lists are created using square brackets\n",
    "emptyList = []\n",
    "\n",
    "# You can also create a new list object.\n",
    "emptyList2 = list()\n",
    "print(emptyList, emptyList2)\n",
    "\n",
    "colors = [\"red\", \"blue\", \"green\", \"orange\"]\n",
    "\n",
    "# Lists are indexed by a number\n",
    "print(colors[0])\n",
    "print(colors[:])\n",
    "\n",
    "# Print elements [1,3)\n",
    "print(colors[1:3])"
   ]
  },
  {
   "cell_type": "code",
   "execution_count": 9,
   "metadata": {},
   "outputs": [
    {
     "name": "stdout",
     "output_type": "stream",
     "text": [
      "['red', 'blue', 'green', 'orange', 'yellow']\n",
      "['red', 'blue', 'green', 'orange', 'yellow', 'black']\n",
      "['red', 'blue', 'black', 'green', 'orange', 'yellow', 'black']\n"
     ]
    }
   ],
   "source": [
    "# You can append an element to the end of the list in two ways\n",
    "colors[len(colors):] =[\"yellow\"]\n",
    "print(colors)\n",
    "\n",
    "# or use an existing method of a list object.\n",
    "colors.append(\"black\")\n",
    "print(colors)\n",
    "\n",
    "# You can also insert an element to the inside of the list\n",
    "colors.insert(2, \"black\")\n",
    "print(colors)"
   ]
  },
  {
   "cell_type": "code",
   "execution_count": 10,
   "metadata": {},
   "outputs": [
    {
     "name": "stdout",
     "output_type": "stream",
     "text": [
      "Count 'black': 2\n",
      "Is 'black' in the colors list?: True\n",
      "Is 'black' not in the colors list?: False\n"
     ]
    }
   ],
   "source": [
    "# Count how many times an element occurs:\n",
    "print(\"Count 'black':\", colors.count(\"black\"))\n",
    "\n",
    "# Does an element exist in the list?\n",
    "print(\"Is 'black' in the colors list?:\", \"black\" in colors)\n",
    "print(\"Is 'black' not in the colors list?:\", \"black\" not in colors)"
   ]
  },
  {
   "cell_type": "code",
   "execution_count": 11,
   "metadata": {},
   "outputs": [
    {
     "name": "stdout",
     "output_type": "stream",
     "text": [
      "[4, 5, 5, 6]\n",
      "[4, 5, 6]\n",
      "[4, 6]\n"
     ]
    }
   ],
   "source": [
    "# There are two ways of deleting elements\n",
    "numbers = [4, 5,5, 6]\n",
    "print(numbers)\n",
    "\n",
    "# Delete the first element equal to a given value\n",
    "numbers.remove(5)\n",
    "print(numbers)\n",
    "\n",
    "numbers = [4, 5, 6]\n",
    "# Delete element using an index\n",
    "numbers.pop(1)\n",
    "print(numbers)"
   ]
  },
  {
   "cell_type": "code",
   "execution_count": null,
   "metadata": {
    "collapsed": true
   },
   "outputs": [],
   "source": [
    "numbers = [4, 5, 6]\n",
    "# You can also reverse a list\n",
    "numbers.reverse()\n",
    "print(numbers)"
   ]
  },
  {
   "cell_type": "code",
   "execution_count": 13,
   "metadata": {},
   "outputs": [
    {
     "name": "stdout",
     "output_type": "stream",
     "text": [
      "['red', 'blue', 'green', 4, 5, 6]\n",
      "['red', 'blue', 'green', [4, 5, 6]]\n",
      "[['red', 'blue', 'green'], [4, 5, 6]]\n"
     ]
    }
   ],
   "source": [
    "colors = [\"red\", \"blue\", \"green\"]\n",
    "numbers = [4, 5, 6]\n",
    "# Lists are very flexible. They allow you to have different data types in one list\n",
    "mixedList = colors + numbers\n",
    "print(mixedList)\n",
    "\n",
    "# You can even create a list of lists and other combinations\n",
    "mixedList1 = list(colors)\n",
    "mixedList1.append(numbers)\n",
    "print(mixedList1)\n",
    "mixedList2 = []\n",
    "mixedList2.append(colors)\n",
    "mixedList2.append(numbers)\n",
    "print(mixedList2)"
   ]
  },
  {
   "cell_type": "markdown",
   "metadata": {},
   "source": [
    "In the cell above function list() created a new list. Why did we have to do it to create mixedList2? What would happen if you wrote mixedList1 = colors instead of using a function?\n",
    "\n",
    "You can test this solution and wonder, why is the result different. We will return to this question soon."
   ]
  },
  {
   "cell_type": "markdown",
   "metadata": {},
   "source": [
    "Obviously sorting lists is also possible. How to sort a list in reverse? Place a cursor on \"sort\" or inside parentheses after \"sort\" and click Shift+Tab."
   ]
  },
  {
   "cell_type": "code",
   "execution_count": 14,
   "metadata": {},
   "outputs": [
    {
     "name": "stdout",
     "output_type": "stream",
     "text": [
      "sorted\n",
      "['blue', 'green', 'red']\n",
      "change the order\n",
      "['red', 'green', 'blue']\n",
      "Length before clearing 3\n",
      "[]\n"
     ]
    }
   ],
   "source": [
    "# Sort:\n",
    "print('sorted')\n",
    "colors.sort()\n",
    "print(colors)\n",
    "\n",
    "print('change the order')\n",
    "colors.sort(reverse=True)\n",
    "print(colors)\n",
    "\n",
    "print(\"Length before clearing\", len(colors))\n",
    "# ... and clear:\n",
    "colors.clear()\n",
    "print(colors)"
   ]
  },
  {
   "cell_type": "markdown",
   "metadata": {},
   "source": [
    "### Sets and lists\n",
    "Sets are most closely related to lists. You can perform similar operations as in the case of lists. Changing one data structure to another is very simple."
   ]
  },
  {
   "cell_type": "code",
   "execution_count": 3,
   "metadata": {},
   "outputs": [
    {
     "name": "stdout",
     "output_type": "stream",
     "text": [
      "['black', 'blue', 'green', 'yellow', 'black', 'green', 'orange', 'red']\n"
     ]
    }
   ],
   "source": [
    "#let's create first two lists\n",
    "colors1 = ['black', 'blue', 'green','yellow']\n",
    "colors2 = ['black', 'green', 'orange', 'red']\n",
    "# You can join two lists using addition\n",
    "allColors = colors1 + colors2\n",
    "print(allColors)"
   ]
  },
  {
   "cell_type": "markdown",
   "metadata": {},
   "source": [
    "As you can see, \"black\" and \"green\" are in the same list two times. What if we wanted to use lists as sets and avoid duplicates? We can convert lists to sets, which we will join.\n",
    "To avoid mistakes and maintain logical cohesion, operator of joining sets is different than lists.\n",
    "\n",
    "Pay attention to different bracket type in sets {}. We can create new sets using class name set() or by putting elements in {}. NOTICE: by typing \"var={}\" we create a dictionary and not a set, see more below."
   ]
  },
  {
   "cell_type": "code",
   "execution_count": 2,
   "metadata": {},
   "outputs": [
    {
     "name": "stdout",
     "output_type": "stream",
     "text": [
      "set()\n",
      "{'navy', 'brown'}\n",
      "{'black', 'red', 'orange', 'navy', 'green', 'brown', 'blue', 'yellow'}\n",
      "{'violet', 'yellow', 'black', 'navy', 'orange', 'green', 'brown', 'blue', 'red'}\n",
      "{'violet', 'yellow', 'black', 'navy', 'orange', 'green', 'brown', 'blue'}\n",
      "['violet', 'yellow', 'black', 'navy', 'orange', 'green', 'brown', 'blue']\n"
     ]
    }
   ],
   "source": [
    "#Convert list to set\n",
    "# Create an empty set.\n",
    "emptySet = set()\n",
    "print(emptySet)\n",
    "colors3 = {'brown', 'navy'}\n",
    "print(colors3)\n",
    "allColors = set(colors1) | set(colors2) | colors3\n",
    "# add one color more to allColors, you add elements to a set (and append to a list)\n",
    "print(allColors)\n",
    "allColors.add(\"violet\")\n",
    "print(allColors)\n",
    "# discard \"red\" from set (equivalent in lists: remove)\n",
    "allColors.discard(\"red\")\n",
    "print(allColors)\n",
    "\n",
    "# Convert set to list\n",
    "allColors = list(allColors)\n",
    "print(allColors)"
   ]
  },
  {
   "cell_type": "markdown",
   "metadata": {},
   "source": [
    "<b>Arithmetic operations on sets (for sets x, y):</b>\n",
    "* Joining x.update(y), using an operator: x|=y\n",
    "* Intersecion x.intersection_update(y), using an operator: x&=y\n",
    "* Difference x.difference_update(y), using an operator: x-=y\n",
    "* Symmetric difference x.symmetric_difference_update(y), using an operator: x^=y\n",
    "\n",
    "For example:"
   ]
  },
  {
   "cell_type": "code",
   "execution_count": 4,
   "metadata": {},
   "outputs": [
    {
     "name": "stdout",
     "output_type": "stream",
     "text": [
      "{'green', 'black'}\n",
      "{'orange', 'blue', 'yellow', 'red'}\n"
     ]
    }
   ],
   "source": [
    "#intersection\n",
    "commonColors = set(colors1) & set(colors2)\n",
    "print(commonColors)\n",
    "\n",
    "#difference\n",
    "notCommonColors = set(colors1) ^ set(colors2)\n",
    "print(notCommonColors)"
   ]
  },
  {
   "cell_type": "markdown",
   "metadata": {},
   "source": [
    "Obviously you can check inclusion of sets:"
   ]
  },
  {
   "cell_type": "code",
   "execution_count": 5,
   "metadata": {},
   "outputs": [
    {
     "name": "stdout",
     "output_type": "stream",
     "text": [
      "Is colors2 a subset of colors1? False\n",
      "Is ['black', 'blue'] a subset of colors1? True\n"
     ]
    }
   ],
   "source": [
    "print(\"Is colors2 a subset of colors1?\", set(colors1) > set(colors2))\n",
    "print(\"Is ['black', 'blue'] a subset of colors1?\", set(colors1) > set(['black', 'blue']))"
   ]
  },
  {
   "cell_type": "markdown",
   "metadata": {},
   "source": [
    "### Dictionaries\n",
    "Dictionaries are similar to sets. A set guarantees uniqueness of elements, so you can use it as a key/index. For every key there is a value (or None). Dictionaries are in a way an extensions of sets. In sets we have just unique values and in dictionaries unique keys. We can create an empty dict using {}."
   ]
  },
  {
   "cell_type": "code",
   "execution_count": null,
   "metadata": {
    "collapsed": true
   },
   "outputs": [],
   "source": [
    "emptyDict = {}\n",
    "emptyDict2 = dict()\n",
    "print(emptyDict, emptyDict2)\n",
    "author = {'name': 'Tom', 'surname':'Silver', 'age': 22}\n",
    "print(author)\n",
    "# adding elements is simply defining value for a key\n",
    "author[\"height\"] = 192\n",
    "print(author)\n",
    "# key may also be a number\n",
    "author[1] = \"Python >> R\"\n",
    "print(author)\n",
    "# you can delete a single element from a dictionary\n",
    "del author[\"age\"]\n",
    "print(author)"
   ]
  },
  {
   "cell_type": "code",
   "execution_count": null,
   "metadata": {
    "collapsed": true
   },
   "outputs": [],
   "source": [
    "# Just as in the case of sets you can join/update two dictionaries\n",
    "authorsAge = {'age': 32}\n",
    "author.update(authorsAge)\n",
    "print(author)"
   ]
  },
  {
   "cell_type": "markdown",
   "metadata": {},
   "source": [
    "Other operations which are possible to perform on sets cannot be performed on dictionaries, because in two dictionaries for the same key there may be a different value. Many operations would be ambiguous.\n",
    "It is possible to perform operations on keys alone."
   ]
  },
  {
   "cell_type": "code",
   "execution_count": null,
   "metadata": {
    "collapsed": true
   },
   "outputs": [],
   "source": [
    "print(set(author.keys()))"
   ]
  },
  {
   "cell_type": "markdown",
   "metadata": {},
   "source": [
    "Sometimes you may want to print key/value pairs from a dictionary:"
   ]
  },
  {
   "cell_type": "code",
   "execution_count": null,
   "metadata": {
    "collapsed": true
   },
   "outputs": [],
   "source": [
    "print(author.items())"
   ]
  },
  {
   "cell_type": "markdown",
   "metadata": {},
   "source": [
    "### Tuples\n",
    "Tuples are the last built-in data type. In practice, this data structure is not used directly too often in the area of data analysis. Tuples are similar to lists in some ways. You can choose elements by index, tuples may contain various variable types, be nested, etc.\n",
    "\n",
    "Parenthesis is used for tuples \"(\", reminder: lists use square brackets \"[\", sets \"{\" curly brackets."
   ]
  },
  {
   "cell_type": "code",
   "execution_count": null,
   "metadata": {
    "collapsed": true
   },
   "outputs": [],
   "source": [
    "tuple1 = (5, 10, 15, \"Hurray!\")\n",
    "print(tuple1)\n",
    "print(tuple1[1])\n",
    "print(tuple1[3])"
   ]
  },
  {
   "cell_type": "markdown",
   "metadata": {},
   "source": [
    "#### Tuples immutability\n",
    " - tuples are static/immutable objects\n",
    " - they cannot be changed after being created, \n",
    " - it is not possible to add elements to existing tuple (see code below).\n",
    "\n",
    "This behavior is completely different than in the case of lists, sets and dictionaries, which are dynamic and mutable. It makes them flexible and convenient for fast programming.\n",
    "\n",
    "Why do tuples and static objects exist? Because of their efficiency. If we cannot do \"anything' with them, they are simple to use, so we may have fast and efficient access to them. In practice the only case, in which we will use tuples, is returning multiple values from a function."
   ]
  },
  {
   "cell_type": "code",
   "execution_count": 6,
   "metadata": {},
   "outputs": [
    {
     "ename": "NameError",
     "evalue": "name 'tuple1' is not defined",
     "output_type": "error",
     "traceback": [
      "\u001b[1;31m---------------------------------------------------------------------------\u001b[0m",
      "\u001b[1;31mNameError\u001b[0m                                 Traceback (most recent call last)",
      "\u001b[1;32m<ipython-input-6-eadde8908b34>\u001b[0m in \u001b[0;36m<module>\u001b[1;34m\u001b[0m\n\u001b[1;32m----> 1\u001b[1;33m \u001b[0mtuple1\u001b[0m\u001b[1;33m[\u001b[0m\u001b[1;36m1\u001b[0m\u001b[1;33m]\u001b[0m \u001b[1;33m=\u001b[0m \u001b[1;36m5\u001b[0m\u001b[1;33m\u001b[0m\u001b[1;33m\u001b[0m\u001b[0m\n\u001b[0m",
      "\u001b[1;31mNameError\u001b[0m: name 'tuple1' is not defined"
     ]
    }
   ],
   "source": [
    "#we obtain error below\n",
    "tuple1[1] = 5"
   ]
  },
  {
   "cell_type": "markdown",
   "metadata": {},
   "source": [
    "### Strings\n",
    "Strinngs are another immutable data type. Strings will be covered more in depth later on. In Python, both single ' and double \" (as well as triple single, ''', for multiple lines) may be used to create strings."
   ]
  },
  {
   "cell_type": "code",
   "execution_count": null,
   "metadata": {
    "collapsed": true
   },
   "outputs": [],
   "source": [
    "a = \"hello\"\n",
    "b = 'world'\n",
    "# You can print first four characters in order\n",
    "print(a[0], a[1], a[2], a[3])\n",
    "# Or at once\n",
    "print(a[0:4])\n",
    "# Adding two strings together creates a third objects, a and b remain unchanged.\n",
    "print(a + b)\n",
    "c = '''This is a string\n",
    "that contains\n",
    "many\n",
    "lines ... '''\n",
    "print(c)"
   ]
  },
  {
   "cell_type": "markdown",
   "metadata": {},
   "source": [
    "### Conditional expressions\n",
    "\n",
    "We use if .... else statments to define conditional expressions:"
   ]
  },
  {
   "cell_type": "code",
   "execution_count": null,
   "metadata": {
    "collapsed": true
   },
   "outputs": [],
   "source": [
    "if expression1:\n",
    "   statement(s)\n",
    "   if expression2:\n",
    "      statement(s)\n",
    "   elif expression3:\n",
    "      statement(s)\n",
    "   else\n",
    "      statement(s)\n",
    "elif expression4:\n",
    "   statement(s)\n",
    "else:\n",
    "   statement(s)"
   ]
  },
  {
   "cell_type": "code",
   "execution_count": 4,
   "metadata": {},
   "outputs": [
    {
     "name": "stdout",
     "output_type": "stream",
     "text": [
      "Value between 2 and 10, inclusive\n",
      "Expression value is less than 200\n",
      "Which is 100\n"
     ]
    }
   ],
   "source": [
    "\n",
    "x = 3\n",
    "if x < 2:\n",
    "    print(\"Value below 2\")\n",
    "elif x > 10:\n",
    "    print(\"Value above 10\")\n",
    "else:\n",
    "    print(\"Value between 2 and 10, inclusive\")\n",
    "    \n",
    "var = 100\n",
    "if var < 200:\n",
    "    print(\"Expression value is less than 200\")\n",
    "    if var == 150:\n",
    "        print(\"Which is 150\")\n",
    "    elif var == 100:\n",
    "        print(\"Which is 100\")\n",
    "    elif var == 50:\n",
    "        print(\"Which is 50\")\n",
    "elif var < 50:\n",
    "    print(\"Expression value is less than 50\")\n",
    "else:\n",
    "    print(\"Could not find true expression\")\n",
    "    "
   ]
  },
  {
   "cell_type": "markdown",
   "metadata": {
    "collapsed": true
   },
   "source": [
    "### Loops\n",
    "\n",
    "Two types of loops:\n",
    "- for loop\n",
    "- while loop\n",
    "\n",
    "### For, ranges and iterators\n",
    "There is an easy way to create ranges of numbers in Python. See a few examples using \"for\" and iterator \"range\":"
   ]
  },
  {
   "cell_type": "code",
   "execution_count": 13,
   "metadata": {},
   "outputs": [
    {
     "name": "stdout",
     "output_type": "stream",
     "text": [
      "range(0, 4)\n",
      "Print all elements in range(4): \n",
      "0\n",
      "1\n",
      "2\n",
      "3\n",
      "Print all elements in range(2, 10, 2): \n",
      "2\n",
      "4\n",
      "6\n",
      "8\n",
      "Print all elements in range(0, -11, -3): \n",
      "0\n",
      "-3\n",
      "-6\n",
      "-9\n"
     ]
    }
   ],
   "source": [
    "# If you want to simply print a range of numbers, you will see a \"strange\" result:\n",
    "print(range(4))\n",
    "# Output \"range(0,4)\" tells you what has been created.\n",
    "# It does not tell you about all the elements it can show.\n",
    "\n",
    "#Print numbers 0,1,2,3\n",
    "#Remark: 4 will be not printed below!\n",
    "print(\"Print all elements in range(4): \")\n",
    "for i in range(4):\n",
    "    print(i)\n",
    "# See two other examples:\n",
    "print(\"Print all elements in range(2, 10, 2): \")\n",
    "for i in range(2, 10, 2):\n",
    "    print(i)\n",
    "\n",
    "print(\"Print all elements in range(0, -11, -3): \")\n",
    "for i in range(0, -11, -3):\n",
    "    print(i)\n",
    "    "
   ]
  },
  {
   "cell_type": "markdown",
   "metadata": {},
   "source": [
    "Iterators allow you to traverse a container (e.g. a list), when you want to see what each element contains."
   ]
  },
  {
   "cell_type": "code",
   "execution_count": 10,
   "metadata": {},
   "outputs": [
    {
     "name": "stdout",
     "output_type": "stream",
     "text": [
      "1st approach\n",
      "red\n",
      "blue\n",
      "green\n",
      "\n",
      "\n",
      "2nd approach\n",
      "red\n",
      "blue\n",
      "green\n"
     ]
    }
   ],
   "source": [
    "#1st approach\n",
    "print(\"1st approach\")    \n",
    "colors = [\"red\", \"blue\", \"green\"]\n",
    "for color in colors:\n",
    "    print(color)\n",
    "print(\"\\n\\n2nd approach\")    \n",
    "#2nd approach\n",
    "for i in range(len(colors)):\n",
    "    print(colors[i])"
   ]
  },
  {
   "cell_type": "markdown",
   "metadata": {},
   "source": [
    "### while loop"
   ]
  },
  {
   "cell_type": "code",
   "execution_count": 5,
   "metadata": {},
   "outputs": [
    {
     "name": "stdout",
     "output_type": "stream",
     "text": [
      "1 2.0 0.7182818284590451\n",
      "2 2.25 0.4682818284590451\n",
      "3 2.37037037037037 0.3479114580886753\n",
      "4 2.44140625 0.2768755784590451\n",
      "5 2.4883199999999994 0.22996182845904567\n",
      "6 2.5216263717421135 0.19665545671693163\n",
      "7 2.546499697040712 0.17178213141833298\n",
      "8 2.565784513950348 0.1524973145086972\n",
      "9 2.5811747917131984 0.13710703674584668\n",
      "10 2.5937424601000023 0.12453936835904278\n",
      "11 2.6041990118975287 0.11408281656151642\n",
      "12 2.613035290224676 0.10524653823436925\n",
      "13 2.6206008878857308 0.09768094057331433\n"
     ]
    }
   ],
   "source": [
    "import math\n",
    "# Description of other functions available in math module.\n",
    "# https://docs.python.org/3/library/math.html\n",
    "math.pow(2, 3)\n",
    "tol = 0.1\n",
    "diff = 1\n",
    "k = 1\n",
    "while(diff > tol):\n",
    "    diff = math.e - abs(math.pow((1 + 1 / k), k))\n",
    "    print(k, math.pow((1 + 1 / k), k), diff)\n",
    "    k += 1"
   ]
  },
  {
   "cell_type": "markdown",
   "metadata": {},
   "source": [
    "### Continue\n",
    "Sometimes you may want to skip a loop iteration. You could use continue statement for that. For example:"
   ]
  },
  {
   "cell_type": "code",
   "execution_count": 6,
   "metadata": {},
   "outputs": [
    {
     "name": "stdout",
     "output_type": "stream",
     "text": [
      "1\n",
      "2\n",
      "4\n",
      "5\n",
      "7\n",
      "8\n",
      "10\n"
     ]
    }
   ],
   "source": [
    "for i in range(11):\n",
    "    if i % 3 == 0:\n",
    "        continue\n",
    "    else:\n",
    "        print(i)"
   ]
  },
  {
   "cell_type": "markdown",
   "metadata": {},
   "source": [
    "### Break\n",
    "A loop (for and while) may be stopped using break statement."
   ]
  },
  {
   "cell_type": "code",
   "execution_count": 5,
   "metadata": {},
   "outputs": [
    {
     "name": "stdout",
     "output_type": "stream",
     "text": [
      "1 2.0 0.7182818284590451\n",
      "2 2.25 0.4682818284590451\n",
      "3 2.37037037037037 0.3479114580886753\n",
      "4 2.44140625 0.2768755784590451\n",
      "5 2.4883199999999994 0.22996182845904567\n",
      "6 2.5216263717421135 0.19665545671693163\n",
      "7 2.546499697040712 0.17178213141833298\n",
      "8 2.565784513950348 0.1524973145086972\n",
      "9 2.5811747917131984 0.13710703674584668\n",
      "10 2.5937424601000023 0.12453936835904278\n",
      "11 2.6041990118975287 0.11408281656151642\n",
      "12 2.613035290224676 0.10524653823436925\n",
      "13 2.6206008878857308 0.09768094057331433\n",
      "14 2.6271515563008685 0.0911302721581766\n",
      "15 2.6328787177279187 0.08540311073112639\n",
      "Value of tol (tolerance) is probably wrong... break.\n"
     ]
    }
   ],
   "source": [
    "import math\n",
    "# Description of other functions available in math module.\n",
    "# https://docs.python.org/3/library/math.html\n",
    "math.pow(2, 3)\n",
    "tol = 0\n",
    "diff = 1\n",
    "k = 1\n",
    "while(diff > tol):\n",
    "    diff = math.e - abs(math.pow((1 + 1 / k), k))\n",
    "    print(k, math.pow((1 + 1 / k), k), diff)\n",
    "    k += 1\n",
    "    if k > 15:\n",
    "        print(\"Value of tol (tolerance) is probably wrong... break.\")\n",
    "        break"
   ]
  },
  {
   "cell_type": "markdown",
   "metadata": {},
   "source": [
    "## Functions"
   ]
  },
  {
   "cell_type": "markdown",
   "metadata": {},
   "source": [
    "- Functions blocks begin with <B>def</B> word followed by function name and parentheses ()\n",
    "- Any input arguments should be put in parenthesses\n",
    "- The code block starts with <B>colon : </B>\n",
    "- The statment return exits a function and optionally passing back expression to caller.\n"
   ]
  },
  {
   "cell_type": "code",
   "execution_count": 9,
   "metadata": {},
   "outputs": [
    {
     "name": "stdout",
     "output_type": "stream",
     "text": [
      "Inside the function :  68\n",
      "0\n"
     ]
    }
   ],
   "source": [
    "total=0\n",
    "def sum( arg1, arg2 ):\n",
    "    #Add both the parameters and return them.\"\n",
    "    total = arg1 + arg2\n",
    "    print(\"Inside the function : \", total)\n",
    "    return total\n",
    "\n",
    "sum(23,45)\n",
    "print(total)"
   ]
  },
  {
   "cell_type": "code",
   "execution_count": null,
   "metadata": {
    "collapsed": true
   },
   "outputs": [],
   "source": []
  }
 ],
 "metadata": {
  "kernelspec": {
   "display_name": "Python 3",
   "language": "python",
   "name": "python3"
  },
  "language_info": {
   "codemirror_mode": {
    "name": "ipython",
    "version": 3
   },
   "file_extension": ".py",
   "mimetype": "text/x-python",
   "name": "python",
   "nbconvert_exporter": "python",
   "pygments_lexer": "ipython3",
   "version": "3.7.3"
  }
 },
 "nbformat": 4,
 "nbformat_minor": 2
}
