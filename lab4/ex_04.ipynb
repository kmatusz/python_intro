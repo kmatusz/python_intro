{
 "cells": [
  {
   "cell_type": "markdown",
   "metadata": {},
   "source": [
    "# Numpy - exercises\n",
    "## Creating objects\n",
    "Create the following objects:\n",
    "* 10-element, 0-dimensional vector of zeros.\n",
    "* 8-element, 1-dimensional vector of ones.\n",
    "* 12-element matrix filled with numbers from 2 to 14.\n",
    "* just as above, but make sure that the numbers are integers."
   ]
  },
  {
   "cell_type": "code",
   "execution_count": 3,
   "metadata": {},
   "outputs": [],
   "source": [
    "import numpy as np"
   ]
  },
  {
   "cell_type": "code",
   "execution_count": 17,
   "metadata": {},
   "outputs": [
    {
     "name": "stdout",
     "output_type": "stream",
     "text": [
      "[0. 0. 0. 0. 0. 0. 0. 0. 0. 0.]\n",
      "[1. 1. 1. 1. 1. 1. 1. 1.]\n",
      "[ 2  3  4  5  6  7  8  9 10 11 12 13 14]\n",
      "[0 0 0 0 0 0 0 0 0 0]\n",
      "[1 1 1 1 1 1 1 1]\n",
      "[ 2  3  4  5  6  7  8  9 10 11 12 13 14]\n"
     ]
    }
   ],
   "source": [
    "print(np.zeros(10))\n",
    "print(np.ones(8))\n",
    "print(np.arange(2,15))\n",
    "\n",
    "\n",
    "\n",
    "print(np.zeros(10).astype(int))\n",
    "print(np.ones(8).astype(int))\n",
    "print(np.arange(2,15).astype(int))\n",
    "\n"
   ]
  },
  {
   "cell_type": "markdown",
   "metadata": {},
   "source": [
    "Create the following objects:\n",
    "* Matrix of dimensions 4,5 filled with random numbers from distribution U~[0,1)\n",
    "* Matrix of dimensions 3,6 filled with random numbers from distribution N~(0,1)\n",
    "* Matrix of dimensions 2,5,6 filled with random numbers from beta distribution (0.5, 0.5)"
   ]
  },
  {
   "cell_type": "code",
   "execution_count": 51,
   "metadata": {},
   "outputs": [
    {
     "name": "stdout",
     "output_type": "stream",
     "text": [
      "[[0.97131689 0.10248173 0.07790366 0.47359839 0.90683536]\n",
      " [0.69942031 0.79572804 0.54245756 0.48803217 0.52482949]\n",
      " [0.61607739 0.96664423 0.58658304 0.99149112 0.56668548]\n",
      " [0.05128627 0.56753078 0.66224543 0.48798266 0.50138473]]\n",
      "Normal: \n",
      "[[-0.49913428 -0.95774176 -0.58012781  0.40887323  1.35082732  0.56414424]\n",
      " [-0.60476807 -0.02036168  0.64776727  0.75484403 -0.47625378  0.84685697]\n",
      " [-0.78318023  1.26843002  1.73418421 -1.08438185 -0.54500156 -1.01618189]]\n",
      "Beta: \n",
      "[[[9.97713014e-01 7.36366680e-01 3.52969860e-01 6.12667579e-01\n",
      "   1.28678517e-01 4.05043282e-02]\n",
      "  [6.10211439e-01 2.63856938e-01 9.49277502e-01 9.85113977e-01\n",
      "   4.16630755e-01 2.13068097e-01]\n",
      "  [6.87406037e-02 9.96971599e-01 1.96207158e-01 7.42639041e-01\n",
      "   1.17487686e-01 7.24358612e-01]\n",
      "  [3.38243634e-01 8.77871358e-01 6.99754383e-01 7.63342188e-01\n",
      "   3.12178015e-04 6.29791954e-04]\n",
      "  [9.69504537e-01 4.46755700e-01 4.63378871e-01 2.99860637e-02\n",
      "   2.19697792e-03 8.70726169e-01]]\n",
      "\n",
      " [[3.85239741e-01 3.30056862e-01 9.59839175e-01 2.60928753e-01\n",
      "   9.10977182e-02 4.31329367e-01]\n",
      "  [9.08121097e-01 5.38654885e-02 6.20440775e-01 7.73027806e-01\n",
      "   8.98942638e-01 6.39426198e-02]\n",
      "  [4.56756002e-01 9.99298500e-01 6.32109532e-01 9.95460950e-01\n",
      "   3.93029694e-02 6.40536275e-01]\n",
      "  [9.30959370e-01 3.06999535e-02 1.60944838e-01 9.99999444e-01\n",
      "   6.02261316e-01 6.03425304e-01]\n",
      "  [2.62983817e-02 8.48269877e-01 4.59405448e-01 7.10869441e-01\n",
      "   8.85729435e-01 5.75666768e-01]]]\n"
     ]
    }
   ],
   "source": [
    "print(np.random.random(20).reshape((4,5)))\n",
    "print(\"Normal: \")\n",
    "print(np.random.normal(size = 18).reshape((3,6)))\n",
    "print(\"Beta: \")\n",
    "# if size is 2,5,6 there is no way to split that into quaters (as in the following cells)\n",
    "x = np.random.beta(0.5, 0.5, size = 2*5*6).reshape((2,5,6))\n",
    "print(x)"
   ]
  },
  {
   "cell_type": "markdown",
   "metadata": {},
   "source": [
    "Transform the last matrix from the previous cell:\n",
    "* Change its dimension to (x, 6) in such a way that numpy infers x.\n",
    "* Split it to two halves vertically.\n",
    "* Split one of the halves horizotally, so you get two quarters (A and B)\n",
    "* Transform A to a one- and two-dimensional vector in two ways (in both cases): without copying and with copying.\n",
    "* Transform A and B to shape (x, 2) and concatenate them vertically and horizontally."
   ]
  },
  {
   "cell_type": "code",
   "execution_count": 52,
   "metadata": {},
   "outputs": [
    {
     "name": "stdout",
     "output_type": "stream",
     "text": [
      "[[9.97713014e-01 7.36366680e-01 3.52969860e-01 6.12667579e-01\n",
      "  1.28678517e-01 4.05043282e-02]\n",
      " [6.10211439e-01 2.63856938e-01 9.49277502e-01 9.85113977e-01\n",
      "  4.16630755e-01 2.13068097e-01]\n",
      " [6.87406037e-02 9.96971599e-01 1.96207158e-01 7.42639041e-01\n",
      "  1.17487686e-01 7.24358612e-01]\n",
      " [3.38243634e-01 8.77871358e-01 6.99754383e-01 7.63342188e-01\n",
      "  3.12178015e-04 6.29791954e-04]\n",
      " [9.69504537e-01 4.46755700e-01 4.63378871e-01 2.99860637e-02\n",
      "  2.19697792e-03 8.70726169e-01]\n",
      " [3.85239741e-01 3.30056862e-01 9.59839175e-01 2.60928753e-01\n",
      "  9.10977182e-02 4.31329367e-01]\n",
      " [9.08121097e-01 5.38654885e-02 6.20440775e-01 7.73027806e-01\n",
      "  8.98942638e-01 6.39426198e-02]\n",
      " [4.56756002e-01 9.99298500e-01 6.32109532e-01 9.95460950e-01\n",
      "  3.93029694e-02 6.40536275e-01]\n",
      " [9.30959370e-01 3.06999535e-02 1.60944838e-01 9.99999444e-01\n",
      "  6.02261316e-01 6.03425304e-01]\n",
      " [2.62983817e-02 8.48269877e-01 4.59405448e-01 7.10869441e-01\n",
      "  8.85729435e-01 5.75666768e-01]]\n"
     ]
    },
    {
     "data": {
      "text/plain": [
       "array([1, 2, 3])"
      ]
     },
     "execution_count": 52,
     "metadata": {},
     "output_type": "execute_result"
    }
   ],
   "source": [
    "x1 = x.reshape(-1,6)\n",
    "print(x1)\n",
    "x2 = np.split(x1, 2, axis = 1)[0]\n",
    "A, B = np.split(x2, 2, axis = 0)\n",
    "np.array([1,2,3])"
   ]
  },
  {
   "cell_type": "code",
   "execution_count": 50,
   "metadata": {},
   "outputs": [
    {
     "data": {
      "text/plain": [
       "array([[0.74594548, 0.97947036, 0.99312917],\n",
       "       [0.64125386, 0.20023489, 0.98352167],\n",
       "       [0.12881952, 0.99116485, 0.48581377],\n",
       "       [0.47854685, 0.0890405 , 0.82418375],\n",
       "       [0.6838783 , 0.00194062, 0.98310052],\n",
       "       [0.96189605, 0.00117895, 0.00400108]])"
      ]
     },
     "execution_count": 50,
     "metadata": {},
     "output_type": "execute_result"
    }
   ],
   "source": [
    "A#.reshape(2,-1).size"
   ]
  },
  {
   "cell_type": "markdown",
   "metadata": {},
   "source": [
    "Sort the last matrix in four different ways (by rows/by columns, ascending/descending)."
   ]
  },
  {
   "cell_type": "code",
   "execution_count": null,
   "metadata": {
    "collapsed": true
   },
   "outputs": [],
   "source": [
    "\n",
    "\n"
   ]
  },
  {
   "cell_type": "markdown",
   "metadata": {},
   "source": [
    "Implement two-dimenstional Rosenbrock function (https://en.wikipedia.org/wiki/Rosenbrock_function) in two ways: using np.apply_along_axis and for loop.\n",
    "Compare how fast the two implementations are."
   ]
  },
  {
   "cell_type": "code",
   "execution_count": null,
   "metadata": {
    "collapsed": true
   },
   "outputs": [],
   "source": [
    "x = random.normal(size=(10000, 2))\n",
    "\n"
   ]
  }
 ],
 "metadata": {
  "kernelspec": {
   "display_name": "Python 3",
   "language": "python",
   "name": "python3"
  },
  "language_info": {
   "codemirror_mode": {
    "name": "ipython",
    "version": 3
   },
   "file_extension": ".py",
   "mimetype": "text/x-python",
   "name": "python",
   "nbconvert_exporter": "python",
   "pygments_lexer": "ipython3",
   "version": "3.7.3"
  }
 },
 "nbformat": 4,
 "nbformat_minor": 2
}
